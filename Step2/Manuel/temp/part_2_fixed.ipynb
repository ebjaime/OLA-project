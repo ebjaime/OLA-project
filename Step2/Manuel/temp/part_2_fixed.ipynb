{
  "nbformat": 4,
  "nbformat_minor": 0,
  "metadata": {
    "colab": {
      "provenance": []
    },
    "kernelspec": {
      "name": "python3",
      "display_name": "Python 3"
    },
    "language_info": {
      "name": "python"
    }
  },
  "cells": [
    {
      "cell_type": "markdown",
      "source": [
        "## Environment"
      ],
      "metadata": {
        "id": "Dj0OURPH3o7v"
      }
    },
    {
      "cell_type": "code",
      "source": [
        "import numpy as np"
      ],
      "metadata": {
        "id": "B-I42SsV3rAd"
      },
      "execution_count": 61,
      "outputs": []
    },
    {
      "cell_type": "code",
      "source": [
        "class Environment():\n",
        "\n",
        "  def __init__(self, n_arms, probabilities, bids, average_number_of_clicks, average_cum_daily_cost,noise_clicks,noise_cost):\n",
        "    self.n_arms = n_arms                                            # number of prices\n",
        "    self.probabilities = probabilities                              # conversion rates for every price/arm\n",
        "    self.bids = bids                                                # bids\n",
        "    self.average_number_of_clicks = average_number_of_clicks        # curve of average number of clicks (y = f(bids))\n",
        "    self.average_cum_daily_cost = average_cum_daily_cost            # curve of cumulative daily cost (y = g(bids))\n",
        "    self.noise_clicks = noise_clicks                                # gaussian noise for the average number of clicks sampling\n",
        "    self.noise_cost = noise_cost                                    # gaussian noise for the cumulative daily cost sampling\n",
        "\n",
        "  # daily rewards\n",
        "  def round(self, pulled_price, pulled_bid):\n",
        "    clicks = int(np.random.normal(self.average_number_of_clicks(self.bids[pulled_bid]),self.noise_clicks))        # number of people that click on the ad\n",
        "    reward_click = clicks if clicks >= 0 else 0\n",
        "    reward_price = np.random.binomial(reward_click,self.probabilities[pulled_price])                         # number of people that buy once they clicked\n",
        "    costs = np.random.normal(self.average_cum_daily_cost(self.bids[pulled_bid]),self.noise_cost)                  # cumulative daily cost\n",
        "    reward_cost = costs if costs > 0 else 0\n",
        "\n",
        "    return reward_price, reward_click, reward_cost"
      ],
      "metadata": {
        "id": "KHKMI86i3skQ"
      },
      "execution_count": 62,
      "outputs": []
    },
    {
      "cell_type": "markdown",
      "source": [
        "## Advertising"
      ],
      "metadata": {
        "id": "SFRb1XPhhRS7"
      }
    },
    {
      "cell_type": "code",
      "source": [
        "from sklearn.gaussian_process import GaussianProcessRegressor\n",
        "from sklearn.gaussian_process.kernels import RBF, ConstantKernel as C"
      ],
      "metadata": {
        "id": "gQgsfPw5K8S7"
      },
      "execution_count": 63,
      "outputs": []
    },
    {
      "cell_type": "code",
      "source": [
        "class Learner:\n",
        "  def __init__(self,n_arms):\n",
        "    self.n_arms = n_arms\n",
        "    self.t = 0                                              # current round value\n",
        "    self.rewards_per_arm = x = [[] for i in range(n_arms)]  # value of collected rewards for each round and for each arm\n",
        "    self.collected_rewards = np.array([])                   # values of collected rewards for each round\n",
        "\n",
        "  # function that updates the observation's list once the reward is returned by the environment\n",
        "  def update_observations(self, pulled_arm, reward):\n",
        "    self.rewards_per_arm[pulled_arm].append(reward)\n",
        "    self.collected_rewards = np.append(self.collected_rewards,reward)"
      ],
      "metadata": {
        "id": "akamNhJahUCc"
      },
      "execution_count": 64,
      "outputs": []
    },
    {
      "cell_type": "code",
      "source": [
        "class GPTS_Learner(Learner):\n",
        "  # constructor takes as input the number arms (bids), intializes to 0 their means and to an aye their standard deviation; we also need to store the arm that we pull at each round to fot the GPs\n",
        "  def __init__(self, n_arms, arms):\n",
        "    super().__init__(n_arms)\n",
        "    self.arms = arms\n",
        "    self.means_clicks = np.zeros(self.n_arms)\n",
        "    self.means_costs = np.zeros(self.n_arms)\n",
        "    self.sigmas_clicks = np.ones(self.n_arms) * 10\n",
        "    self.sigmas_costs = np.ones(self.n_arms) * 10\n",
        "    self.pulled_arms = []\n",
        "    self.collected_clicks = np.array([])\n",
        "    self.collected_costs = np.array([])\n",
        "    # we initialize the parameters of the kernel and the two GPs\n",
        "    alpha_clicks = 10  # standard deviation of the noise\n",
        "    alpha_costs = 10   # standard deviation of the noise\n",
        "    kernel_clicks = C(1.0, constant_value_bounds = 'fixed') * RBF(1.0, length_scale_bounds = 'fixed') # kernel (squared exponential) with the range of the parameters\n",
        "    kernel_costs = C(1.0, constant_value_bounds = 'fixed') * RBF(1.0, length_scale_bounds = 'fixed')  # kernel (squared exponential) with the range of the parameters\n",
        "    self.gp_clicks = GaussianProcessRegressor(kernel = kernel_clicks, alpha = alpha_clicks**2)  # (normalize_y = True)\n",
        "    self.gp_costs = GaussianProcessRegressor(kernel = kernel_costs, alpha = alpha_costs**2)     # (normalize_y = True)\n",
        "\n",
        "  # we also need to update the value of the least pulled arm (reward[0]: n_clicks, reward[1]: costs)\n",
        "  def update_observations(self, arm_idx, reward):\n",
        "    super().update_observations(arm_idx, reward)\n",
        "    self.pulled_arms.append(self.arms[arm_idx])\n",
        "\n",
        "  # update the GP estimations and consequently the means and sigmas of each arm\n",
        "  def update_model(self):\n",
        "    # trining inputs and targets\n",
        "    #if not(self.t % 10):\n",
        "    x = np.atleast_2d(self.pulled_arms).T\n",
        "    ind_clicks = [(2*i) for i in range(int(len(self.collected_rewards)/2)) ]\n",
        "    ind_costs = [(2*i+1) for i in range(int(len(self.collected_rewards)/2)) ]\n",
        "    y_clicks = self.collected_rewards[ind_clicks]\n",
        "    y_costs = self.collected_rewards[ind_costs]\n",
        "    # fit the GP\n",
        "    if len(y_clicks) > 1: \n",
        "      self.gp_clicks.fit(x,y_clicks)\n",
        "      self.gp_costs.fit(x,y_costs)\n",
        "      # update values of means and sigmas with the new predictions\n",
        "      self.means_clicks, self.sigmas_clicks = self.gp_clicks.predict(np.atleast_2d(self.arms).T, return_std = True)\n",
        "      self.means_costs, self.sigmas_costs = self.gp_costs.predict(np.atleast_2d(self.arms).T, return_std = True)\n",
        "      self.sigmas_clicks = np.maximum(self.sigmas_clicks, 1e-2)  # force sigmas > 0\n",
        "      self.sigmas_costs = np.maximum(self.sigmas_costs, 1e-2)  # force sigmas > 0\n",
        "\n",
        "  # functions that calls the functions implemented above (reward[0]: n_clicks, reward[1]: costs)\n",
        "  def update(self, pulled_arm, reward):\n",
        "    self.t += 1\n",
        "    self.update_observations(pulled_arm, reward)\n",
        "    self.collected_clicks = np.append(self.collected_clicks,reward[0])\n",
        "    self.collected_costs = np.append(self.collected_costs,reward[1])\n",
        "    self.update_model()\n",
        "\n",
        "  # function in which the learner chooses the arm to pull at each round\n",
        "  def pull_arm(self, opt_ratexprice):\n",
        "    # returns index of the maximum value drawn from the arm normal distribution\n",
        "    sampled_clicks = np.random.normal(self.means_clicks, self.sigmas_clicks)\n",
        "    sampled_costs = np.random.normal(self.means_costs, self.sigmas_costs)\n",
        "    return np.argmax(opt_ratexprice*sampled_clicks - sampled_costs)"
      ],
      "metadata": {
        "id": "fhgjXE0RGDo0"
      },
      "execution_count": 65,
      "outputs": []
    },
    {
      "cell_type": "code",
      "source": [
        "class GPUCB_Learner(Learner):\n",
        "  # constructor takes as input the number arms (bids), intializes to 0 their means and to an aye their standard deviation; we also need to store the arm that we pull at each round to fot the GPs\n",
        "  def __init__(self, n_arms, arms):\n",
        "    super().__init__(n_arms)\n",
        "    self.arms = arms\n",
        "    self.means_clicks = np.zeros(self.n_arms)\n",
        "    self.means_costs = np.zeros(self.n_arms)\n",
        "    self.sigmas_clicks = np.ones(self.n_arms) * 10\n",
        "    self.sigmas_costs = np.ones(self.n_arms) * 10\n",
        "    self.pulled_arms = []\n",
        "    self.collected_clicks = np.array([])\n",
        "    self.collected_costs = np.array([])\n",
        "    # we initialize the parameters of the kernel and the two GPs\n",
        "    alpha_clicks = 10  # standard deviation of the noise\n",
        "    alpha_costs = 10   # standard deviation of the noise\n",
        "    kernel_clicks = C(1.0, constant_value_bounds = 'fixed') * RBF(1.0, length_scale_bounds = 'fixed') # kernel (squared exponential) with the range of the parameters\n",
        "    kernel_costs = C(1.0, constant_value_bounds = 'fixed') * RBF(1.0, length_scale_bounds = 'fixed')  # kernel (squared exponential) with the range of the parameters\n",
        "    self.gp_clicks = GaussianProcessRegressor(kernel = kernel_clicks, alpha = alpha_clicks**2)  # (normalize_y = True)\n",
        "    self.gp_costs = GaussianProcessRegressor(kernel = kernel_costs, alpha = alpha_costs**2)     # (normalize_y = True)\n",
        "\n",
        "  # we also need to update the value of the least pulled arm (reward[0]: n_clicks, reward[1]: costs)\n",
        "  def update_observations(self, arm_idx, reward):\n",
        "    super().update_observations(arm_idx, reward)\n",
        "    self.pulled_arms.append(self.arms[arm_idx])\n",
        "\n",
        "  # update the GP estimations and consequently the means and sigmas of each arm\n",
        "  def update_model(self):\n",
        "    # trining inputs and targets\n",
        "    #if not(self.t % 10):\n",
        "    x = np.atleast_2d(self.pulled_arms).T\n",
        "    ind_clicks = [(2*i) for i in range(int(len(self.collected_rewards)/2)) ]\n",
        "    ind_costs = [(2*i+1) for i in range(int(len(self.collected_rewards)/2)) ]\n",
        "    y_clicks = self.collected_rewards[ind_clicks]\n",
        "    y_costs = self.collected_rewards[ind_costs]\n",
        "    # fit the GP\n",
        "    if len(y_clicks) > 1: \n",
        "      self.gp_clicks.fit(x,y_clicks)\n",
        "      self.gp_costs.fit(x,y_costs)\n",
        "      # update values of means and sigmas with the new predictions\n",
        "      self.means_clicks, self.sigmas_clicks = self.gp_clicks.predict(np.atleast_2d(self.arms).T, return_std = True)\n",
        "      self.means_costs, self.sigmas_costs = self.gp_costs.predict(np.atleast_2d(self.arms).T, return_std = True)\n",
        "      self.sigmas_clicks = np.maximum(self.sigmas_clicks, 1e-2)  # force sigmas > 0\n",
        "      self.sigmas_costs = np.maximum(self.sigmas_costs, 1e-2)  # force sigmas > 0\n",
        "\n",
        "  # functions that calls the functions implemented above (reward[0]: n_clicks, reward[1]: costs)\n",
        "  def update(self, pulled_arm, reward):\n",
        "    self.t += 1\n",
        "    self.update_observations(pulled_arm, reward)\n",
        "    self.collected_clicks = np.append(self.collected_clicks,reward[0])\n",
        "    self.collected_costs = np.append(self.collected_costs,reward[1])\n",
        "    self.update_model()\n",
        "\n",
        "  # function in which the learner chooses the arm to pull at each round\n",
        "  def pull_arm(self, opt_ratexprice):\n",
        "    # returns index of the maximum value drawn from the arm normal distribution\n",
        "    sampled_clicks = np.random.normal(self.means_clicks, self.sigmas_clicks) + self.sigmas_clicks\n",
        "    sampled_costs = np.random.normal(self.means_costs, self.sigmas_costs) - self.sigmas_costs\n",
        "    return np.argmax(opt_ratexprice*sampled_clicks - sampled_costs)"
      ],
      "metadata": {
        "id": "bVKv83N_bqna"
      },
      "execution_count": 66,
      "outputs": []
    },
    {
      "cell_type": "markdown",
      "source": [
        "## Simulation"
      ],
      "metadata": {
        "id": "zWucpWCHhTci"
      }
    },
    {
      "cell_type": "code",
      "source": [
        "import matplotlib.pyplot as plt\n",
        "from tqdm import tqdm"
      ],
      "metadata": {
        "id": "HHBYQJ68hKQT"
      },
      "execution_count": 67,
      "outputs": []
    },
    {
      "cell_type": "code",
      "source": [
        "# generic\n",
        "T = 365                                # horizon of experiment\n",
        "n_experiments = 300                    # since the reward functions are stochastic, to better visualize the results and remove the noise we do multiple experiments"
      ],
      "metadata": {
        "id": "lgiMX_uahrbZ"
      },
      "execution_count": 68,
      "outputs": []
    },
    {
      "cell_type": "code",
      "source": [
        "# pricing\n",
        "n_prices = 5\n",
        "prices = [5,6,7,8,9]\n",
        "p = np.array([0.15,0.1,0.1,0.35,0.1])             # bernoulli distributions for the reward functions\n",
        "opt_rate = p[np.argmax(p*prices)]                 # optimal arm\n",
        "print(\"Pricing (optimal price):\")\n",
        "print(\"idx: \" + str(np.argmax(p*prices)) + \"  price: \" + str(prices[np.argmax(p*prices)]) + \"  rate: \" + str(opt_rate) + \"  price*rate: \" + str(opt_rate*prices[np.argmax(p*prices)]))"
      ],
      "metadata": {
        "colab": {
          "base_uri": "https://localhost:8080/"
        },
        "id": "rp7Fw22Fha3F",
        "outputId": "5dceb5bb-598e-422c-aa20-8cbb69338188"
      },
      "execution_count": 69,
      "outputs": [
        {
          "output_type": "stream",
          "name": "stdout",
          "text": [
            "Pricing (optimal price):\n",
            "idx: 3  price: 8  rate: 0.35  price*rate: 2.8\n"
          ]
        }
      ]
    },
    {
      "cell_type": "code",
      "source": [
        "# advertising\n",
        "n_bids = 100\n",
        "min_bid = 0.0\n",
        "max_bid = 1.0\n",
        "bids = np.linspace(min_bid, max_bid, n_bids)\n",
        "sigma_clicks = 10\n",
        "sigma_costs = 10\n",
        "def clicks(x):\n",
        "  return 100 * (1.0 - np.exp(-4*x+3*x**3))\n",
        "def costs(x):\n",
        "  return 70 * (1.0 - np.exp(-7*x))\n",
        "opt_bid = bids[np.argmax(opt_rate*prices[np.argmax(p*prices)]*clicks(bids)-costs(bids))]\n",
        "fig, ax = plt.subplots()\n",
        "ax.plot(bids,clicks(bids),'blue',bids,costs(bids),'orange')\n",
        "ax.legend([\"Number of clicks\", \"Cumulative Costs\"])\n",
        "ax.axvline(opt_bid,c='red')\n",
        "print(\"Advertising (optimal bid):\")\n",
        "print(\"idx: \" + str(np.argmax(opt_rate*prices[np.argmax(p*prices)]*clicks(bids)-costs(bids))) + \"  bid: \" + str(opt_bid) + \"  clicks-costs: \" + str(clicks(opt_bid)-costs(opt_bid)))"
      ],
      "metadata": {
        "colab": {
          "base_uri": "https://localhost:8080/",
          "height": 466
        },
        "id": "1mbnyMJJjqQ6",
        "outputId": "52bcdaa3-363a-4b95-f1f4-5d9ced413000"
      },
      "execution_count": 70,
      "outputs": [
        {
          "output_type": "stream",
          "name": "stdout",
          "text": [
            "Advertising (optimal bid):\n",
            "idx: 65  bid: 0.6565656565656566  clicks-costs: 13.794848078095768\n"
          ]
        },
        {
          "output_type": "display_data",
          "data": {
            "text/plain": [
              "<Figure size 640x480 with 1 Axes>"
            ],
            "image/png": "[encoded data removed]"
          },
          "metadata": {}
        }
      ]
    },
    {
      "cell_type": "markdown",
      "source": [
        "## Known pricing"
      ],
      "metadata": {
        "id": "PXzvIoAO_7WR"
      }
    },
    {
      "cell_type": "code",
      "source": [
        "# experiments\n",
        "gpts_rewards_per_experiment = []\n",
        "gpucb_rewards_per_experiment = []\n",
        "\n",
        "for e in tqdm(range(0,100)):  # cycle on experiments\n",
        "  env = Environment(n_arms = n_prices,\n",
        "                    probabilities = p,\n",
        "                    bids = bids,\n",
        "                    average_number_of_clicks = clicks,\n",
        "                    average_cum_daily_cost = costs,\n",
        "                    noise_clicks = sigma_clicks,\n",
        "                    noise_cost = sigma_costs)\n",
        "  gpts_learner = GPTS_Learner(n_arms = n_bids,\n",
        "                              arms = bids)\n",
        "  gpucb_learner = GPUCB_Learner(n_arms = n_bids,\n",
        "                                arms = bids)\n",
        "\n",
        "\n",
        "\n",
        "  for t in range(0,T):  # cycle on time horizon\n",
        "    \n",
        "    # GPTS\n",
        "    pulled_price_ts = np.argmax(p*prices)\n",
        "    pulled_bid_ts = gpts_learner.pull_arm(opt_rate*prices[pulled_price_ts])\n",
        "    reward_price_ts, reward_click_ts, reward_cost_ts = env.round(pulled_price_ts, pulled_bid_ts)\n",
        "    gpts_learner.update(pulled_bid_ts, [reward_click_ts,reward_cost_ts])\n",
        "\n",
        "    # GPUCB\n",
        "    pulled_price_ucb = np.argmax(p*prices)\n",
        "    pulled_bid_ucb = gpts_learner.pull_arm(opt_rate*prices[pulled_price_ucb])\n",
        "    reward_price_ucb, reward_click_ucb, reward_cost_ucb = env.round(pulled_price_ucb, pulled_bid_ucb)\n",
        "    gpucb_learner.update(pulled_bid_ucb, [reward_click_ucb,reward_cost_ucb])\n",
        "\n",
        "  gpts_rewards_per_experiment.append(opt_rate*prices[np.argmax(p*prices)]*gpts_learner.collected_clicks - gpts_learner.collected_costs)\n",
        "  gpucb_rewards_per_experiment.append(opt_rate*prices[np.argmax(p*prices)]*gpucb_learner.collected_clicks - gpucb_learner.collected_costs)\n",
        "\n"
      ],
      "metadata": {
        "id": "YvOLQjxQtZ7Q",
        "colab": {
          "base_uri": "https://localhost:8080/"
        },
        "outputId": "c6dda347-36fc-459b-e845-4fef0cdd4fd9"
      },
      "execution_count": 71,
      "outputs": [
        {
          "output_type": "stream",
          "name": "stderr",
          "text": [
            "100%|██████████| 100/100 [25:34<00:00, 15.35s/it]\n"
          ]
        }
      ]
    },
    {
      "cell_type": "code",
      "source": [
        "opt = opt_rate*prices[np.argmax(p*prices)]*clicks(opt_bid) - costs(opt_bid)\n",
        "plt.figure(0)\n",
        "plt.ylabel(\"Regret\")\n",
        "plt.xlabel(\"t\")\n",
        "plt.plot(np.cumsum(np.mean(opt - gpts_rewards_per_experiment, axis = 0)), 'r')\n",
        "plt.plot(np.cumsum(np.mean(opt - gpucb_rewards_per_experiment, axis = 0)), 'b')\n",
        "plt.legend([\"GPTS\",\"GPUCB\"])\n",
        "plt.show"
      ],
      "metadata": {
        "colab": {
          "base_uri": "https://localhost:8080/",
          "height": 467
        },
        "id": "wH7emrj624DO",
        "outputId": "fa39a3d4-5537-4c26-cd6a-c3fcd9672fe8"
      },
      "execution_count": 72,
      "outputs": [
        {
          "output_type": "execute_result",
          "data": {
            "text/plain": [
              "<function matplotlib.pyplot.show(close=None, block=None)>"
            ]
          },
          "metadata": {},
          "execution_count": 72
        },
        {
          "output_type": "display_data",
          "data": {
            "text/plain": [
              "<Figure size 640x480 with 1 Axes>"
            ],
            "image/png": "[encoded data removed]"
          },
          "metadata": {}
        }
      ]
    }
  ]
}