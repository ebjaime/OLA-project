{
 "cells": [
  {
   "cell_type": "markdown",
   "metadata": {
    "id": "Dj0OURPH3o7v"
   },
   "source": [
    "## Environment"
   ]
  },
  {
   "cell_type": "code",
   "execution_count": 82,
   "metadata": {
    "id": "B-I42SsV3rAd"
   },
   "outputs": [],
   "source": [
    "import numpy as np"
   ]
  },
  {
   "cell_type": "code",
   "execution_count": 83,
   "metadata": {
    "id": "KHKMI86i3skQ"
   },
   "outputs": [],
   "source": [
    "class Environment():\n",
    "\n",
    "  def __init__(self, n_arms, probabilities, bids, average_number_of_clicks, average_cum_daily_cost,noise_clicks,noise_cost):\n",
    "    self.n_arms = n_arms                                            # number of prices\n",
    "    self.probabilities = probabilities                              # conversion rates for every price/arm\n",
    "    self.bids = bids                                                # bids\n",
    "    self.average_number_of_clicks = average_number_of_clicks        # curve of average number of clicks (y = f(bids))\n",
    "    self.average_cum_daily_cost = average_cum_daily_cost            # curve of cumulative daily cost (y = g(bids))\n",
    "    self.noise_clicks = noise_clicks                                # gaussian noise for the average number of clicks sampling\n",
    "    self.noise_cost = noise_cost                                    # gaussian noise for the cumulative daily cost sampling\n",
    "\n",
    "  # daily rewards\n",
    "  def round(self, pulled_price, pulled_bid):\n",
    "    clicks = int(np.random.normal(self.average_number_of_clicks(bids[pulled_bid]),self.noise_clicks))        # number of people that click on the ad\n",
    "    reward_click = clicks if clicks >= 0 else 0\n",
    "    reward_price = np.random.binomial(reward_click,self.probabilities[pulled_price])                         # number of people that buy once they clicked\n",
    "    costs = np.random.normal(self.average_cum_daily_cost(bids[pulled_bid]),self.noise_cost)                  # cumulative daily cost\n",
    "    reward_cost = costs if costs > 0 else 0\n",
    "\n",
    "    return reward_price, reward_click, reward_cost"
   ]
  },
  {
   "cell_type": "markdown",
   "metadata": {
    "id": "fW9pW6tchPEF"
   },
   "source": [
    "## Pricing"
   ]
  },
  {
   "cell_type": "code",
   "execution_count": 84,
   "metadata": {
    "id": "hPp6DU0tQOR7"
   },
   "outputs": [],
   "source": [
    "class Learner:\n",
    "  def __init__(self,n_arms):\n",
    "    self.n_arms = n_arms\n",
    "    self.t = 0                                              # current round value\n",
    "    self.rewards_per_arm = x = [[] for i in range(n_arms)]  # value of collected rewards for each round and for each arm\n",
    "    self.collected_rewards = np.array([])                   # values of collected rewards for each round\n",
    "\n",
    "  # function that updates the observation's list once the reward is returned by the environment\n",
    "  def update_observations(self, pulled_arm, reward):\n",
    "    self.rewards_per_arm[pulled_arm].append(reward)\n",
    "    self.collected_rewards = np.append(self.collected_rewards,reward)"
   ]
  },
  {
   "cell_type": "markdown",
   "metadata": {
    "id": "SFRb1XPhhRS7"
   },
   "source": [
    "## Advertising"
   ]
  },
  {
   "cell_type": "code",
   "execution_count": 85,
   "metadata": {
    "id": "gQgsfPw5K8S7"
   },
   "outputs": [],
   "source": [
    "from sklearn.gaussian_process import GaussianProcessRegressor\n",
    "from sklearn.gaussian_process.kernels import RBF, ConstantKernel as C"
   ]
  },
  {
   "cell_type": "code",
   "execution_count": 86,
   "metadata": {
    "id": "fhgjXE0RGDo0"
   },
   "outputs": [],
   "source": [
    "class GPTS_Learner(Learner):\n",
    "  # constructor takes as input the number arms (bids), intializes to 0 their means and to an aye their standard deviation; we also need to store the arm that we pull at each round to fot the GPs\n",
    "  def __init__(self, n_arms, arms):\n",
    "    super().__init__(n_arms)\n",
    "    self.arms = arms\n",
    "    self.means_clicks = np.zeros(self.n_arms)\n",
    "    self.means_costs = np.zeros(self.n_arms)\n",
    "    self.sigmas_clicks = np.ones(self.n_arms) * 10\n",
    "    self.sigmas_costs = np.ones(self.n_arms) * 10\n",
    "    self.pulled_arms = []\n",
    "    self.collected_buyers = np.array([])\n",
    "    self.collected_clicks = np.array([])\n",
    "    self.collected_costs = np.array([])\n",
    "    # we initialize the parameters of the kernel and the two GPs\n",
    "    alpha_clicks = 10  # standard deviation of the noise\n",
    "    alpha_costs = 10   # standard deviation of the noise\n",
    "    kernel_clicks = C(1.0, (1e-3, 1e8)) * RBF(1.0, (1e-3, 1e8)) # kernel (squared exponential) with the range of the parameters\n",
    "    kernel_costs = C(1.0, (1e-3, 1e8)) * RBF(1.0, (1e-3, 1e8))  # kernel (squared exponential) with the range of the parameters\n",
    "    self.gp_clicks = GaussianProcessRegressor(kernel = kernel_clicks, alpha = alpha_clicks**2, n_restarts_optimizer = 10)  # (normalize_y = True)\n",
    "    self.gp_costs = GaussianProcessRegressor(kernel = kernel_costs, alpha = alpha_costs**2, n_restarts_optimizer = 10)     # (normalize_y = True)\n",
    "\n",
    "  # we also need to update the value of the least pulled arm (reward[0]: n_clicks, reward[1]: costs)\n",
    "  def update_observations(self, arm_idx, reward):\n",
    "    super().update_observations(arm_idx, reward)\n",
    "    self.pulled_arms.append(self.arms[arm_idx])\n",
    "\n",
    "  # update the GP estimations and consequently the means and sigmas of each arm\n",
    "  def update_model(self):\n",
    "    # trining inputs and targets\n",
    "    x = np.atleast_2d(self.pulled_arms).T\n",
    "    y_clicks = self.collected_clicks\n",
    "    y_costs = self.collected_costs\n",
    "    # fit the GP\n",
    "    self.gp_clicks.fit(x,y_clicks)\n",
    "    self.gp_costs.fit(x,y_costs)\n",
    "    # update values of means and sigmas with the new predictions\n",
    "    self.means_clicks, self.sigmas_clicks = self.gp_clicks.predict(np.atleast_2d(self.arms).T, return_std = True)\n",
    "    self.means_costs, self.sigmas_costs = self.gp_costs.predict(np.atleast_2d(self.arms).T, return_std = True)\n",
    "    self.sigmas_clicks = np.maximum(self.sigmas_clicks, 1e-2)  # force sigmas > 0\n",
    "    self.sigmas_costs = np.maximum(self.sigmas_costs, 1e-2)  # force sigmas > 0\n",
    "\n",
    "  # functions that calls the functions implemented above (reward[0]: n_clicks, reward[1]: costs, reward[2]: number of buyers)\n",
    "  def update(self, pulled_arm, reward):\n",
    "    self.t += 1\n",
    "    self.update_observations(pulled_arm, reward[0:1])\n",
    "    self.collected_clicks = np.append(self.collected_clicks, reward[0])\n",
    "    self.collected_costs = np.append(self.collected_costs, reward[1])\n",
    "    self.collected_buyers = np.append(self.collected_buyers, reward[2])\n",
    "    self.update_model()\n",
    "\n",
    "  # function in which the learner chooses the arm to pull at each round\n",
    "  def pull_arm(self, opt_ratexprice):\n",
    "    # returns index of the maximum value drawn from the arm normal distribution\n",
    "    sampled_clicks = np.random.normal(self.means_clicks, self.sigmas_clicks)\n",
    "    sampled_costs = np.random.normal(self.means_costs, self.sigmas_costs)\n",
    "    return np.argmax(opt_ratexprice*sampled_clicks - sampled_costs)"
   ]
  },
  {
   "cell_type": "markdown",
   "metadata": {
    "id": "zWucpWCHhTci"
   },
   "source": [
    "## Simulation"
   ]
  },
  {
   "cell_type": "code",
   "execution_count": 87,
   "metadata": {
    "id": "HHBYQJ68hKQT"
   },
   "outputs": [],
   "source": [
    "import matplotlib.pyplot as plt\n",
    "from tqdm import tqdm"
   ]
  },
  {
   "cell_type": "code",
   "execution_count": 96,
   "metadata": {
    "id": "lgiMX_uahrbZ"
   },
   "outputs": [],
   "source": [
    "# generic\n",
    "T = 10                               # horizon of experiment\n",
    "n_experiments = 30                  # since the reward functions are stochastic, to better visualize the results and remove the noise we do multiple experiments"
   ]
  },
  {
   "cell_type": "code",
   "execution_count": 89,
   "metadata": {
    "colab": {
     "base_uri": "https://localhost:8080/"
    },
    "id": "rp7Fw22Fha3F",
    "outputId": "aabc2b52-cad9-4d57-9fd0-5cb5563033d3"
   },
   "outputs": [
    {
     "name": "stdout",
     "output_type": "stream",
     "text": [
      "Pricing (optimal price):\n",
      "idx: 3  price: 8  rate: 0.35  price*rate: 2.8\n"
     ]
    }
   ],
   "source": [
    "# pricing\n",
    "n_prices = 5\n",
    "prices = np.array([5,6,7,8,9])\n",
    "p = np.array([0.15,0.1,0.1,0.35,0.1])             # bernoulli distributions for the reward functions\n",
    "opt_rate = p[np.argmax(p*prices)]                 # optimal arm\n",
    "print(\"Pricing (optimal price):\")\n",
    "print(\"idx: \" + str(np.argmax(p*prices)) + \"  price: \" + str(prices[np.argmax(p*prices)]) + \"  rate: \" + str(opt_rate) + \"  price*rate: \" + str(opt_rate*prices[np.argmax(p*prices)]))"
   ]
  },
  {
   "cell_type": "code",
   "execution_count": 90,
   "metadata": {
    "colab": {
     "base_uri": "https://localhost:8080/",
     "height": 466
    },
    "id": "1mbnyMJJjqQ6",
    "outputId": "425a3358-6d50-43cd-ec71-614736f64461"
   },
   "outputs": [
    {
     "name": "stdout",
     "output_type": "stream",
     "text": [
      "Advertising (optimal bid):\n",
      "idx: 65  bid: 0.6565656565656566  clicks-costs: 13.794848078095768\n"
     ]
    },
    {
     "data": {
      "image/png": "[encoded data removed]",
      "text/plain": [
       "<Figure size 432x288 with 1 Axes>"
      ]
     },
     "metadata": {
      "needs_background": "light"
     },
     "output_type": "display_data"
    }
   ],
   "source": [
    "# advertising\n",
    "n_bids = 100\n",
    "min_bid = 0.0\n",
    "max_bid = 1.0\n",
    "bids = np.linspace(min_bid, max_bid, n_bids)\n",
    "sigma_clicks = 10\n",
    "sigma_costs = 10\n",
    "def clicks(x):\n",
    "  return 100 * (1.0 - np.exp(-4*x+3*x**3))\n",
    "def costs(x):\n",
    "  return 70 * (1.0 - np.exp(-7*x))\n",
    "opt_bid = bids[np.argmax(opt_rate*prices[np.argmax(p*prices)]*clicks(bids)-costs(bids))]\n",
    "fig, ax = plt.subplots()\n",
    "ax.plot(bids,opt_rate*prices[np.argmax(p*prices)]*clicks(bids),'blue',bids,costs(bids),'orange')\n",
    "ax.legend([\"Number of clicks\", \"Cumulative Costs\"])\n",
    "ax.axvline(opt_bid,c='red')\n",
    "print(\"Advertising (optimal bid):\")\n",
    "print(\"idx: \" + str(np.argmax(opt_rate*prices[np.argmax(p*prices)]*clicks(bids)-costs(bids))) + \"  bid: \" + str(opt_bid) + \"  clicks-costs: \" + str(clicks(opt_bid)-costs(opt_bid)))"
   ]
  },
  {
   "cell_type": "markdown",
   "metadata": {
    "id": "PXzvIoAO_7WR"
   },
   "source": [
    "## Known pricing"
   ]
  },
  {
   "cell_type": "code",
   "execution_count": 97,
   "metadata": {
    "colab": {
     "base_uri": "https://localhost:8080/",
     "height": 1000
    },
    "id": "YvOLQjxQtZ7Q",
    "outputId": "9f1fa136-4081-40c7-bb7c-3202f8080a98"
   },
   "outputs": [
    {
     "name": "stderr",
     "output_type": "stream",
     "text": [
      "  7%|█████▌                                                                             | 2/30 [00:05<01:14,  2.66s/it]C:\\Users\\alexa\\anaconda3\\lib\\site-packages\\sklearn\\gaussian_process\\kernels.py:402: ConvergenceWarning: The optimal value found for dimension 0 of parameter k1__constant_value is close to the specified lower bound 0.001. Decreasing the bound and calling fit again may find a better value.\n",
      "  warnings.warn(\"The optimal value found for \"\n",
      " 20%|████████████████▌                                                                  | 6/30 [00:15<01:03,  2.64s/it]C:\\Users\\alexa\\anaconda3\\lib\\site-packages\\sklearn\\gaussian_process\\kernels.py:402: ConvergenceWarning: The optimal value found for dimension 0 of parameter k1__constant_value is close to the specified lower bound 0.001. Decreasing the bound and calling fit again may find a better value.\n",
      "  warnings.warn(\"The optimal value found for \"\n",
      " 23%|███████████████████▎                                                               | 7/30 [00:18<00:58,  2.56s/it]C:\\Users\\alexa\\anaconda3\\lib\\site-packages\\sklearn\\gaussian_process\\kernels.py:402: ConvergenceWarning: The optimal value found for dimension 0 of parameter k1__constant_value is close to the specified lower bound 0.001. Decreasing the bound and calling fit again may find a better value.\n",
      "  warnings.warn(\"The optimal value found for \"\n",
      " 27%|██████████████████████▏                                                            | 8/30 [00:20<00:57,  2.61s/it]C:\\Users\\alexa\\anaconda3\\lib\\site-packages\\sklearn\\gaussian_process\\kernels.py:402: ConvergenceWarning: The optimal value found for dimension 0 of parameter k1__constant_value is close to the specified lower bound 0.001. Decreasing the bound and calling fit again may find a better value.\n",
      "  warnings.warn(\"The optimal value found for \"\n",
      " 43%|███████████████████████████████████▌                                              | 13/30 [00:33<00:44,  2.60s/it]C:\\Users\\alexa\\anaconda3\\lib\\site-packages\\sklearn\\gaussian_process\\kernels.py:402: ConvergenceWarning: The optimal value found for dimension 0 of parameter k1__constant_value is close to the specified lower bound 0.001. Decreasing the bound and calling fit again may find a better value.\n",
      "  warnings.warn(\"The optimal value found for \"\n",
      "C:\\Users\\alexa\\anaconda3\\lib\\site-packages\\sklearn\\gaussian_process\\kernels.py:402: ConvergenceWarning: The optimal value found for dimension 0 of parameter k1__constant_value is close to the specified lower bound 0.001. Decreasing the bound and calling fit again may find a better value.\n",
      "  warnings.warn(\"The optimal value found for \"\n",
      " 57%|██████████████████████████████████████████████▍                                   | 17/30 [00:44<00:34,  2.62s/it]C:\\Users\\alexa\\anaconda3\\lib\\site-packages\\sklearn\\gaussian_process\\kernels.py:411: ConvergenceWarning: The optimal value found for dimension 0 of parameter k2__length_scale is close to the specified upper bound 100000000.0. Increasing the bound and calling fit again may find a better value.\n",
      "  warnings.warn(\"The optimal value found for \"\n",
      "100%|██████████████████████████████████████████████████████████████████████████████████| 30/30 [01:19<00:00,  2.64s/it]\n"
     ]
    }
   ],
   "source": [
    "# experiments\n",
    "gpts_rewards_per_experiment = []\n",
    "\n",
    "for e in tqdm(range(0,n_experiments)):  # cycle on experiments\n",
    "  env = Environment(n_arms = n_prices,\n",
    "                    probabilities = p,\n",
    "                    bids = bids,\n",
    "                    average_number_of_clicks = clicks,\n",
    "                    average_cum_daily_cost = costs,\n",
    "                    noise_clicks = sigma_clicks,\n",
    "                    noise_cost = sigma_costs)\n",
    "  gpts_learner = GPTS_Learner(n_arms = n_bids,\n",
    "                              arms = bids)\n",
    "\n",
    "\n",
    "\n",
    "  for t in range(0,T):  # cycle on time horizon\n",
    "    \n",
    "    # GPTS\n",
    "    pulled_price = np.argmax(p*prices)\n",
    "    pulled_bid = gpts_learner.pull_arm(opt_rate*prices[pulled_price])\n",
    "    reward_price, reward_click, reward_cost = env.round(pulled_price, pulled_bid)\n",
    "    gpts_learner.update(pulled_bid, [reward_click,reward_cost, reward_price])\n",
    "\n",
    "  gpts_rewards_per_experiment.append(prices[np.argmax(p*prices)]*gpts_learner.collected_buyers - gpts_learner.collected_costs)"
   ]
  },
  {
   "cell_type": "code",
   "execution_count": 103,
   "metadata": {
    "colab": {
     "base_uri": "https://localhost:8080/",
     "height": 467
    },
    "id": "wH7emrj624DO",
    "outputId": "4f7732b8-9fc6-4eb7-ec22-55027996db0d"
   },
   "outputs": [
    {
     "data": {
      "text/plain": [
       "<function matplotlib.pyplot.show(close=None, block=None)>"
      ]
     },
     "execution_count": 103,
     "metadata": {},
     "output_type": "execute_result"
    },
    {
     "data": {
      "image/png": "[encoded data removed]",
      "text/plain": [
       "<Figure size 432x288 with 1 Axes>"
      ]
     },
     "metadata": {
      "needs_background": "light"
     },
     "output_type": "display_data"
    }
   ],
   "source": [
    "opt = opt_rate*prices[np.argmax(p*prices)]*clicks(opt_bid) - costs(opt_bid)\n",
    "plt.figure(0)\n",
    "plt.ylabel(\"Cumulative regret\")\n",
    "plt.xlabel(\"t\")\n",
    "plt.plot(np.cumsum(np.mean(opt - gpts_rewards_per_experiment, axis = 0)), 'r')\n",
    "\n",
    "time = range(0, T)\n",
    "gpts_std = np.std(np.cumsum(opt - gpts_rewards_per_experiment, axis=1), axis=0)\n",
    "gpts_metric= np.mean(np.cumsum(opt - gpts_rewards_per_experiment, axis=1), axis=0)\n",
    "plt.fill(np.concatenate([time, time[::-1]]),\n",
    "         np.concatenate([gpts_metric - gpts_std, (gpts_metric + gpts_std)[::-1]]),\n",
    "         alpha=.5, fc='r', ec=None, label='standard deviation')\n",
    "\n",
    "plt.show"
   ]
  },
  {
   "cell_type": "code",
   "execution_count": 99,
   "metadata": {},
   "outputs": [
    {
     "data": {
      "text/plain": [
       "array([58.54567882, 17.83976521, 38.23386331, 32.35435301, 51.39050861,\n",
       "       15.6787905 , 14.35552505, 13.66717245, 16.85653539,  5.43143597])"
      ]
     },
     "execution_count": 99,
     "metadata": {},
     "output_type": "execute_result"
    }
   ],
   "source": [
    "np.mean(opt - gpts_rewards_per_experiment, axis = 0)"
   ]
  },
  {
   "cell_type": "code",
   "execution_count": 100,
   "metadata": {},
   "outputs": [
    {
     "data": {
      "text/plain": [
       "30"
      ]
     },
     "execution_count": 100,
     "metadata": {},
     "output_type": "execute_result"
    }
   ],
   "source": [
    "len(gpts_rewards_per_experiment)"
   ]
  }
 ],
 "metadata": {
  "colab": {
   "provenance": []
  },
  "kernelspec": {
   "display_name": "Python 3 (ipykernel)",
   "language": "python",
   "name": "python3"
  },
  "language_info": {
   "codemirror_mode": {
    "name": "ipython",
    "version": 3
   },
   "file_extension": ".py",
   "mimetype": "text/x-python",
   "name": "python",
   "nbconvert_exporter": "python",
   "pygments_lexer": "ipython3",
   "version": "3.9.7"
  }
 },
 "nbformat": 4,
 "nbformat_minor": 1
}
