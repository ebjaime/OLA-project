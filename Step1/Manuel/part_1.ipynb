{
  "nbformat": 4,
  "nbformat_minor": 0,
  "metadata": {
    "colab": {
      "provenance": []
    },
    "kernelspec": {
      "name": "python3",
      "display_name": "Python 3"
    },
    "language_info": {
      "name": "python"
    }
  },
  "cells": [
    {
      "cell_type": "markdown",
      "source": [
        "## Environment"
      ],
      "metadata": {
        "id": "Dj0OURPH3o7v"
      }
    },
    {
      "cell_type": "code",
      "source": [
        "import numpy as np"
      ],
      "metadata": {
        "id": "B-I42SsV3rAd"
      },
      "execution_count": null,
      "outputs": []
    },
    {
      "cell_type": "code",
      "source": [
        "class Environment():\n",
        "\n",
        "  def __init__(self, n_arms, probabilities, bids, average_number_of_clicks, average_cum_daily_cost,noise_clicks,noise_cost):\n",
        "    self.n_arms = n_arms                                            # number of prices\n",
        "    self.probabilities = probabilities                              # conversion rates for every price/arm\n",
        "    self.bids = bids                                                # bids\n",
        "    self.average_number_of_clicks = average_number_of_clicks        # curve of average number of clicks (y = f(bids))\n",
        "    self.average_cum_daily_cost = average_cum_daily_cost            # curve of cumulative daily cost (y = g(bids))\n",
        "    self.noise_clicks = noise_clicks                                # gaussian noise for the average number of clicks sampling\n",
        "    self.noise_cost = noise_cost                                    # gaussian noise for the cumulative daily cost sampling\n",
        "\n",
        "  # daily rewards\n",
        "  def round(self, pulled_price, pulled_bid):\n",
        "    clicks = int(np.random.normal(self.average_number_of_clicks(bids[pulled_bid]),self.noise_clicks))        # number of people that click on the ad\n",
        "    reward_click = clicks if clicks >= 0 else 0\n",
        "    reward_price = np.random.binomial(reward_click,self.probabilities[pulled_price])                         # number of people that buy once they clicked\n",
        "    costs = np.random.normal(self.average_cum_daily_cost(bids[pulled_bid]),self.noise_cost)                  # cumulative daily cost\n",
        "    reward_cost = costs if costs > 0 else 0\n",
        "\n",
        "    return reward_price, reward_click, reward_cost"
      ],
      "metadata": {
        "id": "KHKMI86i3skQ"
      },
      "execution_count": null,
      "outputs": []
    },
    {
      "cell_type": "markdown",
      "source": [
        "## Pricing"
      ],
      "metadata": {
        "id": "fW9pW6tchPEF"
      }
    },
    {
      "cell_type": "code",
      "source": [
        "class Learner:\n",
        "  def __init__(self,n_arms):\n",
        "    self.n_arms = n_arms\n",
        "    self.t = 0                                              # current round value\n",
        "    self.rewards_per_arm = x = [[] for i in range(n_arms)]  # value of collected rewards for each round and for each arm\n",
        "    self.collected_rewards = np.array([])                   # values of collected rewards for each round\n",
        "\n",
        "  # function that updates the observation's list once the reward is returned by the environment\n",
        "  def update_observations(self, pulled_arm, reward):\n",
        "    self.rewards_per_arm[pulled_arm].append(reward)\n",
        "    self.collected_rewards = np.append(self.collected_rewards,reward)"
      ],
      "metadata": {
        "id": "hPp6DU0tQOR7"
      },
      "execution_count": null,
      "outputs": []
    },
    {
      "cell_type": "code",
      "source": [
        "class TS_Pricing_Learner(Learner): # Thompson-Sampling (reward: number of conversions; actual_reward:  price*conversion_rate)\n",
        "  def __init__(self,n_arms,prices):\n",
        "    super().__init__(n_arms)                    # number of prices\n",
        "    self.beta_parameters = np.ones((n_arms,2))  # parameters of beta distributions\n",
        "    self.prices = prices                        # prices (array)\n",
        "    self.actual_reward = np.array([])           # storage of price*conversion_rate \n",
        "\n",
        "  def pull_arm(self):\n",
        "    if(self.t < self.n_arms):\n",
        "      return self.t, 1\n",
        "    sampled = np.random.beta(self.beta_parameters[:,0],self.beta_parameters[:,1])*self.prices\n",
        "    idx = np.argmax(sampled)\n",
        "    return idx, sampled[idx]\n",
        "\n",
        "  # update parameters each time a reward (# of people that buy) is observed\n",
        "  def update(self,pulled_arm, reward, n_clicks):\n",
        "    self.t += 1\n",
        "    self.update_observations(pulled_arm,reward)\n",
        "    self.actual_reward = np.append(self.actual_reward, reward/n_clicks * self.prices[pulled_arm]) if n_clicks > 0 else np.append(self.actual_reward, 0.)\n",
        "    self.beta_parameters[pulled_arm,0] = self.beta_parameters[pulled_arm,0] + reward\n",
        "    self.beta_parameters[pulled_arm,1] = self.beta_parameters[pulled_arm,1] + n_clicks - reward"
      ],
      "metadata": {
        "id": "v5nNxh_aQPIN"
      },
      "execution_count": null,
      "outputs": []
    },
    {
      "cell_type": "code",
      "source": [
        "class UCB_Pricing_Learner(Learner): # UCB1 (reward: number of conversions; actual_reward:  price*conversion_rate)\n",
        "  def __init__(self,n_arms,prices):\n",
        "    super().__init__(n_arms)                              # number of arms/prices\n",
        "    self.empirical_means = np.zeros(n_arms)               # mean reward for each arm (conversion rate)\n",
        "    self.confidence = np.zeros(n_arms)                    # confidence bound for each arm\n",
        "    self.prices = prices                                  # prices (array)\n",
        "    self.n_clicks_per_arm = [[0] for i in range(n_arms)]  # number of total clicks for arm\n",
        "    self.tot_n_clicks = 0                                 # cumulative number of clicks/rounds\n",
        "    self.actual_reward = np.array([])                     # storage of price*conversion rate \n",
        "\n",
        "  def pull_arm(self):\n",
        "    if(self.t < self.n_arms):\n",
        "      return self.t, 1\n",
        "    upper_bound = self.empirical_means + self.confidence\n",
        "    pulled_arm = np.random.choice(np.where(upper_bound == upper_bound.max())[0])\n",
        "    return pulled_arm, upper_bound[pulled_arm]\n",
        "\n",
        "  def update(self, pulled_arm, reward, n_clicks):\n",
        "    self.t += 1\n",
        "    self.tot_n_clicks += n_clicks\n",
        "    self.collected_rewards = np.append(self.collected_rewards, reward)\n",
        "    self.empirical_means[pulled_arm] = (self.empirical_means[pulled_arm]* np.sum(self.n_clicks_per_arm[pulled_arm]) + reward*self.prices[pulled_arm] ) / (np.sum(self.n_clicks_per_arm[pulled_arm]) + n_clicks) if (np.sum(self.n_clicks_per_arm[pulled_arm]) + n_clicks) > 0 else 0\n",
        "    self.confidence[pulled_arm] = self.prices[pulled_arm]*np.sqrt(2*np.log(self.tot_n_clicks)/(np.sum(self.n_clicks_per_arm[pulled_arm]) + n_clicks)) if (np.sum(self.n_clicks_per_arm[pulled_arm]) + n_clicks) > 0 else 0\n",
        "    self.n_clicks_per_arm[pulled_arm].append(n_clicks)\n",
        "    self.actual_reward = np.append(self.actual_reward, reward/n_clicks * self.prices[pulled_arm]) if n_clicks > 0 else np.append(self.actual_reward, 0.)\n",
        "    self.update_observations(pulled_arm, reward)"
      ],
      "metadata": {
        "id": "NGm6gOXn5VQo"
      },
      "execution_count": null,
      "outputs": []
    },
    {
      "cell_type": "markdown",
      "source": [
        "## Advertising"
      ],
      "metadata": {
        "id": "SFRb1XPhhRS7"
      }
    },
    {
      "cell_type": "code",
      "source": [
        "from sklearn.gaussian_process import GaussianProcessRegressor\n",
        "from sklearn.gaussian_process.kernels import RBF, ConstantKernel as C"
      ],
      "metadata": {
        "id": "gQgsfPw5K8S7"
      },
      "execution_count": null,
      "outputs": []
    },
    {
      "cell_type": "code",
      "source": [
        "class GPTS_Learner(Learner):\n",
        "  # constructor takes as input the number arms (bids), intializes to 0 their means and to an aye their standard deviation; we also need to store the arm that we pull at each round to fot the GPs\n",
        "  def __init__(self, n_arms, arms):\n",
        "    super().__init__(n_arms)\n",
        "    self.arms = arms\n",
        "    self.means_clicks = np.zeros(self.n_arms)\n",
        "    self.means_costs = np.zeros(self.n_arms)\n",
        "    self.sigmas_clicks = np.ones(self.n_arms) * 10\n",
        "    self.sigmas_costs = np.ones(self.n_arms) * 10\n",
        "    self.pulled_arms = []\n",
        "    self.collected_clicks = []\n",
        "    self.collected_costs = []\n",
        "    # we initialize the parameters of the kernel and the two GPs\n",
        "    alpha_clicks = 10  # standard deviation of the noise\n",
        "    alpha_costs = 10   # standard deviation of the noise\n",
        "    kernel_clicks = C(1.0, (1e-3, 1e3)) * RBF(1.0, (1e-3, 1e3)) # kernel (squared exponential) with the range of the parameters\n",
        "    kernel_costs = C(1.0, (1e-3, 1e3)) * RBF(1.0, (1e-3, 1e3))  # kernel (squared exponential) with the range of the parameters\n",
        "    self.gp_clicks = GaussianProcessRegressor(kernel = kernel_clicks, alpha = alpha_clicks**2, n_restarts_optimizer = 10)  # (normalize_y = True)\n",
        "    self.gp_costs = GaussianProcessRegressor(kernel = kernel_costs, alpha = alpha_costs**2, n_restarts_optimizer = 10)     # (normalize_y = True)\n",
        "\n",
        "  # we also need to update the value of the least pulled arm (reward[0]: n_clicks, reward[1]: costs)\n",
        "  def update_observations(self, arm_idx, reward):\n",
        "    super().update_observations(arm_idx, reward)\n",
        "    self.pulled_arms.append(self.arms[arm_idx])\n",
        "\n",
        "  # update the GP estimations and consequently the means and sigmas of each arm\n",
        "  def update_model(self):\n",
        "    # trining inputs and targets\n",
        "    x = np.atleast_2d(self.pulled_arms).T\n",
        "    ind_clicks = [(2*i) for i in range(int(len(self.collected_rewards)/2)) ]\n",
        "    ind_costs = [(2*i+1) for i in range(int(len(self.collected_rewards)/2)) ]\n",
        "    y_clicks = self.collected_rewards[ind_clicks]\n",
        "    y_costs = self.collected_rewards[ind_costs]\n",
        "    # fit the GP\n",
        "    self.gp_clicks.fit(x,y_clicks)\n",
        "    self.gp_costs.fit(x,y_costs)\n",
        "    # update values of means and sigmas with the new predictions\n",
        "    self.means_clicks, self.sigmas_clicks = self.gp_clicks.predict(np.atleast_2d(self.arms).T, return_std = True)\n",
        "    self.means_costs, self.sigmas_costs = self.gp_costs.predict(np.atleast_2d(self.arms).T, return_std = True)\n",
        "    self.sigmas_clicks = np.maximum(self.sigmas_clicks, 1e-2)  # force sigmas > 0\n",
        "    self.sigmas_costs = np.maximum(self.sigmas_costs, 1e-2)  # force sigmas > 0\n",
        "\n",
        "  # functions that calls the functions implemented above (reward[0]: n_clicks, reward[1]: costs)\n",
        "  def update(self, pulled_arm, reward):\n",
        "    self.t += 1\n",
        "    self.update_observations(pulled_arm, reward)\n",
        "    self.collected_clicks.append(reward[0])\n",
        "    self.collected_costs.append(reward[1])\n",
        "    self.update_model()\n",
        "\n",
        "  # function in which the learner chooses the arm to pull at each round\n",
        "  def pull_arm(self):\n",
        "    # returns index of the maximum value drawn from the arm normal distribution\n",
        "    sampled_clicks = np.random.normal(self.means_clicks, self.sigmas_clicks)\n",
        "    sampled_costs = np.random.normal(self.means_costs, self.sigmas_costs)\n",
        "    return np.argmax(sampled_clicks - sampled_costs)"
      ],
      "metadata": {
        "id": "fhgjXE0RGDo0"
      },
      "execution_count": null,
      "outputs": []
    },
    {
      "cell_type": "markdown",
      "source": [
        "## Simulation"
      ],
      "metadata": {
        "id": "zWucpWCHhTci"
      }
    },
    {
      "cell_type": "code",
      "source": [
        "import matplotlib.pyplot as plt\n",
        "from tqdm import tqdm"
      ],
      "metadata": {
        "id": "HHBYQJ68hKQT"
      },
      "execution_count": null,
      "outputs": []
    },
    {
      "cell_type": "code",
      "source": [
        "# generic\n",
        "T = 365                                # horizon of experiment\n",
        "n_experiments = 300                    # since the reward functions are stochastic, to better visualize the results and remove the noise we do multiple experiments"
      ],
      "metadata": {
        "id": "lgiMX_uahrbZ"
      },
      "execution_count": null,
      "outputs": []
    },
    {
      "cell_type": "code",
      "source": [
        "# pricing\n",
        "n_prices = 5\n",
        "prices = [5,6,7,8,9]\n",
        "p = np.array([0.15,0.1,0.1,0.35,0.1])             # bernoulli distributions for the reward functions\n",
        "opt_rate = p[np.argmax(p*prices)]                 # optimal arm\n",
        "print(\"Pricing (optimal price):\")\n",
        "print(\"idx: \" + str(np.argmax(p*prices)) + \"  price: \" + str(prices[np.argmax(p*prices)]) + \"  rate: \" + str(opt_rate) + \"  price*rate: \" + str(opt_rate*prices[np.argmax(p*prices)]))"
      ],
      "metadata": {
        "colab": {
          "base_uri": "https://localhost:8080/"
        },
        "id": "rp7Fw22Fha3F",
        "outputId": "79db4ad8-082e-47e2-ff68-17a665c43ade"
      },
      "execution_count": null,
      "outputs": [
        {
          "output_type": "stream",
          "name": "stdout",
          "text": [
            "Pricing (optimal price):\n",
            "idx: 3  price: 8  rate: 0.35  price*rate: 2.8\n"
          ]
        }
      ]
    },
    {
      "cell_type": "code",
      "source": [
        "# advertising\n",
        "n_bids = 100\n",
        "min_bid = 0.0\n",
        "max_bid = 1.0\n",
        "bids = np.linspace(min_bid, max_bid, n_bids)\n",
        "sigma_clicks = 10\n",
        "sigma_costs = 10\n",
        "def clicks(x):\n",
        "  return 100 * (1.0 - np.exp(-4*x+3*x**3))\n",
        "def costs(x):\n",
        "  return 70 * (1.0 - np.exp(-7*x))\n",
        "opt_bid = bids[np.argmax(opt_rate*prices[np.argmax(p*prices)]*clicks(bids)-costs(bids))]\n",
        "fig, ax = plt.subplots()\n",
        "ax.plot(bids,clicks(bids),'blue',bids,costs(bids),'orange')\n",
        "ax.legend([\"Number of clicks\", \"Cumulative Costs\"])\n",
        "ax.axvline(opt_bid,c='red')\n",
        "print(\"Advertising (optimal bid):\")\n",
        "print(\"idx: \" + str(np.argmax(clicks(bids)-costs(bids))) + \"  bid: \" + str(opt_bid) + \"  clicks-costs: \" + str(clicks(opt_bid)-costs(opt_bid)))"
      ],
      "metadata": {
        "colab": {
          "base_uri": "https://localhost:8080/",
          "height": 466
        },
        "id": "1mbnyMJJjqQ6",
        "outputId": "b9ff7ff0-3d61-470e-c70f-1ec36783cc0f"
      },
      "execution_count": null,
      "outputs": [
        {
          "output_type": "stream",
          "name": "stdout",
          "text": [
            "Advertising (optimal bid):\n",
            "idx: 63  bid: 0.6565656565656566  clicks-costs: 13.794848078095768\n"
          ]
        },
        {
          "output_type": "display_data",
          "data": {
            "text/plain": [
              "<Figure size 640x480 with 1 Axes>"
            ],
            "image/png": "[encoded data removed]"
          },
          "metadata": {}
        }
      ]
    },
    {
      "cell_type": "markdown",
      "source": [
        "## Known advertising"
      ],
      "metadata": {
        "id": "PXzvIoAO_7WR"
      }
    },
    {
      "cell_type": "code",
      "source": [
        "# experiments\n",
        "ts_rewards_per_experiment = []\n",
        "ucb_rewards_per_experiment = []\n",
        "\n",
        "for e in tqdm(range(0,n_experiments)):  # cycle on experiments\n",
        "  env = Environment(n_arms = n_prices,\n",
        "                    probabilities = p,\n",
        "                    bids = bids,\n",
        "                    average_number_of_clicks = clicks,\n",
        "                    average_cum_daily_cost = costs,\n",
        "                    noise_clicks = sigma_clicks,\n",
        "                    noise_cost = sigma_costs)\n",
        "  ts_learner = TS_Pricing_Learner(n_arms = n_prices,\n",
        "                                       prices = prices)\n",
        "  ucb_learner = UCB_Pricing_Learner(n_arms = n_prices,\n",
        "                                    prices = prices)\n",
        "\n",
        "\n",
        "  ts_collected_clicks = np.array([])\n",
        "  ts_collected_costs = np.array([])\n",
        "  ucb_collected_clicks = np.array([])\n",
        "  ucb_collected_costs = np.array([])\n",
        "  ts_curr_opt_pricexrate = 1\n",
        "  ucb_curr_opt_pricexrate = 1\n",
        "\n",
        "  for t in range(0,T):  # cycle on time horizon\n",
        "    \n",
        "    # TS\n",
        "    pulled_price, ts_curr_opt_pricexrate = ts_learner.pull_arm()\n",
        "    pulled_bid = np.argmax(ts_curr_opt_pricexrate*clicks(bids)-costs(bids))\n",
        "    reward_price, reward_click, reward_cost = env.round(pulled_price, pulled_bid)\n",
        "    ts_learner.update(pulled_price, reward_price, reward_click)\n",
        "\n",
        "    ts_collected_clicks = np.append(ts_collected_clicks, reward_click)\n",
        "    ts_collected_costs = np.append(ts_collected_costs, reward_cost)\n",
        "\n",
        "    #ts_curr_opt_pricexrate = reward_price/reward_click*prices[pulled_price] if reward_click > 0 else 0\n",
        "\n",
        "    # UCB\n",
        "    pulled_price, ucb_curr_opt_pricexrate = ucb_learner.pull_arm()\n",
        "    pulled_bid = np.argmax(ucb_curr_opt_pricexrate*clicks(bids)-costs(bids))\n",
        "    reward_price, reward_click, reward_cost = env.round(pulled_price,pulled_bid)\n",
        "    ucb_learner.update(pulled_price, reward_price, reward_click)\n",
        "\n",
        "    ucb_collected_clicks = np.append(ucb_collected_clicks, reward_click)\n",
        "    ucb_collected_costs = np.append(ucb_collected_costs, reward_cost)\n",
        "\n",
        "    #ucb_curr_opt_pricexrate = reward_price/reward_click*prices[pulled_price] if reward_click > 0 else 0\n",
        "\n",
        "  ts_rewards_per_experiment.append(ts_learner.actual_reward*ts_collected_clicks - ts_collected_costs)\n",
        "  ucb_rewards_per_experiment.append(ucb_learner.actual_reward*ucb_collected_clicks - ucb_collected_costs)"
      ],
      "metadata": {
        "id": "YvOLQjxQtZ7Q",
        "colab": {
          "base_uri": "https://localhost:8080/"
        },
        "outputId": "153abd27-46ea-40ba-989d-d7b5ae7987bc"
      },
      "execution_count": null,
      "outputs": [
        {
          "output_type": "stream",
          "name": "stderr",
          "text": [
            "100%|██████████| 300/300 [00:45<00:00,  6.66it/s]\n"
          ]
        }
      ]
    },
    {
      "cell_type": "code",
      "source": [
        "opt = opt_rate*prices[np.argmax(p*prices)]*clicks(opt_bid) - costs(opt_bid)\n",
        "plt.figure(0)\n",
        "plt.ylabel(\"Regret\")\n",
        "plt.xlabel(\"t\")\n",
        "plt.plot(np.cumsum(np.mean(opt - ts_rewards_per_experiment, axis = 0)), 'r')\n",
        "plt.plot(np.cumsum(np.mean(opt - ucb_rewards_per_experiment, axis = 0)), 'b')\n",
        "plt.legend([\"TS\", \"UCB\"])"
      ],
      "metadata": {
        "colab": {
          "base_uri": "https://localhost:8080/",
          "height": 467
        },
        "id": "wH7emrj624DO",
        "outputId": "4f7732b8-9fc6-4eb7-ec22-55027996db0d"
      },
      "execution_count": null,
      "outputs": [
        {
          "output_type": "execute_result",
          "data": {
            "text/plain": [
              "<matplotlib.legend.Legend at 0x7fdd84b31b70>"
            ]
          },
          "metadata": {},
          "execution_count": 56
        },
        {
          "output_type": "display_data",
          "data": {
            "text/plain": [
              "<Figure size 640x480 with 1 Axes>"
            ],
            "image/png": "[encoded data removed]"
          },
          "metadata": {}
        }
      ]
    },
    {
      "cell_type": "code",
      "source": [
        "print(ts_learner.pull_arm())\n",
        "print(ucb_learner.pull_arm())"
      ],
      "metadata": {
        "colab": {
          "base_uri": "https://localhost:8080/"
        },
        "id": "P9aQBnxZXJv6",
        "outputId": "f1968565-c91c-4cd5-abd1-c38988afb854"
      },
      "execution_count": null,
      "outputs": [
        {
          "output_type": "stream",
          "name": "stdout",
          "text": [
            "(3, 2.8515911361829853)\n",
            "(3, 3.0373452746559018)\n"
          ]
        }
      ]
    }
  ]
}