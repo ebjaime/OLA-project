{
  "cells": [
    {
      "cell_type": "code",
      "source": [
        "from google.colab import drive\n",
        "drive.mount('/gdrive')\n",
        "%cd /gdrive/My Drive/Online Learning Applications/Project"
      ],
      "metadata": {
        "colab": {
          "base_uri": "https://localhost:8080/"
        },
        "id": "bZLBxkkj3LsP",
        "outputId": "e54d029c-ce81-4306-826f-84e47695e339"
      },
      "execution_count": null,
      "outputs": [
        {
          "output_type": "stream",
          "name": "stdout",
          "text": [
            "Drive already mounted at /gdrive; to attempt to forcibly remount, call drive.mount(\"/gdrive\", force_remount=True).\n",
            "/gdrive/My Drive/Online Learning Applications/Project\n"
          ]
        }
      ]
    },
    {
      "cell_type": "markdown",
      "metadata": {
        "id": "Dj0OURPH3o7v"
      },
      "source": [
        "## Environment"
      ]
    },
    {
      "cell_type": "code",
      "execution_count": null,
      "metadata": {
        "id": "B-I42SsV3rAd"
      },
      "outputs": [],
      "source": [
        "import numpy as np"
      ]
    },
    {
      "cell_type": "code",
      "execution_count": null,
      "metadata": {
        "id": "KHKMI86i3skQ"
      },
      "outputs": [],
      "source": [
        "class Environment_Multiple_Contexts():\n",
        "\n",
        "  def __init__(self, n_arms, probabilities, bids, average_number_of_clicks, average_cum_daily_cost,noise_clicks,noise_cost):\n",
        "    self.n_arms = n_arms                                            # number of prices\n",
        "    self.probabilities = probabilities                              # conversion rates for every price/arm and for every class (size: |classes|x|arms|)\n",
        "    self.bids = bids                                                # bids\n",
        "    self.average_number_of_clicks = average_number_of_clicks        # curves of average number of clicks(y = f(bids)), one for each class\n",
        "    self.average_cum_daily_cost = average_cum_daily_cost            # curves of cumulative daily cost (y = g(bids)), one for each class\n",
        "    self.noise_clicks = noise_clicks                                # gaussian noises for the average number of clicks sampling, one for each class\n",
        "    self.noise_cost = noise_cost                                    # gaussian noises for the cumulative daily cost sampling, one for each class\n",
        "\n",
        "  # daily rewards (given a class \"i\")\n",
        "  def bidding_round(self, pulled_bid, i):\n",
        "    clicks = int(np.random.normal(self.average_number_of_clicks[i](self.bids[pulled_bid]),self.noise_clicks[i]))        # number of people that click on the ad\n",
        "    reward_click = clicks if clicks >= 0 else 0\n",
        "    costs = np.random.normal(self.average_cum_daily_cost[i](self.bids[pulled_bid]),self.noise_cost[i])                  # cumulative daily cost\n",
        "    reward_cost = costs if costs > 0 else 0\n",
        "    return reward_click, reward_cost\n",
        "\n",
        "  # pricing rewards (given a class \"i\")\n",
        "  def pricing_round(self, pulled_price, i):\n",
        "    reward_price = np.random.binomial(1,self.probabilities[i][pulled_price])                         # number of people that buy once they clicked\n",
        "    return reward_price"
      ]
    },
    {
      "cell_type": "markdown",
      "metadata": {
        "id": "fW9pW6tchPEF"
      },
      "source": [
        "## Pricing"
      ]
    },
    {
      "cell_type": "code",
      "execution_count": null,
      "metadata": {
        "id": "hPp6DU0tQOR7"
      },
      "outputs": [],
      "source": [
        "class Learner:\n",
        "  def __init__(self,n_arms):\n",
        "    self.n_arms = n_arms\n",
        "    self.t = 0                                              # current round value\n",
        "    self.rewards_per_arm = x = [[] for i in range(n_arms)]  # value of collected rewards for each round and for each arm\n",
        "    self.collected_rewards = np.array([])                   # values of collected rewards for each round\n",
        "\n",
        "  # function that updates the observation's list once the reward is returned by the environment\n",
        "  def update_observations(self, pulled_arm, reward):\n",
        "    pulled_arm = int(pulled_arm)\n",
        "    self.rewards_per_arm[pulled_arm].append(reward)\n",
        "    self.collected_rewards = np.append(self.collected_rewards,reward)"
      ]
    },
    {
      "cell_type": "code",
      "execution_count": null,
      "metadata": {
        "id": "Mb-1Z4p3gDnS"
      },
      "outputs": [],
      "source": [
        "class TS_Pricing_Learner(Learner): # Thompson-Sampling (reward: number of conversions; actual_reward:  price*conversion_rate)\n",
        "  def __init__(self,n_arms,prices):\n",
        "    super().__init__(n_arms)                    # number of prices\n",
        "    self.beta_parameters = np.ones((n_arms,2))  # parameters of beta distributions\n",
        "    self.prices = prices                        # prices (array)\n",
        "\n",
        "    #self.empirical_means = np.zeros(n_arms)\n",
        "\n",
        "  def pull_arm(self):\n",
        "    if(self.t < self.n_arms):\n",
        "      return self.t\n",
        "    sampled = np.random.beta(self.beta_parameters[:,0],self.beta_parameters[:,1])*self.prices\n",
        "    idx = np.argmax(sampled)\n",
        "    #return idx, sampled[idx]\n",
        "    return idx\n",
        "\n",
        "  # update parameters each time a reward in {0,1} is observed\n",
        "  def update(self,pulled_arm, reward):\n",
        "    self.t += 1\n",
        "    pulled_arm = int(pulled_arm)\n",
        "    self.update_observations(pulled_arm,reward*self.prices[pulled_arm])\n",
        "    self.beta_parameters[pulled_arm,0] = self.beta_parameters[pulled_arm,0] + reward\n",
        "    self.beta_parameters[pulled_arm,1] = self.beta_parameters[pulled_arm,1] + 1 - reward\n",
        "\n",
        "    #self.empirical_means[pulled_arm] = (self.empirical_means[pulled_arm]*(len(self.rewards_per_arm[pulled_arm]) - 1) + reward*self.prices[pulled_arm] ) / len(self.rewards_per_arm[pulled_arm])\n",
        "\n",
        "  # given some records, it initializes the learner's relevant parameters\n",
        "  # REVIEW: reimplement better\n",
        "  def initialize_learner(self, collected_features):\n",
        "    for features in collected_features:\n",
        "      self.update(features[0], features[1])\n",
        "\n"
      ]
    },
    {
      "cell_type": "markdown",
      "metadata": {
        "id": "SFRb1XPhhRS7"
      },
      "source": [
        "## Advertising"
      ]
    },
    {
      "cell_type": "code",
      "execution_count": null,
      "metadata": {
        "id": "gQgsfPw5K8S7"
      },
      "outputs": [],
      "source": [
        "from sklearn.gaussian_process import GaussianProcessRegressor\n",
        "from sklearn.gaussian_process.kernels import RBF, ConstantKernel as C"
      ]
    },
    {
      "cell_type": "code",
      "execution_count": null,
      "metadata": {
        "id": "fhgjXE0RGDo0"
      },
      "outputs": [],
      "source": [
        "class GPTS_Learner(Learner):\n",
        "  # constructor takes as input the number arms (bids), intializes to 0 their means and to an aye their standard deviation; we also need to store the arm that we pull at each round to fot the GPs\n",
        "  def __init__(self, n_arms, arms, alpha_clicks, alpha_costs, normalize_y = False, step = 1, step_delay = 366, n_restarts_optimizer = 0, plot = False):\n",
        "    super().__init__(n_arms)\n",
        "    self.arms = arms\n",
        "    self.means_clicks = np.ones(self.n_arms) * 1e3\n",
        "    self.means_costs = np.ones(self.n_arms) * 1e3\n",
        "    self.sigmas_clicks = np.ones(self.n_arms)\n",
        "    self.sigmas_costs = np.ones(self.n_arms)\n",
        "    self.pulled_arms = []\n",
        "    self.collected_clicks = np.array([])\n",
        "    self.collected_costs = np.array([])\n",
        "    self.normalize_y = normalize_y\n",
        "    self.n_restarts_optimizer = n_restarts_optimizer\n",
        "    # we initialize the parameters of the kernel and the two GPs\n",
        "    if self.normalize_y:\n",
        "      self.kernel_clicks = C(2000.,(1000.,5000.)) * RBF(0.3,(0.01,0.6)) # for normalized\n",
        "      self.kernel_costs = C(2000.,(1000.,5000.)) * RBF(0.3,(0.01,0.6)) # for normalized\n",
        "      #self.kernel_clicks = C(1,(1e-7,1e7)) * RBF(1,(1e-7,1e7))\n",
        "      #self.kernel_costs = C(1, (1e-7,1e7)) * RBF(1,(1e-7,1e7))\n",
        "    else:\n",
        "      self.kernel_clicks = C(1,(1e3,1e4)) * RBF(1,(0.1,1))\n",
        "      self.kernel_costs = C(1, (1e3,1e4)) * RBF(1,(0.1,1))\n",
        "      #self.kernel_clicks = C(1,(1e-7,1e7)) * RBF(1,(1e-7,1e7))\n",
        "      #self.kernel_costs = C(1, (1e-7,1e7)) * RBF(1,(1e-7,1e7))\n",
        "    self.gp_clicks = GaussianProcessRegressor(kernel = self.kernel_clicks, alpha = alpha_clicks**2, normalize_y = self.normalize_y, n_restarts_optimizer = self.n_restarts_optimizer)\n",
        "    self.gp_costs = GaussianProcessRegressor(kernel = self.kernel_costs, alpha = alpha_costs**2, normalize_y = self.normalize_y, n_restarts_optimizer = self.n_restarts_optimizer)\n",
        "    self.plot = plot\n",
        "    self.step = step\n",
        "    self.step_delay = step_delay\n",
        "\n",
        "  # we also need to update the value of the least pulled arm (reward[0]: n_clicks, reward[1]: costs)\n",
        "  def update_observations(self, arm_idx, reward):\n",
        "    arm_idx = int(arm_idx)\n",
        "    super().update_observations(arm_idx, reward)\n",
        "    self.pulled_arms.append(self.arms[arm_idx])\n",
        "\n",
        "  # update the GP estimations and consequently the means and sigmas of each arm\n",
        "  def update_model(self):\n",
        "    # trining inputs and targets\n",
        "    if self.t < self.step_delay or not(self.t % self.step):\n",
        "      x = np.atleast_2d(self.pulled_arms).T\n",
        "      y_clicks = self.collected_clicks\n",
        "      y_costs = self.collected_costs\n",
        "      # fit the GP\n",
        "      if len(y_clicks) > 1:\n",
        "        self.gp_clicks.fit(x,y_clicks)\n",
        "        self.gp_costs.fit(x,y_costs)\n",
        "        # update values of means and sigmas with the new predictions\n",
        "        self.means_clicks, self.sigmas_clicks = self.gp_clicks.predict(np.atleast_2d(self.arms).T, return_std = True)\n",
        "        self.means_costs, self.sigmas_costs = self.gp_costs.predict(np.atleast_2d(self.arms).T, return_std = True)\n",
        "        self.sigmas_clicks = np.maximum(self.sigmas_clicks, 1e-2)\n",
        "        self.sigmas_costs = np.maximum(self.sigmas_costs, 1e-2)\n",
        "\n",
        "      if self.plot:\n",
        "        plt.figure()\n",
        "        plt.title(\"Clicks:\" + str(self.t))\n",
        "        #plt.plot(self.arms, clicks(self.arms), 'r:', label = r'$n(x)$')\n",
        "        plt.plot(x.ravel(), y_clicks.ravel(), 'ro', label = u'Observed Clicks')\n",
        "        plt.plot(self.arms, self.means_clicks, 'b-', label = u'Predicted Clicks')\n",
        "        plt.fill(np.concatenate([self.arms,self.arms[::-1]]),\n",
        "                np.concatenate([self.means_clicks - 1.96 * self.sigmas_clicks , (self.means_clicks + 1.96 * self.sigmas_clicks)[::-1]]),\n",
        "                alpha = .5, fc = 'b', ec = 'None', label = '95% conf interval')\n",
        "        plt.xlabel('$x')\n",
        "        plt.ylabel('$n(x)$')\n",
        "        plt.legend(loc = 'lower right')\n",
        "        plt.show()\n",
        "\n",
        "        plt.figure()\n",
        "        plt.title(\"Costs:\" + str(self.t))\n",
        "        #plt.plot(self.arms, costs(self.arms), 'r:', label = r'$c(x)$')\n",
        "        plt.plot(x.ravel(), y_costs.ravel(), 'ro', label = u'Observed Costs')\n",
        "        plt.plot(self.arms, self.means_costs, 'b-', label = u'Predicted Costs')\n",
        "        plt.fill(np.concatenate([self.arms,self.arms[::-1]]),\n",
        "                np.concatenate([self.means_costs - 1.96 * self.sigmas_costs , (self.means_costs + 1.96 * self.sigmas_costs)[::-1]]),\n",
        "                alpha = .5, fc = 'b', ec = 'None', label = '95% conf interval')\n",
        "        plt.xlabel('$x')\n",
        "        plt.ylabel('$c(x)$')\n",
        "        plt.legend(loc = 'lower right')\n",
        "        plt.show()\n",
        "\n",
        "  # functions that calls the functions implemented above (reward[0]: n_clicks, reward[1]: costs)\n",
        "  def update(self, pulled_arm, reward):\n",
        "    self.t += 1\n",
        "    self.update_observations(pulled_arm, reward)\n",
        "    self.collected_clicks = np.append(self.collected_clicks,reward[0])\n",
        "    self.collected_costs = np.append(self.collected_costs,reward[1])\n",
        "    self.update_model()\n",
        "\n",
        "  # function in which the learner chooses the arm to pull at each round\n",
        "  def pull_arm(self):\n",
        "    # returns index of the maximum value drawn from the arm normal distribution\n",
        "    samples = np.random.normal(self.means_clicks - self.means_costs, np.sqrt(self.sigmas_clicks**2 + self.sigmas_costs**2))\n",
        "    return np.argmax(samples)\n",
        "\n",
        "  '''\n",
        "  # given some records and the current time iteration, it initializes the learner's relevant parameters (REVIEW: curr_time)\n",
        "  def initialize_learner(self, collected_features, curr_time):\n",
        "    # get the bids for which we actually have data\n",
        "    unique_bids = np.unique(collected_features[:,2])\n",
        "    # for every one of these bids\n",
        "    for bid in unique_bids:\n",
        "      for t in range(curr_time):\n",
        "        # mask the corresponding recorded data\n",
        "        aux = collected_features[(collected_features[:,2]==bid)*(collected_features[:,4]==t),:]\n",
        "        # recover the amount of clicks by counting the users\n",
        "        clicks = aux.shape[0]\n",
        "        # recover the costs by summing the unitary cost of each user (recovered as costs/clicks during the simulations)\n",
        "        costs = np.sum(aux[:,3],axis=0)\n",
        "        self.update_observations(bid,[clicks,costs])\n",
        "        self.collected_clicks = np.append(self.collected_clicks,clicks)\n",
        "        self.collected_costs = np.append(self.collected_costs,costs)\n",
        "    # set current time index\n",
        "    self.t = curr_time\n",
        "    # compute the means and stds needed for the next call of pull_arm()\n",
        "    self.update_model()\n",
        "\n",
        "  '''\n",
        "  # given some records and the current time iteration, it initializes the learner's relevant parameters (REVIEW: curr_time)\n",
        "  def initialize_learner(self, collected_features, curr_time):\n",
        "    # get the bids for which we actually have data\n",
        "    unique_bids = np.unique(collected_features[:,2])\n",
        "    # for every one of these bids\n",
        "    for bid in unique_bids:\n",
        "      # mask the corresponding recorded data\n",
        "      aux = collected_features[(collected_features[:,2]==bid),:]\n",
        "      # recover the amount of clicks by counting the users\n",
        "      clicks = aux.shape[0]\n",
        "      # recover the costs by summing the unitary cost of each user (recovered as costs/clicks during the simulations)\n",
        "      costs = np.sum(aux[:,3],axis=0)\n",
        "      # update the GP\n",
        "      self.update_observations(bid,[clicks,costs])\n",
        "      self.collected_clicks = np.append(self.collected_clicks,clicks)\n",
        "      self.collected_costs = np.append(self.collected_costs,costs)\n",
        "    # set current time index\n",
        "    self.t = curr_time\n",
        "    # compute the means and stds needed for the next call of pull_arm()\n",
        "    self.update_model()\n",
        "\n",
        "\n",
        "  def set_alpha(self, new_alpha_clicks, new_alpha_costs):\n",
        "    self.gp_clicks = GaussianProcessRegressor(kernel = self.kernel_clicks, alpha = new_alpha_clicks**2, normalize_y = self.normalize_y, n_restarts_optimizer = self.n_restarts_optimizer)\n",
        "    self.gp_costs = GaussianProcessRegressor(kernel = self.kernel_costs, alpha = new_alpha_costs**2, normalize_y = self.normalize_y, n_restarts_optimizer = self.n_restarts_optimizer)"
      ]
    },
    {
      "cell_type": "code",
      "execution_count": null,
      "metadata": {
        "id": "bVKv83N_bqna"
      },
      "outputs": [],
      "source": [
        "class GPUCB_Learner(GPTS_Learner):\n",
        "  def __init__(self, n_arms, arms, alpha_clicks, alpha_costs, normalize_y = False, step = 1, step_delay = 366, n_restarts_optimizer = 0, plot = False):\n",
        "    super().__init__(n_arms, arms, alpha_clicks, alpha_costs, normalize_y, step, step_delay, n_restarts_optimizer, plot)\n",
        "\n",
        "  # returns index of the maximum UCB from the arm normal distribution (coefficient for CI of order 1-1/T: 3.0)\n",
        "  def pull_arm(self):\n",
        "    upper_bound = self.means_clicks - self.means_costs + 3.0*np.sqrt(self.sigmas_clicks**2 + self.sigmas_costs**2)\n",
        "    pulled_arm = np.random.choice(np.where(upper_bound == upper_bound.max())[0])\n",
        "    return pulled_arm"
      ]
    },
    {
      "cell_type": "markdown",
      "metadata": {
        "id": "zWucpWCHhTci"
      },
      "source": [
        "## Simulation"
      ]
    },
    {
      "cell_type": "code",
      "execution_count": null,
      "metadata": {
        "id": "HHBYQJ68hKQT"
      },
      "outputs": [],
      "source": [
        "import matplotlib.pyplot as plt\n",
        "from tqdm import tqdm"
      ]
    },
    {
      "cell_type": "code",
      "execution_count": null,
      "metadata": {
        "id": "lgiMX_uahrbZ"
      },
      "outputs": [],
      "source": [
        "# generic\n",
        "T = 365                               # horizon of experiment\n",
        "n_experiments = 10                    # since the reward functions are stochastic, to better visualize the results and remove the noise we do multiple experiments"
      ]
    },
    {
      "cell_type": "markdown",
      "source": [
        "We work with 3 different classes:\n",
        "-  C1: x1 = 1, x2 = free\n",
        "-   C2: x1 = 0, x2 = 1\n",
        "-   C3: x1 = 0, x2 = 0\n",
        "\n",
        "that present different probabilities/curves over the same prices/bids. The distribution of users is uniform over the 3 classes (1/3 each)."
      ],
      "metadata": {
        "id": "8i7XS8ncP1bM"
      }
    },
    {
      "cell_type": "code",
      "execution_count": null,
      "metadata": {
        "colab": {
          "base_uri": "https://localhost:8080/"
        },
        "id": "rp7Fw22Fha3F",
        "outputId": "940466ce-11c1-48a4-f406-0617e159aa94"
      },
      "outputs": [
        {
          "output_type": "stream",
          "name": "stdout",
          "text": [
            "Pricing (optimal price) context  0\n",
            "idx: 3  price: 8  rate: 0.4  price*rate: 3.2\n",
            "Pricing (optimal price) context  1\n",
            "idx: 0  price: 5  rate: 0.5  price*rate: 2.5\n",
            "Pricing (optimal price) context  2\n",
            "idx: 4  price: 9  rate: 0.2  price*rate: 1.8\n"
          ]
        }
      ],
      "source": [
        "# pricing\n",
        "n_prices = 5\n",
        "prices = [5,6,7,8,9]\n",
        "p = np.array([[0.15,0.1,0.1,0.4,0.1],\n",
        "              [0.5,0.15,0.05,0.1,0.1],\n",
        "              [0.25,0.15,0.1,0.05,0.2]])             # bernoulli distributions for the reward functions\n",
        "opt_rate = [p[0][np.argmax(p[0]*prices)],\n",
        "            p[1][np.argmax(p[1]*prices)],\n",
        "            p[2][np.argmax(p[2]*prices)]]                 # optimal arm\n",
        "\n",
        "for i in range(0,3):\n",
        "    print(\"Pricing (optimal price) context \", str(i))\n",
        "    print(\"idx: \" + str(np.argmax(p[i]*prices)) + \"  price: \" + str(prices[np.argmax(p[i]*prices)]) + \"  rate: \" + str(opt_rate[i]) + \"  price*rate: \" + str(opt_rate[i]*prices[np.argmax(p[i]*prices)]))"
      ]
    },
    {
      "cell_type": "code",
      "execution_count": null,
      "metadata": {
        "colab": {
          "base_uri": "https://localhost:8080/",
          "height": 939
        },
        "id": "1mbnyMJJjqQ6",
        "outputId": "09a252d2-ee59-425d-a8ed-0e0c6a750efc"
      },
      "outputs": [
        {
          "output_type": "stream",
          "name": "stdout",
          "text": [
            "Advertising (optimal bid):\n",
            "idx: 65  bid: 0.6565656565656566  clicks-costs: 13.794848078095768\n",
            "Advertising (optimal bid):\n",
            "idx: 59  bid: 0.595959595959596  clicks-costs: 9.57619827197513\n",
            "Advertising (optimal bid):\n",
            "idx: 55  bid: 0.5555555555555556  clicks-costs: 34.04899438162843\n"
          ]
        },
        {
          "output_type": "display_data",
          "data": {
            "text/plain": [
              "<Figure size 800x1000 with 3 Axes>"
            ],
            "image/png": "[encoded data removed]"
          },
          "metadata": {}
        }
      ],
      "source": [
        "# advertising\n",
        "n_bids = 100\n",
        "min_bid = 0.0\n",
        "max_bid = 1.0\n",
        "bids = np.linspace(min_bid, max_bid, n_bids)\n",
        "sigma_clicks = [3, 2.5, 3]\n",
        "sigma_costs = [3, 2.5, 3]\n",
        "\n",
        "params_clicks = [[100, 4, 3, 3],\n",
        "                 [95,  6, 5, 3],\n",
        "                 [100, 5, 4, 2]]\n",
        "params_costs = [[70, 7],\n",
        "                [80, 6],\n",
        "                [50, 4]]\n",
        "def clicks(x, params=[100, 4, 3, 3]):\n",
        "  return params[0] * (1.0 - np.exp(-params[1]*x+params[2]*x**params[3]))\n",
        "\n",
        "def costs(x, params=[70, 7]):\n",
        "  return params[0] * (1.0 - np.exp(-params[1]*x))\n",
        "\n",
        "\n",
        "opt_bid = np.zeros(3)\n",
        "for i in range(0,3):\n",
        "    opt_bid[i] = bids[np.argmax(opt_rate[i]*prices[np.argmax(p[i]*prices)]*clicks(bids, params_clicks[i])-costs(bids, params_costs[i]))]\n",
        "\n",
        "fig, ax = plt.subplots(3, figsize=(8,10))\n",
        "for i in range(0, 3):\n",
        "    ax[i].plot(bids,clicks(bids, params_clicks[i]),'blue',bids, costs(bids, params_costs[i]),'orange')\n",
        "    ax[i].legend([\"Number of clicks\", \"Cumulative Costs\"])\n",
        "    ax[i].axvline(opt_bid[i],c='red')\n",
        "    print(\"Advertising (optimal bid):\")\n",
        "    print(\"idx: \" + str(np.argmax(opt_rate[i]*prices[np.argmax(p[i]*prices)]*clicks(bids, params_clicks[i])-costs(bids, params_costs[i]))) + \"  bid: \" + str(opt_bid[i]) + \"  clicks-costs: \" + str(clicks(opt_bid[i], params_clicks[i])-costs(opt_bid[i], params_costs[i])))"
      ]
    },
    {
      "cell_type": "code",
      "execution_count": null,
      "metadata": {
        "id": "HLlITTMr2E4a"
      },
      "outputs": [],
      "source": [
        "# Function wrapper to be able to pass to environment\n",
        "def clicks1(x):\n",
        "    return clicks(x, params_clicks[0])\n",
        "def clicks2(x):\n",
        "    return clicks(x, params_clicks[1])\n",
        "def clicks3(x):\n",
        "    return clicks(x, params_clicks[2])"
      ]
    },
    {
      "cell_type": "code",
      "execution_count": null,
      "metadata": {
        "id": "ulAEpaG42E4b"
      },
      "outputs": [],
      "source": [
        "# Function wrapper to be able to pass to environment\n",
        "def costs1(x):\n",
        "    return costs(x, params_costs[0])\n",
        "def costs2(x):\n",
        "    return costs(x, params_costs[1])\n",
        "def costs3(x):\n",
        "    return costs(x, params_costs[2])"
      ]
    },
    {
      "cell_type": "code",
      "execution_count": null,
      "metadata": {
        "id": "GYJqulZUHS97"
      },
      "outputs": [],
      "source": [
        "import warnings\n",
        "warnings.simplefilter('ignore', UserWarning)"
      ]
    },
    {
      "cell_type": "code",
      "execution_count": null,
      "metadata": {
        "id": "_SRCYBr82E4c"
      },
      "outputs": [],
      "source": [
        "def context_generation(collected_features, prices, features_to_check=[0,1], t=14): # INPUT: [x1, x2, pulled_price, reward_price] per row\n",
        "    '''\n",
        "    Given a record of rounds, we check if it's worth to split the analysis in different contexts based on x1 and x2.\n",
        "    In our specific case (REVIEW) we consider the pricing part for evaluating the splits\n",
        "        Inputs:\n",
        "          collected_features(np.array(): recorded users; for each user we record its x1, x2, pulled_price and reward_price, with reward_price being the \"buys or not\" binary variable\n",
        "                                         (it's in {0,1} => to get the mean rewards we need to mulitply by the price)\n",
        "          prices (np.array): vector of prices corresponding to the arms\n",
        "          features_to_check (list): features we check the split on. Defaults to [0,1], meaning that the features that we check are x0 and x1\n",
        "          time (int): it's the \"self.t\" counter of the learner, which in this case is the number of recorded users. It could influence the confidence delta (REVIEW)\n",
        "\n",
        "        Output:\n",
        "          [bool,[a,b,c]]: \"bool\": tells you if there is a division (\"bool\" = True => there is at least a split (at the first level), look at \"a\" to see which variable induces the split and\n",
        "                                  look at the other arguments to see if we also split at the second level)\n",
        "                          \"a\": is the index for the variable on which a first split is made on (if a=0 we split on x0 and if a=1 we split on x1).\n",
        "                          \"b\": if variable \"a\" is split, it says if the sub-leaf xa = 0 is split one more time. If it is None, the sub-leaf is not split, else it defaults to the\n",
        "                               other variable (e.g. if a=1, b=0 or b=None)\n",
        "                          \"c\": if variable \"a\" is split, it says if the sub-leaf xa = 1 is split one more time. If it is None, the sub-leaf is not split, else it defaults to the\n",
        "                               other variable (e.g. if a=1, b=0 or b=None)\n",
        "\n",
        "    The algorithm works as follows. Given the records of the users (NB: basically we are in a leaf):\n",
        "    - check which arm is best when there is no split (group C0). This is done by computing for each arm the empirical mean of the reward (price*rate) and choosing the highest one\n",
        "    - compute the lower bound of the reward for the best arm (considering the best arm a*: LB = mean(a*) - price(a*)*sqrt(-log(delta)/(2*|C0 users s.t. pulled_arm was a*|))\n",
        "    - consider both \"first level\" splits (i.e. splits in which we divide the users of group C0 based only on one variable, e.g. split users based on x0 or based on x1; it's the first level of the tree)\n",
        "    - for each \"first level\" split:\n",
        "        - divide the users in groups C1 and C2 based on the designated variable:\n",
        "        - compute the probability that each group is occuring (p_1 = |C1|/|C0|, p_2 = |C2|/|C0|)\n",
        "        - compute the lower bound of these probabilities (LB_pi = p_i - sqrt(-log(delta)/(2*|C0|)))\n",
        "        - check which arm is best for each group. This is done by computing for each arm the empirical mean of the reward (price*rate) for the users that have the characteristic specific to the considered\n",
        "          group and choosing the highest one\n",
        "        - compute the lower bound of the reward for the best arm (considering the best arm a_i* for group Ci: LB_i = mean_i(a_i*) - price(a_i*)*sqrt(-log(delta)/(2*|Ci users s.t. pulled_arm was a_i*|))\n",
        "        - compute the lower bound after the split (that is LB_split = LB_p1*LB_1 + LB_p2*LB_2)\n",
        "    - choose the highest LB_split between the two\n",
        "    - if the chosen LB_split is higher than the LB (non split case), split the context according to the designated variables\n",
        "    - create two leaves accordingly and repeat the procedure on each of them\n",
        "    '''\n",
        "\n",
        "    # confidence that we consider for the Confidence Intervals (REVIEW: does it make sense for it to be 1-1/t?)\n",
        "    delta = 1/t\n",
        "    #delta = 1/93075\n",
        "\n",
        "    # Compute the number of users associated with each arm (|C0 users s.t. pulled_arm was a| for each a)\n",
        "    length_er_arms_0 = [len(collected_features[(collected_features[:,2]==arm)]) for arm in range(5)]\n",
        "    # Compute the expected reward for each arm (price*rate)\n",
        "    er_arms_0 = [np.mean(collected_features[(collected_features[:,2]==arm)], axis=0)[3] * prices[arm] if length_er_arms_0[arm]>0 else 0 for arm in range(5)]\n",
        "    # Choose the best arm (that is a* with highest expected reward)\n",
        "    best_er_price_index_0 = np.argmax(er_arms_0)\n",
        "    # Compute the lower bound of the expected reward for the best arm (LB)\n",
        "    lb_best_er_arms_0 = (max(er_arms_0) - prices[best_er_price_index_0]*np.sqrt(-np.log(delta)/(2*length_er_arms_0[best_er_price_index_0]))) if length_er_arms_0[best_er_price_index_0]>0 else 0\n",
        "\n",
        "    #print(collected_features)\n",
        "\n",
        "    # list in which we store the values (lower bounds) after the split\n",
        "    splits = []\n",
        "\n",
        "    # for each first level split (i.e. split C0 based on a specific feature x_k)\n",
        "    for i in features_to_check: # for each feature that we must check, such feature splits group C0 in groups C1 (x_k = 0) and C2 (x_k = 1)\n",
        "\n",
        "        # Estimate probabilities of C1 and C2 (that is p_1 = |C1|/|C0|, p_2 = |C2|/|C0| = 1 - p_1)\n",
        "        prob_0 = sum(collected_features[:,i]==0) / len(collected_features)\n",
        "        prob_1 = 1 - prob_0\n",
        "\n",
        "        # Compute the lower bound of the probabilities of the two groups (LB_pi)\n",
        "        lb_prob_0 = prob_0 - np.sqrt(-np.log(delta)/(2*len(collected_features)))\n",
        "        lb_prob_1 = prob_1 - np.sqrt(-np.log(delta)/(2*len(collected_features)))\n",
        "\n",
        "        # Compute the number of users associated with each arm (|Ci users s.t. pulled_arm was a| for each a)\n",
        "        length_er_arms_1 = [len(collected_features[(collected_features[:,i]==0) * (collected_features[:,2]==arm)]) for arm in range(5)]\n",
        "        length_er_arms_2 = [len(collected_features[(collected_features[:,i]==1) * (collected_features[:,2]==arm)]) for arm in range(5)]\n",
        "\n",
        "        # Compute the expected reward for each arm (price*rate) for both C1 and C2\n",
        "        er_arms_1 = [np.mean(collected_features[(collected_features[:,i]==0) * (collected_features[:,2]==arm)], axis=0)[3] * prices[arm] if length_er_arms_1[arm]>0 else 0  for arm in range(5)]\n",
        "        er_arms_2 = [np.mean(collected_features[(collected_features[:,i]==1) * (collected_features[:,2]==arm)], axis=0)[3] * prices[arm] if length_er_arms_2[arm]>0 else 0  for arm in range(5)]\n",
        "\n",
        "        # Choose the best arm (that is a_i* with highest expected reward)\n",
        "        best_er_price_index_1 = np.argmax(er_arms_1)\n",
        "        best_er_price_index_2 = np.argmax(er_arms_2)\n",
        "\n",
        "        # Compute the lower bound of the probabilities of the two groups (LB_pi)\n",
        "        lb_best_er_arms_1 = (max(er_arms_1) - prices[best_er_price_index_1]*np.sqrt(-np.log(delta)/(2*length_er_arms_1[best_er_price_index_1]))) if length_er_arms_1[best_er_price_index_1]>0 else 0\n",
        "        lb_best_er_arms_2 = (max(er_arms_2) - prices[best_er_price_index_2]*np.sqrt(-np.log(delta)/(2*length_er_arms_2[best_er_price_index_2]))) if length_er_arms_2[best_er_price_index_2]>0 else 0\n",
        "\n",
        "        # Append the value after the split\n",
        "        splits.append(lb_best_er_arms_1*lb_prob_0 + lb_best_er_arms_2*lb_prob_1)\n",
        "\n",
        "    # Select feature (x_k) with higher value after the split\n",
        "    best_feature = np.argmax(splits)\n",
        "    worse_feature = np.argmin(splits)\n",
        "    # If the value after the split is higher than the value before the split, split C0 based on x_k into two sub-leaves\n",
        "    if splits[best_feature] >= lb_best_er_arms_0:\n",
        "        if len(features_to_check)-1 == 0: # If there are no other features to check, return (used for recurrent call of the function)\n",
        "            return True, [features_to_check[best_feature]]\n",
        "        # If there are still features to check, do the check again by passing the correct subset of records to the function s.t. we are in the specific leaf we want to consider\n",
        "        # each time (recurrent call)\n",
        "        check_sub0, _ = context_generation(collected_features[collected_features[:,best_feature]==0], prices, features_to_check=[worse_feature], t = t)\n",
        "        check_sub1, _ = context_generation(collected_features[collected_features[:,best_feature]==1], prices, features_to_check=[worse_feature], t = t)\n",
        "        '''\n",
        "        sub0 = None\n",
        "        sub1 = None\n",
        "        if check_sub0:\n",
        "          sub0 = features_to_check[worse_feature]\n",
        "        if check_sub1:\n",
        "          sub1 = features_to_check[worse_feature]\n",
        "        return True, [features_to_check[best_feature], sub0, sub1]\n",
        "        '''\n",
        "        return True, [features_to_check[best_feature], features_to_check[worse_feature] if check_sub0 else None, features_to_check[worse_feature] if check_sub1 else None]\n",
        "\n",
        "    return False, []"
      ]
    },
    {
      "cell_type": "code",
      "execution_count": null,
      "metadata": {
        "colab": {
          "base_uri": "https://localhost:8080/"
        },
        "id": "MEHXzcqW2E4d",
        "outputId": "ed672b58-0522-4bf4-9cfc-d4d91ed6a93e"
      },
      "outputs": [
        {
          "output_type": "stream",
          "name": "stderr",
          "text": [
            "100%|██████████| 100/100 [00:09<00:00, 10.96it/s]\n"
          ]
        },
        {
          "output_type": "execute_result",
          "data": {
            "text/plain": [
              "0.13"
            ]
          },
          "metadata": {},
          "execution_count": 146
        }
      ],
      "source": [
        "# Function testing\n",
        "\n",
        "temp=[]\n",
        "for i in tqdm(range(0,100)):\n",
        "  aux = []\n",
        "\n",
        "  for i in range(1000):\n",
        "      x1 = 1 if np.random.binomial(1, 1/3) > 0.5 else 0\n",
        "      x2 = 1 if np.random.binomial(1, 1/4) > 0.5 else 0\n",
        "      #price_buy = max(0, np.random.normal(0,10))\n",
        "      pulled_price = np.random.choice([0,1,2,3,4],p=p[0]/sum(p[0]))\n",
        "      aux.append([x1,x2,pulled_price, np.random.binomial(1, 0)]) if x1 == 0 else aux.append([x1,x2,pulled_price, np.random.binomial(1, 1.)])\n",
        "\n",
        "  aux=np.array(aux)\n",
        "  temp.append(context_generation(aux, prices, t = 1000)[0])\n",
        "sum(temp)/len(temp)"
      ]
    },
    {
      "cell_type": "code",
      "execution_count": null,
      "metadata": {
        "id": "zx1dR-Cx2E4d"
      },
      "outputs": [],
      "source": [
        "def create_learners(n_contexts, price, bids, sigma_clicks, sigma_costs):\n",
        "  '''\n",
        "  Given a number of contexts, it generates the necessary learners for each of them, that is:\n",
        "    - pricing learner (Thompson Sampling)\n",
        "    - advertasting learners:\n",
        "      - GPTS\n",
        "      - GPUCB\n",
        "  and generates/re-initializes the vectors for the daily_pricing_rewards which will be needed for keeping track of the rewards during the 14 days that the contexts are active in\n",
        "    -\n",
        "  '''\n",
        "\n",
        "  pricing_learners_gpts = [TS_Pricing_Learner(n_arms = len(price), prices = price) for c in range(n_contexts)]\n",
        "  pricing_learners_gpucb =[TS_Pricing_Learner(n_arms = len(price), prices = price) for c in range(n_contexts)]\n",
        "  gpts_learners = [GPTS_Learner(n_arms = len(bids), arms = bids, alpha_clicks = sigma_clicks[c], alpha_costs = sigma_costs[c],\n",
        "                              step = 1, normalize_y = False,plot = False, step_delay = 10) for c in range(n_contexts)]\n",
        "  gpucb_learners = [GPUCB_Learner(n_arms = len(bids), arms = bids, alpha_clicks = sigma_clicks[c], alpha_costs = sigma_costs[c],\n",
        "                                step = 1, normalize_y = False, step_delay = 0) for c in range(n_contexts)]\n",
        "\n",
        "  gpts_daily_pricing_rewards = [np.array([]) for c in range(n_contexts)]\n",
        "  gpucb_daily_pricing_rewards = [np.array([]) for c in range(n_contexts)]\n",
        "\n",
        "  return pricing_learners_gpts, pricing_learners_gpucb, gpts_learners, gpucb_learners, gpts_daily_pricing_rewards, gpucb_daily_pricing_rewards\n",
        "\n",
        "\n",
        "def click_constant_from_context(x1, x2):\n",
        "  '''\n",
        "  Given the values of variables x1 and x2 (change of notation w.r.t. x0 and x1 in the context_generation) that characterize a context/leaf, it generates the vector of coefficients \"k\"\n",
        "  that is used for generating the users belonging to that context. The possible values for x1 and x2 are:\n",
        "    - 0: x_k = 0\n",
        "    - 1: x_k = 1\n",
        "    - 2: x_k = free\n",
        "  The \"k\" vectors will be used for multiplying the rewards that are returned from the 3 different environments that we work with, so that the users and interactions actually respect the feature-wise\n",
        "  discrimination induced by the different contexts.\n",
        "  We recall that the users can be of 3 different tipes:\n",
        "    - x1 = 1, x2 = free: generated by environment_1 (class 1)\n",
        "    - x1 = 0, x2 = 1: generated by environment_2 (class 2)\n",
        "    - x1 = 0, x2 = 0: generated by environment_3 (class 3)\n",
        "  With each class having the same probability of being observed.\n",
        "  At any given time, the sum of the \"k\" vectors of all the active contexts should be [1,1,1],\n",
        "  '''\n",
        "\n",
        "  if x1 == 0:\n",
        "    if x2 == 1:\n",
        "      return [0,1,0]\n",
        "    elif x2 == 0:\n",
        "      return [0,0,1]\n",
        "    elif x2 == 2:\n",
        "      return [0,1,1]\n",
        "  elif x1 == 1:\n",
        "    if x2 == 1 or x2 == 0:\n",
        "      return [1/2,0,0]\n",
        "    elif x2 == 2:\n",
        "      return [1,0,0]\n",
        "  elif x1 == 2:\n",
        "    if x2 == 1:\n",
        "      return [1/2,1,0]\n",
        "    elif x2 == 0:\n",
        "      return [1/2,0,1]\n",
        "    elif x2 == 2:\n",
        "      return [1,1,1]\n",
        "\n",
        "# helper function for saving temporary results\n",
        "def save_results(x, T):\n",
        "  np.savetxt(\"gpts_rewards_per_experiment\"+str(T)+\".csv\", x, delimiter=\",\")\n",
        "\n",
        "# helper function for loading temporary results\n",
        "def load_results(fname):\n",
        "  return np.loadtxt(fname, delimiter=\",\")"
      ]
    },
    {
      "cell_type": "code",
      "execution_count": null,
      "metadata": {
        "id": "lOwCK0sJ2E4e"
      },
      "outputs": [],
      "source": [
        "# PSEUDO-CODE\n",
        "# 4.2:\n",
        "  # run basic algorithm for 2 weeks (Aggregate model, 1 context), for every person (n total) observe also x1,x2\n",
        "    # depending on x1 and x2 we use the corresponding environment variables: click and cost fct and sigmas, price probs.\n",
        "    # use same prices for all classes\n",
        "\n",
        "  # after 2 weeks, run context-generator algorithm (n tuples: [x1,x2,buy*price]) <=> classification algorithm that maps (x1,x2)->(a,b,c,... M) classes, since we don't know the actual ones\n",
        "    # For x1 -> check split condition (using lower bound on the expected rewards)\n",
        "    # For x2 -> check split condition (using lower bound on the expected rewards)\n",
        "    # return current best context strategy\n",
        "\n",
        "  # for each day 14:365 run Dissagregate model:\n",
        "    # We create M bidding learners and M pricing learners\n",
        "    # pull M bids -> mapped into 3 bids for the observation/generation purposes\n",
        "    # observe a certain amount of clicks (clicks1 [1,.], clicks2 [0,1], clicks3 [0,0]) -> mapped into clicks1, ..., clicksM by the context classification algorithm\n",
        "      # for every person (n total) observe x1 and x2:\n",
        "        # [1,1]->1  [0,1]->2 [1,0]->1, [0,0]->3 => clicks[1,1] = 1/2*clicks1, clicks[1,0] = 1/2*clicks1\n",
        "        # [1,:]->1 [0,:]->2,3 => clicks[0,:] = clicks2 + clicks3\n",
        "    # observe a certain amount of costs (costs1 [1,.], costs2 [0,1], costs3 [0,0]) -> mapped into costs1, ..., costsM by the context classification algorithm\n",
        "      # same as clicks\n",
        "    # update the M bidding_learners\n",
        "\n",
        "    # for each class/context (1,...,M):\n",
        "      # for each click:\n",
        "        # pull a price\n",
        "        # observe acquisition or not\n",
        "        # update corresponding pricing_learner\n",
        "\n",
        "    # after 2 weeks, update context-generator algorithm\n",
        "\n",
        "  # reward: sum(rate[i]*price[i]*clicks[i] - costs[i])\n"
      ]
    },
    {
      "cell_type": "code",
      "execution_count": null,
      "metadata": {
        "colab": {
          "base_uri": "https://localhost:8080/"
        },
        "id": "YvOLQjxQtZ7Q",
        "outputId": "cabdc15a-8c2a-4abe-fe62-5bb281236f32"
      },
      "outputs": [
        {
          "output_type": "stream",
          "name": "stderr",
          "text": [
            "100%|██████████| 10/10 [13:09<00:00, 78.91s/it]\n"
          ]
        }
      ],
      "source": [
        "# experiments\n",
        "save_results_opt = False\n",
        "\n",
        "# list for storing the number of contexts we have over time over all the experiments\n",
        "mean_n_contexts = []\n",
        "\n",
        "n_experiments = 10\n",
        "T=365\n",
        "\n",
        "# list for storing the rewards of all experiments\n",
        "rewards_for_experiments = []\n",
        "\n",
        "\n",
        "for e in tqdm(range(0,n_experiments)):  # cycle on experiments\n",
        "\n",
        "  # environment setup ()\n",
        "  env = Environment_Multiple_Contexts(n_arms = n_prices,\n",
        "                                        probabilities = p,\n",
        "                                        bids = bids,\n",
        "                                        average_number_of_clicks = [clicks1, clicks2, clicks3],\n",
        "                                        average_cum_daily_cost = [costs1, costs2, costs3],\n",
        "                                        noise_clicks = sigma_clicks,\n",
        "                                        noise_cost = sigma_costs)\n",
        "\n",
        "  # initialize the array in which we store the information about the observed users, characterized by: [x1, x2, pulled_price, pricing_reward, pulled_bid, unitary_cost, time],\n",
        "  # where \"unitary_cost\" refers to the cost that that single user imposed in the advertising process (obtained by dividing the total cost by the number of clicks for that users' class)\n",
        "  collected_features = np.array([])\n",
        "  first_user = 0 # auxiliary flag\n",
        "\n",
        "\n",
        "  # create vector for storing the rewards of the whole experiment\n",
        "  experiment_rewards = np.array([])\n",
        "\n",
        "\n",
        "  for t in range(0, T): # cycle on days\n",
        "\n",
        "    # initialization at t = 0\n",
        "    if t ==0:\n",
        "\n",
        "      # one single context\n",
        "      n_contexts = 1\n",
        "      # get corresponding k coefficients ([1,1,1])\n",
        "      k = np.zeros((1,3))\n",
        "      k[0,:] = click_constant_from_context(x1=2, x2=2)\n",
        "\n",
        "      # create the corresponding learners and initialize an empty vector for storing the pricing rewards for the days the context is active\n",
        "      actual_sigma_clicks = np.sqrt(np.sum((np.array(k[0,:])**2)*(np.array(sigma_clicks)**2)))\n",
        "      actual_sigma_costs = np.sqrt(np.sum((np.array(k[0,:])**2)*(np.array(sigma_costs)**2)))\n",
        "      #pricing_learners_gpts, _, gpts_learners, __, gpts_daily_pricing_rewards, ___ = create_learners(n_contexts, prices, bids, [actual_sigma_clicks], [actual_sigma_costs])\n",
        "      _, pricing_learners_gpts, _, gpts_learners, _, gpts_daily_pricing_rewards = create_learners(n_contexts, prices, bids, [actual_sigma_clicks], [actual_sigma_costs])\n",
        "      # create and array for storing the cumulative costs of all the contexts for the days those contexts are active\n",
        "      # (NB: for now, we are storing the daily collected costs as a single value summing the costs derived from all the contexts; it shouldn't be a problem)\n",
        "      collected_costs = np.array([])\n",
        "\n",
        "      # number of contexts of the experiment\n",
        "      temp_n_contexts = [1]\n",
        "\n",
        "    # each 14 days, run the context_generation algorithm\n",
        "    if t%14 == 0 and t!=0:\n",
        "\n",
        "      # helper for saving temporary results\n",
        "      if save_results_opt:\n",
        "        save_results(experiment_rewards, T=t)\n",
        "\n",
        "      # append to the rewards of the experiment the recorded rewards of the last 14 days, obtained by summing the stored rewards over all the contexts each day (it's an array of size 14)\n",
        "      experiment_rewards = np.append(experiment_rewards, np.sum([gpts_daily_pricing_rewards[j] for j in range(n_contexts)],axis=0)-collected_costs)\n",
        "\n",
        "      # re-initialize the array for storing the costs for the days the context is active\n",
        "      collected_costs = np.array([])\n",
        "\n",
        "      # Generate the contexts through the context generation algorithm\n",
        "      # in \"split condition\" we have at least a split and in \"feature_tree\" we have the characteristics about the generated leaves\n",
        "      split_condition, feature_tree = context_generation(collected_features[:,:4], prices=prices, t=collected_features.shape[0])\n",
        "\n",
        "      # if there is at least a split\n",
        "      if split_condition:\n",
        "        # consider the variable over which the first split is done (first_feature = 0 => x1;  first_feature = 1 => x2)\n",
        "        first_feature = feature_tree[0]\n",
        "        # there is a maximum of 4 possible contexts (initialized as non splitted case for convenience)\n",
        "        contexts = [[2, 2],[2, 2],[2, 2],[2, 2]]\n",
        "        for i in range(2):\n",
        "          contexts[2*i][first_feature] = i\n",
        "          contexts[2*i+1][first_feature] = i\n",
        "          #example: there is a first split at level x1 => contexts = [[0,2],[0,2][1,2],[1,2]]\n",
        "\n",
        "          # for the generated leaves (cycle given by \"i\" indexing), if there is another split, modify the contexts\n",
        "          if feature_tree[i+1] is not None:\n",
        "            second_feature = int(not first_feature)\n",
        "            contexts[2*i][second_feature] = 0\n",
        "            contexts[2*i+1][second_feature] = 1\n",
        "            # example: there is a split in the leaf x1 = 0 => contexts = [[0,0],[0,1][1,2],[1,2]]\n",
        "            #          moreover, if there is also a split in the lead x1 = 1 => contexts = [[0,0],[0,1],[1,0],[1,1]]\n",
        "\n",
        "        # Remove duplicates by creating a set\n",
        "        contexts = list(set(map(tuple, contexts)))\n",
        "        # compute the number of new contexts\n",
        "        n_contexts = len(contexts)\n",
        "\n",
        "      else: # one single context context, x1=free, x2=free\n",
        "        n_contexts = 1\n",
        "        contexts=[(2,2)]\n",
        "\n",
        "      k = np.zeros((n_contexts,3))\n",
        "\n",
        "      # keep track of the number of active contexts\n",
        "      temp_n_contexts.append(n_contexts)\n",
        "\n",
        "      # create the necessary learners and storage vectors for each context (NB: for now we are omitting the GPUCB part of the algorithm)\n",
        "      #pricing_learners_gpts, _, gpts_learners, __, gpts_daily_pricing_rewards, ___ = create_learners(n_contexts, prices, bids, [sigma_clicks[0] for c in range(n_contexts)], [sigma_costs[0] for c in range(n_contexts)])  # REVIEW\n",
        "      _, pricing_learners_gpts, _, gpts_learners, _, gpts_daily_pricing_rewards = create_learners(n_contexts, prices, bids, [sigma_clicks[0] for c in range(n_contexts)], [sigma_costs[0] for c in range(n_contexts)])\n",
        "\n",
        "      # for each context identify exactly which values of x1 and x2 characterize them, in order to understand which recorded users are associated with each context\n",
        "      for j in range(n_contexts):\n",
        "        # identify which values of x1 and x2 characterizes it (and create a mask accordingly), in order to understand which recorded users (for which we know x1 and x2) are associated with it\n",
        "        x1,x2 = contexts[j]\n",
        "        mask = np.ones(len(collected_features), dtype=bool)\n",
        "        if x1 == 2 and x2!=2:\n",
        "          mask = (collected_features[:,1]==x2)\n",
        "        elif x2 == 2 and x1 !=2:\n",
        "          mask = (collected_features[:,0]==x1)\n",
        "        elif x1!=2 and x2 != 2:\n",
        "          mask = (collected_features[:,0]==x1) * (collected_features[:,1]==x2)\n",
        "\n",
        "        # generate the k coefficients of the context\n",
        "        k[j,:] = click_constant_from_context(x1=contexts[j][0], x2=contexts[j][1])\n",
        "\n",
        "        # compute actual sigmas for GP\n",
        "        actual_sigma_clicks = np.sqrt(np.sum((np.array(k[j,:])**2)*(np.array(sigma_clicks)**2)))\n",
        "        actual_sigma_costs = np.sqrt(np.sum((np.array(k[j,:])**2)*(np.array(sigma_costs)**2)))\n",
        "        gpts_learners[j].set_alpha(actual_sigma_clicks,actual_sigma_costs)\n",
        "\n",
        "        # use such recorded users to initialize the learners of the context\n",
        "        pricing_learners_gpts[j].initialize_learner(collected_features[mask,2:])\n",
        "        gpts_learners[j].initialize_learner(collected_features[mask,2:], t)\n",
        "\n",
        "\n",
        "    ## END OF CONTEXT INITIALIZATION (DONE EVERY 14 DAYS)\n",
        "\n",
        "    ## START OF ACTUAL DAY-ITERATION\n",
        "\n",
        "    #print('day:' + str(t))\n",
        "\n",
        "    # initialization of temporary variable for storing the sum of daily costs of all the contexts\n",
        "    total_daily_costs = 0\n",
        "\n",
        "    total_daily_reward = 0\n",
        "\n",
        "    # for each context\n",
        "    for j in range(n_contexts):\n",
        "      #print(' context: ' +str(j))\n",
        "      #print(' '+str(k[j]))\n",
        "\n",
        "      # pull a bid\n",
        "      pulled_bid_ts = gpts_learners[j].pull_arm()\n",
        "\n",
        "      # initialization of temporary variable for storing the total amount of clicks in the context\n",
        "      reward_click_ts = 0\n",
        "\n",
        "      # temporary variable for storing the daily total pricing reward coming from all the users in the context\n",
        "      aux = 0\n",
        "\n",
        "      # initialization of temporary variable for storing the total daily costs of the contexts\n",
        "      reward_cost_ts = 0\n",
        "\n",
        "      # list for temporarely storing the observed users (will be used for a shuffling so that we do not to induce an order bias in the pricing learner)\n",
        "      pulled_reward_price_arr = []\n",
        "\n",
        "      # for every environment (<-> for each one of the 3 possible classes of users)\n",
        "      for env_idx in range(3):\n",
        "\n",
        "        # if the k coefficient of the environment is 0, skip the iteration (the user class is not part of this context)\n",
        "        if k[j,env_idx] == 0:\n",
        "          continue\n",
        "\n",
        "        # observe the daily clicks and costs for this class\n",
        "        reward_click_ts_, reward_cost_ts_ = env.bidding_round(pulled_bid_ts, env_idx)\n",
        "        # update the total daily clicks and costs of the context\n",
        "        reward_click_ts += k[j,env_idx]*reward_click_ts_\n",
        "        reward_cost_ts += k[j,env_idx]*reward_cost_ts_\n",
        "        #print('   environment '+str(env_idx)+' clicks:' + str(reward_click_ts_))\n",
        "        #print('   environment '+str(env_idx)+' costs :' + str(reward_cost_ts_))\n",
        "\n",
        "        # for each user that clicks on the add\n",
        "        for click_idx in range(reward_click_ts_):\n",
        "\n",
        "          # pull a price and observe the corresponding reward  (NB: for now we are updating the pricing learner only at the end of the day)\n",
        "          pulled_price = pricing_learners_gpts[j].pull_arm()\n",
        "          reward_price = env.pricing_round(pulled_price, env_idx)\n",
        "          #print(pulled_price)\n",
        "\n",
        "          # Set x1 and x2 to the current user class\n",
        "          if env_idx==0:\n",
        "            if k[j,0] == 1:\n",
        "              if np.random.binomial(1,1/2):\n",
        "                x1 = 1\n",
        "                x2 = 1\n",
        "              else:\n",
        "                x1 = 1\n",
        "                x2 = 0\n",
        "            elif contexts[j][1] == 1:\n",
        "              x1 = 1\n",
        "              x2 = 1\n",
        "            else:\n",
        "              x1 = 1\n",
        "              x2 = 0\n",
        "          elif env_idx==1:\n",
        "            x1=0\n",
        "            x2=1\n",
        "          elif env_idx==2:\n",
        "            x1=0\n",
        "            x2=0\n",
        "\n",
        "          # store the user information in the temporary list (NB: the last term for each user is its unitary cost)\n",
        "          pulled_reward_price_arr.append((pulled_price, reward_price, x1, x2, reward_cost_ts_/reward_click_ts_))\n",
        "\n",
        "      ## END OF CYCLE ON THE ENVIRONMENTS\n",
        "\n",
        "      # shuffle the observed users\n",
        "      np.random.shuffle(pulled_reward_price_arr)\n",
        "\n",
        "      # for each user in the shuffled users\n",
        "      for arr in pulled_reward_price_arr:\n",
        "\n",
        "        # decouple its recorded values\n",
        "        pulled_price, reward_price, x1, x2, unitary_cost_ts = arr\n",
        "\n",
        "        # update the pricing learner\n",
        "        pricing_learners_gpts[j].update(pulled_price, reward_price)\n",
        "\n",
        "        # store the record of the user (\"first_user\" used for indicating the initialization of the collected_features)\n",
        "        if first_user == 0:\n",
        "          collected_features = np.array([x1, x2, pulled_price, reward_price, pulled_bid_ts, unitary_cost_ts, t]).reshape((1,7))\n",
        "          first_user += 1\n",
        "        else:\n",
        "          collected_features = np.append(collected_features, np.array([x1, x2, pulled_price, reward_price, pulled_bid_ts, unitary_cost_ts, t]).reshape((1,7)), axis=0)\n",
        "\n",
        "        # update the daily total pricing reward of the context\n",
        "        aux += reward_price*prices[pulled_price]\n",
        "        # DEBUG\n",
        "        #print(reward_price*prices[pulled_price])\n",
        "\n",
        "\n",
        "      ## END OF CYCLE OVER THE OBSERVED USERS FOR THE CONTEXT\n",
        "\n",
        "      # update the advertising learner of the context based on the total clicks\n",
        "      gpts_learners[j].update(pulled_bid_ts, [reward_click_ts,reward_cost_ts])\n",
        "\n",
        "      # DEBGUG\n",
        "      #print('   actual clicks: ' +str(reward_click_ts))\n",
        "      #print('   actual reward: ' + str(aux))\n",
        "      #print('   actual costs: ' +str(reward_cost_ts))\n",
        "\n",
        "      # append the daily pricing reward of the context\n",
        "      gpts_daily_pricing_rewards[j] = np.append(gpts_daily_pricing_rewards[j], aux)\n",
        "\n",
        "      # update the daily total cost over all the contexts\n",
        "      total_daily_costs += reward_cost_ts\n",
        "\n",
        "      # update the total daily pricing reward (DEBUG print purposes)\n",
        "      total_daily_reward += aux\n",
        "\n",
        "    ## END OF CYCLE ON CONTEXTS\n",
        "\n",
        "    #collected_costs = np.append(collected_costs, reward_cost_ts)\n",
        "    # REVIEW:\n",
        "    collected_costs = np.append(collected_costs, total_daily_costs)\n",
        "    #print('total reward: ' + str(total_daily_reward))\n",
        "    #print('total costs: ' + str(total_daily_costs))\n",
        "\n",
        "  ## END OF CYCLE ON DAYS\n",
        "\n",
        "  # append the rewards of the last days (did not happen in the loop since the 14 days reinitialization has not been met)\n",
        "  experiment_rewards = np.append(experiment_rewards, np.sum([gpts_daily_pricing_rewards[j] for j in range(n_contexts)],axis=0)-collected_costs)\n",
        "\n",
        "  # append the reward of the experiment\n",
        "  rewards_for_experiments.append(experiment_rewards)\n",
        "\n",
        "  # append the number of contexts over time of the experiment\n",
        "  mean_n_contexts.append(temp_n_contexts)"
      ]
    },
    {
      "cell_type": "code",
      "source": [
        "# print the number of contexts over time\n",
        "np.mean(mean_n_contexts,axis = 0)"
      ],
      "metadata": {
        "id": "qDkSJVuyl4_J",
        "colab": {
          "base_uri": "https://localhost:8080/"
        },
        "outputId": "9caf5edb-e932-4a47-ade1-2ad6ee086baf"
      },
      "execution_count": null,
      "outputs": [
        {
          "output_type": "execute_result",
          "data": {
            "text/plain": [
              "array([1. , 2. , 1.6, 1.4, 2. , 2. , 1.5, 1.5, 2. , 2. , 1.7, 1.5, 1.9,\n",
              "       1.8, 1.8, 1.9, 1.9, 2. , 2. , 1.8, 1.7, 1.6, 2.2, 1.8, 1.6, 1.8,\n",
              "       2. ])"
            ]
          },
          "metadata": {},
          "execution_count": 150
        }
      ]
    },
    {
      "cell_type": "code",
      "execution_count": null,
      "metadata": {
        "id": "0eeog80MOUbG",
        "colab": {
          "base_uri": "https://localhost:8080/",
          "height": 449
        },
        "outputId": "d4930f16-92b9-4f5e-e388-b5f5c65f667a"
      },
      "outputs": [
        {
          "output_type": "display_data",
          "data": {
            "text/plain": [
              "<Figure size 640x480 with 1 Axes>"
            ],
            "image/png": "[encoded data removed]"
          },
          "metadata": {}
        }
      ],
      "source": [
        "# optimum value computed as the sum of the optimal values for the 3 classes of users\n",
        "opt = np.sum([opt_rate[i]*prices[np.argmax(p[i]*prices)]*clicks(opt_bid[i], params_clicks[i]) - costs(opt_bid[i], params_costs[i]) for i in range(3)])\n",
        "\n",
        "detections = list(range(0,T,14))\n",
        "# plot the results\n",
        "plt.figure(0)\n",
        "plt.ylabel(\"Regret\")\n",
        "plt.xlabel(\"t\")\n",
        "plt.plot(np.cumsum(np.mean(opt - rewards_for_experiments, axis = 0)), 'r-')\n",
        "for i in detections:\n",
        "  plt.axvline(i,c='b',linestyle=':')\n",
        "\n",
        "plt.show()"
      ]
    },
    {
      "cell_type": "code",
      "source": [
        "np.savetxt('part42_gpucb.txt',rewards_for_experiments)"
      ],
      "metadata": {
        "id": "_4dEdOThs9yz"
      },
      "execution_count": null,
      "outputs": []
    }
  ],
  "metadata": {
    "colab": {
      "provenance": []
    },
    "kernelspec": {
      "display_name": "Python 3",
      "name": "python3"
    },
    "language_info": {
      "name": "python"
    }
  },
  "nbformat": 4,
  "nbformat_minor": 0
}