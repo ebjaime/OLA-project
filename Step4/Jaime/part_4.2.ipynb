{
 "cells": [
  {
   "attachments": {},
   "cell_type": "markdown",
   "metadata": {
    "id": "Dj0OURPH3o7v"
   },
   "source": [
    "## Environment"
   ]
  },
  {
   "cell_type": "code",
   "execution_count": 57,
   "metadata": {
    "id": "B-I42SsV3rAd"
   },
   "outputs": [],
   "source": [
    "import numpy as np"
   ]
  },
  {
   "cell_type": "code",
   "execution_count": 58,
   "metadata": {
    "colab": {
     "background_save": true
    },
    "id": "KHKMI86i3skQ"
   },
   "outputs": [],
   "source": [
    "class Environment_Multiple_Contexts():\n",
    "\n",
    "  def __init__(self, n_arms, probabilities, bids, average_number_of_clicks, average_cum_daily_cost,noise_clicks,noise_cost):\n",
    "    self.n_arms = n_arms                                            # number of prices\n",
    "    self.probabilities = probabilities                              # conversion rates for every price/arm\n",
    "    self.bids = bids                                                # bids\n",
    "    self.average_number_of_clicks = average_number_of_clicks        # curve of average number of clicks (y = f(bids))\n",
    "    self.average_cum_daily_cost = average_cum_daily_cost            # curve of cumulative daily cost (y = g(bids))\n",
    "    self.noise_clicks = noise_clicks                                # gaussian noise for the average number of clicks sampling\n",
    "    self.noise_cost = noise_cost                                    # gaussian noise for the cumulative daily cost sampling\n",
    "\n",
    "  def pull_features(self):\n",
    "    x1 = np.random.binomial(1,1/3)\n",
    "    x2 = np.random.binomial(1,1/2)\n",
    "    if x1 == 1:\n",
    "      i=0\n",
    "    elif x2 == 1:\n",
    "      i=1\n",
    "    else:\n",
    "      i=2\n",
    "    return x1, x2, i\n",
    "\n",
    "  # daily rewards\n",
    "  def bidding_round(self, pulled_bid, i):\n",
    "    clicks = int(np.random.normal(self.average_number_of_clicks[i](self.bids[pulled_bid]),self.noise_clicks[i]))        # number of people that click on the ad\n",
    "    reward_click = clicks if clicks >= 0 else 0\n",
    "    costs = np.random.normal(self.average_cum_daily_cost[i](self.bids[pulled_bid]),self.noise_cost[i])                  # cumulative daily cost\n",
    "    reward_cost = costs if costs > 0 else 0\n",
    "    return reward_click, reward_cost\n",
    "\n",
    "  def pricing_round(self, pulled_price, i): \n",
    "    reward_price = np.random.binomial(1,self.probabilities[i][pulled_price])                         # number of people that buy once they clicked\n",
    "    return reward_price"
   ]
  },
  {
   "attachments": {},
   "cell_type": "markdown",
   "metadata": {
    "id": "fW9pW6tchPEF"
   },
   "source": [
    "## Pricing"
   ]
  },
  {
   "cell_type": "code",
   "execution_count": 59,
   "metadata": {
    "colab": {
     "background_save": true
    },
    "id": "hPp6DU0tQOR7"
   },
   "outputs": [],
   "source": [
    "class Learner:\n",
    "  def __init__(self,n_arms):\n",
    "    self.n_arms = n_arms\n",
    "    self.t = 0                                              # current round value\n",
    "    self.rewards_per_arm = x = [[] for i in range(n_arms)]  # value of collected rewards for each round and for each arm\n",
    "    self.collected_rewards = np.array([])                   # values of collected rewards for each round\n",
    "\n",
    "  # function that updates the observation's list once the reward is returned by the environment\n",
    "  def update_observations(self, pulled_arm, reward):\n",
    "    self.rewards_per_arm[pulled_arm].append(reward)\n",
    "    self.collected_rewards = np.append(self.collected_rewards,reward)"
   ]
  },
  {
   "cell_type": "code",
   "execution_count": 60,
   "metadata": {
    "colab": {
     "background_save": true
    },
    "id": "Mb-1Z4p3gDnS"
   },
   "outputs": [],
   "source": [
    "class TS_Pricing_Learner(Learner): # Thompson-Sampling (reward: number of conversions; actual_reward:  price*conversion_rate)\n",
    "  def __init__(self,n_arms,prices):\n",
    "    super().__init__(n_arms)                    # number of prices\n",
    "    self.beta_parameters = np.ones((n_arms,2))  # parameters of beta distributions\n",
    "    self.prices = prices                        # prices (array)\n",
    "\n",
    "    #self.empirical_means = np.zeros(n_arms)\n",
    "\n",
    "  def pull_arm(self):\n",
    "    if(self.t < self.n_arms):\n",
    "      return self.t\n",
    "    sampled = np.random.beta(self.beta_parameters[:,0],self.beta_parameters[:,1])*self.prices\n",
    "    idx = np.argmax(sampled)\n",
    "    #return idx, sampled[idx]\n",
    "    return idx\n",
    "\n",
    "  # update parameters each time a reward in {0,1} is observed\n",
    "  def update(self,pulled_arm, reward):\n",
    "    self.t += 1\n",
    "    self.update_observations(pulled_arm,reward*self.prices[pulled_arm])\n",
    "    self.beta_parameters[pulled_arm,0] = self.beta_parameters[pulled_arm,0] + reward\n",
    "    self.beta_parameters[pulled_arm,1] = self.beta_parameters[pulled_arm,1] + 1 - reward\n",
    "\n",
    "    #self.empirical_means[pulled_arm] = (self.empirical_means[pulled_arm]*(len(self.rewards_per_arm[pulled_arm]) - 1) + reward*self.prices[pulled_arm] ) / len(self.rewards_per_arm[pulled_arm])"
   ]
  },
  {
   "cell_type": "code",
   "execution_count": 61,
   "metadata": {
    "colab": {
     "background_save": true
    },
    "id": "T2MHDTx0Di0d"
   },
   "outputs": [],
   "source": [
    "class UCB_Pricing_Learner(Learner): # UCB1 (reward: number of conversions; actual_reward:  price*conversion_rate)\n",
    "  def __init__(self,n_arms,prices):\n",
    "    super().__init__(n_arms)                              # number of arms/prices\n",
    "    self.empirical_means = np.zeros(n_arms)               # mean reward for each arm (conversion rate)\n",
    "    self.confidence = np.zeros(n_arms)                    # confidence bound for each arm\n",
    "    self.prices = prices                                  # prices (array)\n",
    "\n",
    "  def pull_arm(self):\n",
    "    if(self.t < self.n_arms):\n",
    "      return self.t\n",
    "    upper_bound = self.empirical_means + self.confidence\n",
    "    pulled_arm = np.random.choice(np.where(upper_bound == upper_bound.max())[0])\n",
    "    #return pulled_arm, upper_bound[pulled_arm]\n",
    "    #return pulled_arm, self.empirical_means[pulled_arm]\n",
    "    return pulled_arm\n",
    "\n",
    "  def update(self, pulled_arm, reward):\n",
    "    self.t += 1\n",
    "    self.update_observations(pulled_arm, reward*self.prices[pulled_arm])\n",
    "    self.empirical_means[pulled_arm] = (self.empirical_means[pulled_arm]*(len(self.rewards_per_arm[pulled_arm]) - 1) + reward*self.prices[pulled_arm] ) / len(self.rewards_per_arm[pulled_arm])\n",
    "    self.confidence[pulled_arm] = self.prices[pulled_arm]*np.sqrt(2*np.log(self.t)/len(self.rewards_per_arm[pulled_arm]))"
   ]
  },
  {
   "attachments": {},
   "cell_type": "markdown",
   "metadata": {
    "id": "SFRb1XPhhRS7"
   },
   "source": [
    "## Advertising"
   ]
  },
  {
   "cell_type": "code",
   "execution_count": 62,
   "metadata": {
    "colab": {
     "background_save": true
    },
    "id": "gQgsfPw5K8S7"
   },
   "outputs": [],
   "source": [
    "from sklearn.gaussian_process import GaussianProcessRegressor\n",
    "from sklearn.gaussian_process.kernels import RBF, ConstantKernel as C"
   ]
  },
  {
   "cell_type": "code",
   "execution_count": 63,
   "metadata": {
    "colab": {
     "background_save": true
    },
    "id": "fhgjXE0RGDo0"
   },
   "outputs": [],
   "source": [
    "class GPTS_Learner(Learner):\n",
    "  # constructor takes as input the number arms (bids), intializes to 0 their means and to an aye their standard deviation; we also need to store the arm that we pull at each round to fot the GPs\n",
    "  def __init__(self, n_arms, arms, alpha_clicks, alpha_costs, normalize_y = False, step = 1, step_delay = 366, n_restarts_optimizer = 0, plot = False):\n",
    "    super().__init__(n_arms)\n",
    "    self.arms = arms\n",
    "    self.means_clicks = np.ones(self.n_arms) * 1e3\n",
    "    self.means_costs = np.ones(self.n_arms) * 1e3\n",
    "    self.sigmas_clicks = np.ones(self.n_arms) \n",
    "    self.sigmas_costs = np.ones(self.n_arms) \n",
    "    self.pulled_arms = []\n",
    "    self.collected_clicks = np.array([])\n",
    "    self.collected_costs = np.array([])\n",
    "    # we initialize the parameters of the kernel and the two GPs\n",
    "    kernel_clicks = C(2000.,(1000.,5000.)) * RBF(0.3,(0.01,0.6)) # for normalized\n",
    "    kernel_costs = C(2000.,(1000.,5000.)) * RBF(0.3,(0.01,0.6)) # for normalized\n",
    "    self.gp_clicks = GaussianProcessRegressor(kernel = kernel_clicks, alpha = alpha_clicks**2, normalize_y = normalize_y, n_restarts_optimizer = n_restarts_optimizer) \n",
    "    self.gp_costs = GaussianProcessRegressor(kernel = kernel_costs, alpha = alpha_costs**2, normalize_y = normalize_y, n_restarts_optimizer = n_restarts_optimizer) \n",
    "    self.plot = plot\n",
    "    self.step = step\n",
    "    self.step_delay = step_delay\n",
    "\n",
    "  # we also need to update the value of the least pulled arm (reward[0]: n_clicks, reward[1]: costs)\n",
    "  def update_observations(self, arm_idx, reward):\n",
    "    super().update_observations(arm_idx, reward)\n",
    "    self.pulled_arms.append(self.arms[arm_idx])\n",
    "\n",
    "  # update the GP estimations and consequently the means and sigmas of each arm\n",
    "  def update_model(self):\n",
    "    # trining inputs and targets\n",
    "    if self.t < self.step_delay or not(self.t % self.step):\n",
    "      x = np.atleast_2d(self.pulled_arms).T\n",
    "      y_clicks = self.collected_clicks\n",
    "      y_costs = self.collected_costs\n",
    "      # fit the GP\n",
    "      if len(y_clicks) > 1: \n",
    "        self.gp_clicks.fit(x,y_clicks)\n",
    "        self.gp_costs.fit(x,y_costs)\n",
    "        # update values of means and sigmas with the new predictions\n",
    "        self.means_clicks, self.sigmas_clicks = self.gp_clicks.predict(np.atleast_2d(self.arms).T, return_std = True)\n",
    "        self.means_costs, self.sigmas_costs = self.gp_costs.predict(np.atleast_2d(self.arms).T, return_std = True)\n",
    "        self.sigmas_clicks = np.maximum(self.sigmas_clicks, 1e-2)\n",
    "        self.sigmas_costs = np.maximum(self.sigmas_costs, 1e-2)  \n",
    "\n",
    "      if self.plot:\n",
    "        plt.figure()\n",
    "        plt.title(\"Clicks:\" + str(self.t))\n",
    "        plt.plot(self.arms, clicks(self.arms), 'r:', label = r'$n(x)$')\n",
    "        plt.plot(x.ravel(), y_clicks.ravel(), 'ro', label = u'Observed Clicks')\n",
    "        plt.plot(self.arms, self.means_clicks, 'b-', label = u'Predicted Clicks')\n",
    "        plt.fill(np.concatenate([self.arms,self.arms[::-1]]),\n",
    "                np.concatenate([self.means_clicks - 1.96 * self.sigmas_clicks , (self.means_clicks + 1.96 * self.sigmas_clicks)[::-1]]),\n",
    "                alpha = .5, fc = 'b', ec = 'None', label = '95% conf interval')\n",
    "        plt.xlabel('$x')\n",
    "        plt.ylabel('$n(x)$')\n",
    "        plt.legend(loc = 'lower right')\n",
    "        plt.show()\n",
    "\n",
    "        plt.figure()\n",
    "        plt.title(\"Costs:\" + str(self.t))\n",
    "        plt.plot(self.arms, costs(self.arms), 'r:', label = r'$c(x)$')\n",
    "        plt.plot(x.ravel(), y_costs.ravel(), 'ro', label = u'Observed Costs')\n",
    "        plt.plot(self.arms, self.means_costs, 'b-', label = u'Predicted Costs')\n",
    "        plt.fill(np.concatenate([self.arms,self.arms[::-1]]),\n",
    "                np.concatenate([self.means_costs - 1.96 * self.sigmas_costs , (self.means_costs + 1.96 * self.sigmas_costs)[::-1]]),\n",
    "                alpha = .5, fc = 'b', ec = 'None', label = '95% conf interval')\n",
    "        plt.xlabel('$x')\n",
    "        plt.ylabel('$c(x)$')\n",
    "        plt.legend(loc = 'lower right')\n",
    "        plt.show()\n",
    "\n",
    "  # functions that calls the functions implemented above (reward[0]: n_clicks, reward[1]: costs)\n",
    "  def update(self, pulled_arm, reward):\n",
    "    self.t += 1\n",
    "    self.update_observations(pulled_arm, reward)\n",
    "    self.collected_clicks = np.append(self.collected_clicks,reward[0])\n",
    "    self.collected_costs = np.append(self.collected_costs,reward[1])\n",
    "    self.update_model()\n",
    "\n",
    "  # function in which the learner chooses the arm to pull at each round\n",
    "  def pull_arm(self):\n",
    "    # returns index of the maximum value drawn from the arm normal distribution \n",
    "    samples = np.random.normal(self.means_clicks - self.means_costs, np.sqrt(self.sigmas_clicks**2 + self.sigmas_costs**2))\n",
    "    return np.argmax(samples)"
   ]
  },
  {
   "cell_type": "code",
   "execution_count": 64,
   "metadata": {
    "colab": {
     "background_save": true
    },
    "id": "bVKv83N_bqna"
   },
   "outputs": [],
   "source": [
    "class GPUCB_Learner(GPTS_Learner):\n",
    "  def __init__(self, n_arms, arms, alpha_clicks, alpha_costs, normalize_y = False, step = 1, step_delay = 366, n_restarts_optimizer = 0, plot = False):\n",
    "    super().__init__(n_arms, arms, alpha_clicks, alpha_costs, normalize_y, step, step_delay, n_restarts_optimizer, plot)\n",
    "\n",
    "  # returns index of the maximum UCB from the arm normal distribution (coefficient for CI of order 1-1/T: 3.0)\n",
    "  def pull_arm(self):\n",
    "    upper_bound = self.means_clicks - self.means_costs + 3.0*np.sqrt(self.sigmas_clicks**2 + self.sigmas_costs**2)\n",
    "    pulled_arm = np.random.choice(np.where(upper_bound == upper_bound.max())[0]) \n",
    "    return pulled_arm"
   ]
  },
  {
   "attachments": {},
   "cell_type": "markdown",
   "metadata": {
    "id": "zWucpWCHhTci"
   },
   "source": [
    "## Simulation"
   ]
  },
  {
   "cell_type": "code",
   "execution_count": 65,
   "metadata": {
    "colab": {
     "background_save": true
    },
    "id": "HHBYQJ68hKQT"
   },
   "outputs": [],
   "source": [
    "import matplotlib.pyplot as plt\n",
    "from tqdm import tqdm"
   ]
  },
  {
   "cell_type": "code",
   "execution_count": 66,
   "metadata": {
    "colab": {
     "background_save": true
    },
    "id": "lgiMX_uahrbZ"
   },
   "outputs": [],
   "source": [
    "# generic\n",
    "T = 365                                # horizon of experiment\n",
    "n_experiments = 10                    # since the reward functions are stochastic, to better visualize the results and remove the noise we do multiple experiments"
   ]
  },
  {
   "cell_type": "code",
   "execution_count": 67,
   "metadata": {
    "colab": {
     "background_save": true
    },
    "id": "rp7Fw22Fha3F",
    "outputId": "d35360f3-720d-442b-ed50-b64c327c01f7"
   },
   "outputs": [
    {
     "name": "stdout",
     "output_type": "stream",
     "text": [
      "Pricing (optimal price) context  0\n",
      "idx: 3  price: 8  rate: 0.35  price*rate: 2.8\n",
      "Pricing (optimal price) context  1\n",
      "idx: 3  price: 6  rate: 0.4  price*rate: 2.4000000000000004\n",
      "Pricing (optimal price) context  2\n",
      "idx: 4  price: 6  rate: 0.2  price*rate: 1.2000000000000002\n"
     ]
    }
   ],
   "source": [
    "# pricing\n",
    "n_prices = 5\n",
    "prices = [[5,6,7,8,9],\n",
    "          [3,4,5,6,7],\n",
    "          [2,3,4,5,6]] # For every context we consider 5 diff prices\n",
    "p = np.array([[0.15,0.1,0.1,0.35,0.1],\n",
    "              [0.2,0.15,0.05,0.4,0.1],\n",
    "              [0.25,0.15,0.1,0.1,0.2]])             # bernoulli distributions for the reward functions\n",
    "opt_rate = [p[0][np.argmax(p[0]*prices[0])],\n",
    "            p[1][np.argmax(p[1]*prices[1])],\n",
    "            p[2][np.argmax(p[2]*prices[2])]]                 # optimal arm\n",
    "\n",
    "for i in range(0,3):\n",
    "    print(\"Pricing (optimal price) context \", str(i))\n",
    "    print(\"idx: \" + str(np.argmax(p[i]*prices[i])) + \"  price: \" + str(prices[i][np.argmax(p[i]*prices[i])]) + \"  rate: \" + str(opt_rate[i]) + \"  price*rate: \" + str(opt_rate[i]*prices[i][np.argmax(p[i]*prices[i])]))"
   ]
  },
  {
   "cell_type": "code",
   "execution_count": 68,
   "metadata": {
    "colab": {
     "background_save": true
    },
    "id": "1mbnyMJJjqQ6",
    "outputId": "c0096463-a639-4b5d-849d-70ff737084ad"
   },
   "outputs": [
    {
     "name": "stdout",
     "output_type": "stream",
     "text": [
      "Advertising (optimal bid):\n",
      "idx: 65  bid: 0.6565656565656566  clicks-costs: 13.794848078095768\n",
      "Advertising (optimal bid):\n",
      "idx: 59  bid: 0.595959595959596  clicks-costs: 9.57619827197513\n",
      "Advertising (optimal bid):\n",
      "idx: 49  bid: 0.494949494949495  clicks-costs: 34.47657532493205\n"
     ]
    },
    {
     "data": {
      "image/png": "[encoded data removed]",
      "text/plain": [
       "<Figure size 576x720 with 3 Axes>"
      ]
     },
     "metadata": {
      "needs_background": "light"
     },
     "output_type": "display_data"
    }
   ],
   "source": [
    "# advertising\n",
    "n_bids = 100\n",
    "min_bid = 0.0\n",
    "max_bid = 1.0\n",
    "bids = np.linspace(min_bid, max_bid, n_bids)\n",
    "sigma_clicks = [3, 2.5, 3]\n",
    "sigma_costs = [3, 2.5, 3]\n",
    "\n",
    "params_clicks = [[100, 4, 3, 3],\n",
    "                 [95,  6, 5, 3],\n",
    "                 [100, 5, 4, 2]]\n",
    "params_costs = [[70, 7],\n",
    "                [80, 6],\n",
    "                [50, 4]]\n",
    "def clicks(x, params=[100, 4, 3, 3]):\n",
    "  return params[0] * (1.0 - np.exp(-params[1]*x+params[2]*x**params[3]))\n",
    "\n",
    "def costs(x, params=[70, -7]):\n",
    "  return params[0] * (1.0 - np.exp(-params[1]*x))\n",
    "\n",
    "\n",
    "opt_bid = np.zeros(3)\n",
    "for i in range(0,3):\n",
    "    opt_bid[i] = bids[np.argmax(opt_rate[i]*prices[i][np.argmax(p[i]*prices[i])]*clicks(bids, params_clicks[i])-costs(bids, params_costs[i]))]\n",
    "\n",
    "fig, ax = plt.subplots(3, figsize=(8,10))\n",
    "for i in range(0, 3):\n",
    "    ax[i].plot(bids,clicks(bids, params_clicks[i]),'blue',bids, costs(bids, params_costs[i]),'orange')\n",
    "    ax[i].legend([\"Number of clicks\", \"Cumulative Costs\"])\n",
    "    ax[i].axvline(opt_bid[i],c='red')\n",
    "    print(\"Advertising (optimal bid):\")\n",
    "    print(\"idx: \" + str(np.argmax(opt_rate[i]*prices[i][np.argmax(p[i]*prices[i])]*clicks(bids, params_clicks[i])-costs(bids, params_costs[i]))) + \"  bid: \" + str(opt_bid[i]) + \"  clicks-costs: \" + str(clicks(opt_bid[i], params_clicks[i])-costs(opt_bid[i], params_costs[i])))"
   ]
  },
  {
   "cell_type": "code",
   "execution_count": 69,
   "metadata": {},
   "outputs": [],
   "source": [
    "# Function wrapper to be able to pass to environment\n",
    "def clicks1(x):\n",
    "    return clicks(x, params_clicks[0])\n",
    "def clicks2(x):\n",
    "    return clicks(x, params_clicks[1])\n",
    "def clicks3(x):\n",
    "    return clicks(x, params_clicks[2])"
   ]
  },
  {
   "cell_type": "code",
   "execution_count": 70,
   "metadata": {},
   "outputs": [],
   "source": [
    "# Function wrapper to be able to pass to environment\n",
    "def costs1(x):\n",
    "    return costs(x, params_costs[0])\n",
    "def costs2(x):\n",
    "    return costs(x, params_costs[1])\n",
    "def costs3(x):\n",
    "    return costs(x, params_costs[2])"
   ]
  },
  {
   "cell_type": "code",
   "execution_count": 71,
   "metadata": {
    "colab": {
     "background_save": true
    },
    "id": "GYJqulZUHS97"
   },
   "outputs": [],
   "source": [
    "import warnings\n",
    "warnings.simplefilter('ignore', UserWarning)"
   ]
  },
  {
   "cell_type": "code",
   "execution_count": 72,
   "metadata": {},
   "outputs": [
    {
     "data": {
      "text/plain": [
       "(0, 0, 2)"
      ]
     },
     "execution_count": 72,
     "metadata": {},
     "output_type": "execute_result"
    }
   ],
   "source": [
    "env = Environment_Multiple_Contexts(n_arms = n_prices,\n",
    "                                        probabilities = p,\n",
    "                                        bids = bids,\n",
    "                                        average_number_of_clicks = [clicks1, clicks2, clicks3],\n",
    "                                        average_cum_daily_cost = [costs1, costs2, costs3],\n",
    "                                        noise_clicks = sigma_clicks,\n",
    "                                        noise_cost = sigma_costs)\n",
    "\n",
    "env.pull_features()"
   ]
  },
  {
   "cell_type": "code",
   "execution_count": null,
   "metadata": {
    "colab": {
     "base_uri": "https://localhost:8080/",
     "height": 1000,
     "output_embedded_package_id": "1nKsmjCqt4cdT_gYjhdpwqpJGBLdSSXpm"
    },
    "executionInfo": {
     "elapsed": 196333,
     "status": "error",
     "timestamp": 1685610454110,
     "user": {
      "displayName": "Manuel Piliego",
      "userId": "14926858394514943153"
     },
     "user_tz": -120
    },
    "id": "YvOLQjxQtZ7Q",
    "outputId": "63904c64-3d93-4c98-d8c0-2953eb750eec"
   },
   "outputs": [],
   "source": [
    "# experiments\n",
    "gpts_rewards_per_experiment = [[],[],[]]\n",
    "gpucb_rewards_per_experiment = [[],[],[]]\n",
    "\n",
    "for e in tqdm(range(0,n_experiments)):  # cycle on experiments\n",
    "  env = Environment_Multiple_Contexts(n_arms = n_prices,\n",
    "                                        probabilities = p,\n",
    "                                        bids = bids,\n",
    "                                        average_number_of_clicks = [clicks1, clicks2, clicks3],\n",
    "                                        average_cum_daily_cost = [costs1, costs2, costs3],\n",
    "                                        noise_clicks = sigma_clicks,\n",
    "                                        noise_cost = sigma_costs)\n",
    "  # Create one pricing and advert. learner per context with the diff. prices and noises.\n",
    "  pricing_learners_gpts = [TS_Pricing_Learner(n_arms = n_prices, prices = prices[0]),\n",
    "                           TS_Pricing_Learner(n_arms = n_prices, prices = prices[1]),\n",
    "                           TS_Pricing_Learner(n_arms = n_prices, prices = prices[2])]\n",
    "  pricing_learners_gpucb =[TS_Pricing_Learner(n_arms = n_prices, prices = prices[0]),\n",
    "                           TS_Pricing_Learner(n_arms = n_prices, prices = prices[1]),\n",
    "                           TS_Pricing_Learner(n_arms = n_prices, prices = prices[2])]\n",
    "  gpts_learners = [GPTS_Learner(n_arms = n_bids, arms = bids, alpha_clicks = sigma_clicks[0], alpha_costs = sigma_costs[0], \n",
    "                              step = 1, normalize_y = True,plot = False, step_delay = 0), #n_restarts_optimizer = 9\n",
    "                  GPTS_Learner(n_arms = n_bids, arms = bids, alpha_clicks = sigma_clicks[1], alpha_costs = sigma_costs[1], \n",
    "                              step = 1, normalize_y = True,plot = False, step_delay = 0), #n_restarts_optimizer = 9\n",
    "                  GPTS_Learner(n_arms = n_bids, arms = bids, alpha_clicks = sigma_clicks[2], alpha_costs = sigma_costs[2], \n",
    "                              step = 1, normalize_y = True,plot = False, step_delay = 0) #n_restarts_optimizer = 9\n",
    "                 ]\n",
    "  gpucb_learners = [GPUCB_Learner(n_arms = n_bids, arms = bids, alpha_clicks = sigma_clicks[0], alpha_costs = sigma_costs[0],\n",
    "                                step = 1, normalize_y = True, step_delay = 0), #plot = True, n_restarts_optimizer = 9,\n",
    "                   GPUCB_Learner(n_arms = n_bids, arms = bids, alpha_clicks = sigma_clicks[1], alpha_costs = sigma_costs[1],\n",
    "                                step = 1, normalize_y = True, step_delay = 0), #plot = True, n_restarts_optimizer = 9,\n",
    "                   GPUCB_Learner(n_arms = n_bids, arms = bids, alpha_clicks = sigma_clicks[2], alpha_costs = sigma_costs[2],\n",
    "                                step = 1, normalize_y = True, step_delay = 0) #plot = True, n_restarts_optimizer = 9,\n",
    "                  ]\n",
    "\n",
    "  gpts_daily_pricing_rewards = [np.array([]),np.array([]),np.array([])]\n",
    "  gpucb_daily_pricing_rewards = [np.array([]),np.array([]),np.array([])]\n",
    "\n",
    "  # 4.2:\n",
    "  # run basic algorithm for 2 weeks, for every person (n total) observe also x1,x2\n",
    "    # depending on x1 and x2 we use the corresponding environment variables: click and cost fct and sigmas, price probs.\n",
    "    # REVIEW: use same prices for all classes (i.e. as in step 3) \n",
    "  # after 2 weeks, run context-generator algorithm (n tuples: [x1,x2,buy*price]) <=> classification algorithm that maps (x1,x2)->(a,b,c,... M classes, since we don't know the actual ones)\n",
    "    # REVIEW: how? split condition in slides?\n",
    "  # for each day (for 2 weeks):\n",
    "    # We create M bidding learners and M pricing learners\n",
    "    # pull M bids -> mapped into 3 bids for the observation purposes\n",
    "    # observe a certain amount of clicks (clicks1 [1,.], clicks2 [0,1], clicks3 [0,0]) -> mapped into clicks1, ..., clicksM by the context classification algorithm\n",
    "      # REVIEW: Regarding context class. algo:\n",
    "      # for every person (n total) observe x1 and x2:\n",
    "        # [1,1]->1  [0,1]->2 [1,0]->1, [0,0]->3 => clicks[1,1] = 1/2*clicks1, clicks[1,0] = 1/2*clicks1\n",
    "        # [1,:]->1 [0,:]->2,3 => clicks[0,:] = clicks2 + clicks3\n",
    "    # observe a certain amount of costs (costs1 [1,.], costs2 [0,1], costs3 [0,0]) -> mapped into costs1, ..., costsM by the context classification algorithm\n",
    "      # same as clicks\n",
    "    # update the M bidding_learners\n",
    "    \n",
    "    # for each class/context (1,...,M):\n",
    "      # for each click:\n",
    "        # pull a price\n",
    "        # observe acquisition or not\n",
    "        # update correspondin pricing_learner\n",
    "        \n",
    "    # after 2 weeks, update context-generator algorithm\n",
    "\n",
    "  # reward: sum(rate[i]*price[i]*clicks[i] - costs[i])\n",
    "\n",
    "  # First two weeks\n",
    "  for t in range(0, 14):\n",
    "    # GPTS\n",
    "    for i in range(3): # Each context\n",
    "        pulled_bid_ts = gpts_learners[i].pull_arm()  # pull bid for each context\n",
    "        reward_click_ts, reward_cost_ts = env.bidding_round(pulled_bid_ts, i)\n",
    "        gpts_learners[i].update(pulled_bid_ts, [reward_click_ts,reward_cost_ts])\n",
    "        for k in range(reward_click_ts):\n",
    "          pulled_price = pricing_learners_gpts[i].pull_arm()\n",
    "          reward_price = env.pricing_round(pulled_price, i)\n",
    "          pricing_learners_gpts[i].update(pulled_price, reward_price)\n",
    "        gpts_daily_pricing_rewards[i] = np.append(gpts_daily_pricing_rewards[i], np.sum(pricing_learners_gpts[i].collected_rewards[-reward_click_ts:]))\n",
    "  \n",
    "  # Continue after first classification of context-generation algorithm\n",
    "  for t in range(14,T):  # cycle on time horizon\n",
    "   pass\n",
    "    \n",
    "  for i in range(3):\n",
    "    gpts_rewards_per_experiment[i].append(gpts_daily_pricing_rewards[i] - gpts_learners[i].collected_costs)\n",
    "    \n"
   ]
  },
  {
   "cell_type": "code",
   "execution_count": null,
   "metadata": {
    "id": "wH7emrj624DO"
   },
   "outputs": [],
   "source": [
    "# Plot cum regret for all three contexts\n",
    "plt.figure(0)\n",
    "plt.ylabel(\"Regret\")\n",
    "plt.xlabel(\"t\")\n",
    "colors_context = ['b', 'r', 'g']\n",
    "for i in range(3):\n",
    "    opt = opt_rate[i]*prices[i][np.argmax(p[i]*prices[i])]*clicks(opt_bid[i], params_clicks[i]) - costs(opt_bid[i], params_costs[i])\n",
    "    plt.plot(np.cumsum(np.mean(opt - gpts_rewards_per_experiment[i], axis = 0)), colors_context[i]+'.')\n",
    "    plt.plot(np.cumsum(np.mean(opt - gpucb_rewards_per_experiment[i], axis = 0)), colors_context[i]+'-')\n",
    "plt.legend([\"GPTS\",\"GPUCB\"])\n",
    "plt.show"
   ]
  }
 ],
 "metadata": {
  "colab": {
   "authorship_tag": "ABX9TyMhfX+f6IfkOuYuKAbSB2v9",
   "provenance": []
  },
  "kernelspec": {
   "display_name": "Python 3 (ipykernel)",
   "language": "python",
   "name": "python3"
  },
  "language_info": {
   "codemirror_mode": {
    "name": "ipython",
    "version": 3
   },
   "file_extension": ".py",
   "mimetype": "text/x-python",
   "name": "python",
   "nbconvert_exporter": "python",
   "pygments_lexer": "ipython3",
   "version": "3.10.6"
  }
 },
 "nbformat": 4,
 "nbformat_minor": 1
}
