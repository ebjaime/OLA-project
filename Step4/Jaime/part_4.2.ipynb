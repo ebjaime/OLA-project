{
  "cells": [
    {
      "cell_type": "markdown",
      "metadata": {
        "id": "Dj0OURPH3o7v"
      },
      "source": [
        "## Environment"
      ]
    },
    {
      "cell_type": "code",
      "execution_count": 107,
      "metadata": {
        "id": "B-I42SsV3rAd"
      },
      "outputs": [],
      "source": [
        "import numpy as np"
      ]
    },
    {
      "cell_type": "code",
      "execution_count": 108,
      "metadata": {
        "id": "KHKMI86i3skQ"
      },
      "outputs": [],
      "source": [
        "class Environment_Multiple_Contexts():\n",
        "\n",
        "  def __init__(self, n_arms, probabilities, bids, average_number_of_clicks, average_cum_daily_cost,noise_clicks,noise_cost):\n",
        "    self.n_arms = n_arms                                            # number of prices\n",
        "    self.probabilities = probabilities                              # conversion rates for every price/arm\n",
        "    self.bids = bids                                                # bids\n",
        "    self.average_number_of_clicks = average_number_of_clicks        # curve of average number of clicks (y = f(bids))\n",
        "    self.average_cum_daily_cost = average_cum_daily_cost            # curve of cumulative daily cost (y = g(bids))\n",
        "    self.noise_clicks = noise_clicks                                # gaussian noise for the average number of clicks sampling\n",
        "    self.noise_cost = noise_cost                                    # gaussian noise for the cumulative daily cost sampling\n",
        "\n",
        "  def pull_features(self):\n",
        "    x1 = np.random.binomial(1,1/3)\n",
        "    x2 = np.random.binomial(1,1/2)\n",
        "    if x1 == 1:\n",
        "      i=0\n",
        "    elif x2 == 1:\n",
        "      i=1\n",
        "    else:\n",
        "      i=2\n",
        "    return x1, x2, i\n",
        "\n",
        "  # daily rewards\n",
        "  def bidding_round(self, pulled_bid, i):\n",
        "    clicks = int(np.random.normal(self.average_number_of_clicks[i](self.bids[pulled_bid]),self.noise_clicks[i]))        # number of people that click on the ad\n",
        "    reward_click = clicks if clicks >= 0 else 0\n",
        "    costs = np.random.normal(self.average_cum_daily_cost[i](self.bids[pulled_bid]),self.noise_cost[i])                  # cumulative daily cost\n",
        "    reward_cost = costs if costs > 0 else 0\n",
        "    return reward_click, reward_cost\n",
        "\n",
        "  def pricing_round(self, pulled_price, i):\n",
        "    reward_price = np.random.binomial(1,self.probabilities[i][pulled_price])                         # number of people that buy once they clicked\n",
        "    return reward_price"
      ]
    },
    {
      "cell_type": "markdown",
      "metadata": {
        "id": "fW9pW6tchPEF"
      },
      "source": [
        "## Pricing"
      ]
    },
    {
      "cell_type": "code",
      "execution_count": 109,
      "metadata": {
        "id": "hPp6DU0tQOR7"
      },
      "outputs": [],
      "source": [
        "class Learner:\n",
        "  def __init__(self,n_arms):\n",
        "    self.n_arms = n_arms\n",
        "    self.t = 0                                              # current round value\n",
        "    self.rewards_per_arm = x = [[] for i in range(n_arms)]  # value of collected rewards for each round and for each arm\n",
        "    self.collected_rewards = np.array([])                   # values of collected rewards for each round\n",
        "\n",
        "  # function that updates the observation's list once the reward is returned by the environment\n",
        "  def update_observations(self, pulled_arm, reward):\n",
        "    pulled_arm = int(pulled_arm)\n",
        "    self.rewards_per_arm[pulled_arm].append(reward)\n",
        "    self.collected_rewards = np.append(self.collected_rewards,reward)"
      ]
    },
    {
      "cell_type": "code",
      "execution_count": 110,
      "metadata": {
        "id": "Mb-1Z4p3gDnS"
      },
      "outputs": [],
      "source": [
        "class TS_Pricing_Learner(Learner): # Thompson-Sampling (reward: number of conversions; actual_reward:  price*conversion_rate)\n",
        "  def __init__(self,n_arms,prices):\n",
        "    super().__init__(n_arms)                    # number of prices\n",
        "    self.beta_parameters = np.ones((n_arms,2))  # parameters of beta distributions\n",
        "    self.prices = prices                        # prices (array)\n",
        "\n",
        "    #self.empirical_means = np.zeros(n_arms)\n",
        "\n",
        "  def pull_arm(self):\n",
        "    if(self.t < self.n_arms):\n",
        "      return self.t\n",
        "    sampled = np.random.beta(self.beta_parameters[:,0],self.beta_parameters[:,1])*self.prices\n",
        "    idx = np.argmax(sampled)\n",
        "    #return idx, sampled[idx]\n",
        "    return idx\n",
        "\n",
        "  # update parameters each time a reward in {0,1} is observed\n",
        "  def update(self,pulled_arm, reward):\n",
        "    self.t += 1\n",
        "    pulled_arm = int(pulled_arm)\n",
        "    self.update_observations(pulled_arm,reward*self.prices[pulled_arm])\n",
        "    self.beta_parameters[pulled_arm,0] = self.beta_parameters[pulled_arm,0] + reward\n",
        "    self.beta_parameters[pulled_arm,1] = self.beta_parameters[pulled_arm,1] + 1 - reward\n",
        "\n",
        "    #self.empirical_means[pulled_arm] = (self.empirical_means[pulled_arm]*(len(self.rewards_per_arm[pulled_arm]) - 1) + reward*self.prices[pulled_arm] ) / len(self.rewards_per_arm[pulled_arm])\n",
        "\n",
        "  # REVIEW: reimplement better\n",
        "  def initialize_learner(self, collected_features):\n",
        "    for features in collected_features:\n",
        "      self.update(features[0], features[1])\n",
        "\n"
      ]
    },
    {
      "cell_type": "code",
      "execution_count": 111,
      "metadata": {
        "id": "T2MHDTx0Di0d"
      },
      "outputs": [],
      "source": [
        "class UCB_Pricing_Learner(Learner): # UCB1 (reward: number of conversions; actual_reward:  price*conversion_rate)\n",
        "  def __init__(self,n_arms,prices):\n",
        "    super().__init__(n_arms)                              # number of arms/prices\n",
        "    self.empirical_means = np.zeros(n_arms)               # mean reward for each arm (conversion rate)\n",
        "    self.confidence = np.zeros(n_arms)                    # confidence bound for each arm\n",
        "    self.prices = prices                                  # prices (array)\n",
        "\n",
        "  def pull_arm(self):\n",
        "    if(self.t < self.n_arms):\n",
        "      return self.t\n",
        "    upper_bound = self.empirical_means + self.confidence\n",
        "    pulled_arm = np.random.choice(np.where(upper_bound == upper_bound.max())[0])\n",
        "    #return pulled_arm, upper_bound[pulled_arm]\n",
        "    #return pulled_arm, self.empirical_means[pulled_arm]\n",
        "    return pulled_arm\n",
        "\n",
        "  def update(self, pulled_arm, reward):\n",
        "    self.t += 1\n",
        "    self.update_observations(pulled_arm, reward*self.prices[pulled_arm])\n",
        "    self.empirical_means[pulled_arm] = (self.empirical_means[pulled_arm]*(len(self.rewards_per_arm[pulled_arm]) - 1) + reward*self.prices[pulled_arm] ) / len(self.rewards_per_arm[pulled_arm])\n",
        "    self.confidence[pulled_arm] = self.prices[pulled_arm]*np.sqrt(2*np.log(self.t)/len(self.rewards_per_arm[pulled_arm]))"
      ]
    },
    {
      "cell_type": "markdown",
      "metadata": {
        "id": "SFRb1XPhhRS7"
      },
      "source": [
        "## Advertising"
      ]
    },
    {
      "cell_type": "code",
      "execution_count": 112,
      "metadata": {
        "id": "gQgsfPw5K8S7"
      },
      "outputs": [],
      "source": [
        "from sklearn.gaussian_process import GaussianProcessRegressor\n",
        "from sklearn.gaussian_process.kernels import RBF, ConstantKernel as C"
      ]
    },
    {
      "cell_type": "code",
      "execution_count": 113,
      "metadata": {
        "id": "fhgjXE0RGDo0"
      },
      "outputs": [],
      "source": [
        "class GPTS_Learner(Learner):\n",
        "  # constructor takes as input the number arms (bids), intializes to 0 their means and to an aye their standard deviation; we also need to store the arm that we pull at each round to fot the GPs\n",
        "  def __init__(self, n_arms, arms, alpha_clicks, alpha_costs, normalize_y = False, step = 1, step_delay = 366, n_restarts_optimizer = 0, plot = False):\n",
        "    super().__init__(n_arms)\n",
        "    self.arms = arms\n",
        "    self.means_clicks = np.ones(self.n_arms) * 1e3\n",
        "    self.means_costs = np.ones(self.n_arms) * 1e3\n",
        "    self.sigmas_clicks = np.ones(self.n_arms)\n",
        "    self.sigmas_costs = np.ones(self.n_arms)\n",
        "    self.pulled_arms = []\n",
        "    self.collected_clicks = np.array([])\n",
        "    self.collected_costs = np.array([])\n",
        "    # we initialize the parameters of the kernel and the two GPs\n",
        "    if normalize_y:\n",
        "      kernel_clicks = C(2000.,(1000.,5000.)) * RBF(0.3,(0.01,0.6)) # for normalized\n",
        "      kernel_costs = C(2000.,(1000.,5000.)) * RBF(0.3,(0.01,0.6)) # for normalized\n",
        "    else:\n",
        "      kernel_clicks = C(1,(1e3,1e4)) * RBF(1,(0.1,1))\n",
        "      kernel_costs = C(1, (1e3,1e4)) * RBF(1,(0.1,1))\n",
        "    self.gp_clicks = GaussianProcessRegressor(kernel = kernel_clicks, alpha = alpha_clicks**2, normalize_y = normalize_y, n_restarts_optimizer = n_restarts_optimizer)\n",
        "    self.gp_costs = GaussianProcessRegressor(kernel = kernel_costs, alpha = alpha_costs**2, normalize_y = normalize_y, n_restarts_optimizer = n_restarts_optimizer)\n",
        "    self.plot = plot\n",
        "    self.step = step\n",
        "    self.step_delay = step_delay\n",
        "\n",
        "  # we also need to update the value of the least pulled arm (reward[0]: n_clicks, reward[1]: costs)\n",
        "  def update_observations(self, arm_idx, reward):\n",
        "    arm_idx = int(arm_idx)\n",
        "    super().update_observations(arm_idx, reward)\n",
        "    self.pulled_arms.append(self.arms[arm_idx])\n",
        "\n",
        "  # update the GP estimations and consequently the means and sigmas of each arm\n",
        "  def update_model(self):\n",
        "    # trining inputs and targets\n",
        "    if self.t < self.step_delay or not(self.t % self.step):\n",
        "      x = np.atleast_2d(self.pulled_arms).T\n",
        "      y_clicks = self.collected_clicks\n",
        "      y_costs = self.collected_costs\n",
        "      # fit the GP\n",
        "      if len(y_clicks) > 1:\n",
        "        self.gp_clicks.fit(x,y_clicks)\n",
        "        self.gp_costs.fit(x,y_costs)\n",
        "        # update values of means and sigmas with the new predictions\n",
        "        self.means_clicks, self.sigmas_clicks = self.gp_clicks.predict(np.atleast_2d(self.arms).T, return_std = True)\n",
        "        self.means_costs, self.sigmas_costs = self.gp_costs.predict(np.atleast_2d(self.arms).T, return_std = True)\n",
        "        self.sigmas_clicks = np.maximum(self.sigmas_clicks, 1e-2)\n",
        "        self.sigmas_costs = np.maximum(self.sigmas_costs, 1e-2)\n",
        "\n",
        "      if self.plot:\n",
        "        plt.figure()\n",
        "        plt.title(\"Clicks:\" + str(self.t))\n",
        "        plt.plot(self.arms, clicks(self.arms), 'r:', label = r'$n(x)$')\n",
        "        plt.plot(x.ravel(), y_clicks.ravel(), 'ro', label = u'Observed Clicks')\n",
        "        plt.plot(self.arms, self.means_clicks, 'b-', label = u'Predicted Clicks')\n",
        "        plt.fill(np.concatenate([self.arms,self.arms[::-1]]),\n",
        "                np.concatenate([self.means_clicks - 1.96 * self.sigmas_clicks , (self.means_clicks + 1.96 * self.sigmas_clicks)[::-1]]),\n",
        "                alpha = .5, fc = 'b', ec = 'None', label = '95% conf interval')\n",
        "        plt.xlabel('$x')\n",
        "        plt.ylabel('$n(x)$')\n",
        "        plt.legend(loc = 'lower right')\n",
        "        plt.show()\n",
        "\n",
        "        plt.figure()\n",
        "        plt.title(\"Costs:\" + str(self.t))\n",
        "        plt.plot(self.arms, costs(self.arms), 'r:', label = r'$c(x)$')\n",
        "        plt.plot(x.ravel(), y_costs.ravel(), 'ro', label = u'Observed Costs')\n",
        "        plt.plot(self.arms, self.means_costs, 'b-', label = u'Predicted Costs')\n",
        "        plt.fill(np.concatenate([self.arms,self.arms[::-1]]),\n",
        "                np.concatenate([self.means_costs - 1.96 * self.sigmas_costs , (self.means_costs + 1.96 * self.sigmas_costs)[::-1]]),\n",
        "                alpha = .5, fc = 'b', ec = 'None', label = '95% conf interval')\n",
        "        plt.xlabel('$x')\n",
        "        plt.ylabel('$c(x)$')\n",
        "        plt.legend(loc = 'lower right')\n",
        "        plt.show()\n",
        "\n",
        "  # functions that calls the functions implemented above (reward[0]: n_clicks, reward[1]: costs)\n",
        "  def update(self, pulled_arm, reward):\n",
        "    self.t += 1\n",
        "    self.update_observations(pulled_arm, reward)\n",
        "    self.collected_clicks = np.append(self.collected_clicks,reward[0])\n",
        "    self.collected_costs = np.append(self.collected_costs,reward[1])\n",
        "    self.update_model()\n",
        "\n",
        "  # function in which the learner chooses the arm to pull at each round\n",
        "  def pull_arm(self):\n",
        "    # returns index of the maximum value drawn from the arm normal distribution\n",
        "    samples = np.random.normal(self.means_clicks - self.means_costs, np.sqrt(self.sigmas_clicks**2 + self.sigmas_costs**2))\n",
        "    return np.argmax(samples)\n",
        "\n",
        "  def initialize_learner(self, collected_features):\n",
        "    for t in range(int(collected_features[-1,-1])):\n",
        "      mask = (collected_features[:,-1] == t)\n",
        "      masked_features = collected_features[mask,:]\n",
        "      unique_bids = np.unique(masked_features[:,2])\n",
        "      for bid in unique_bids:\n",
        "        aux = masked_features[(masked_features[:,2]==bid),:]\n",
        "        clicks = aux.shape[0]\n",
        "        costs = np.sum(aux[:,3],axis=0)\n",
        "        self.update_observations(bid,[clicks,costs])\n",
        "        self.collected_clicks = np.append(self.collected_clicks,clicks)\n",
        "        self.collected_costs = np.append(self.collected_costs,costs)\n",
        "      self.t += 1\n",
        "    self.update_model()"
      ]
    },
    {
      "cell_type": "code",
      "execution_count": 114,
      "metadata": {
        "id": "bVKv83N_bqna"
      },
      "outputs": [],
      "source": [
        "class GPUCB_Learner(GPTS_Learner):\n",
        "  def __init__(self, n_arms, arms, alpha_clicks, alpha_costs, normalize_y = False, step = 1, step_delay = 366, n_restarts_optimizer = 0, plot = False):\n",
        "    super().__init__(n_arms, arms, alpha_clicks, alpha_costs, normalize_y, step, step_delay, n_restarts_optimizer, plot)\n",
        "\n",
        "  # returns index of the maximum UCB from the arm normal distribution (coefficient for CI of order 1-1/T: 3.0)\n",
        "  def pull_arm(self):\n",
        "    upper_bound = self.means_clicks - self.means_costs + 3.0*np.sqrt(self.sigmas_clicks**2 + self.sigmas_costs**2)\n",
        "    pulled_arm = np.random.choice(np.where(upper_bound == upper_bound.max())[0])\n",
        "    return pulled_arm"
      ]
    },
    {
      "cell_type": "markdown",
      "metadata": {
        "id": "zWucpWCHhTci"
      },
      "source": [
        "## Simulation"
      ]
    },
    {
      "cell_type": "code",
      "execution_count": 115,
      "metadata": {
        "id": "HHBYQJ68hKQT"
      },
      "outputs": [],
      "source": [
        "import matplotlib.pyplot as plt\n",
        "from tqdm import tqdm"
      ]
    },
    {
      "cell_type": "code",
      "execution_count": 116,
      "metadata": {
        "id": "lgiMX_uahrbZ"
      },
      "outputs": [],
      "source": [
        "# generic\n",
        "T = 365                                # horizon of experiment\n",
        "n_experiments = 10                    # since the reward functions are stochastic, to better visualize the results and remove the noise we do multiple experiments"
      ]
    },
    {
      "cell_type": "code",
      "execution_count": 117,
      "metadata": {
        "colab": {
          "base_uri": "https://localhost:8080/"
        },
        "id": "rp7Fw22Fha3F",
        "outputId": "5d15a65b-643e-4459-f3f6-de687b5ad6e3"
      },
      "outputs": [
        {
          "output_type": "stream",
          "name": "stdout",
          "text": [
            "Pricing (optimal price) context  0\n",
            "idx: 3  price: 8  rate: 0.35  price*rate: 2.8\n",
            "Pricing (optimal price) context  1\n",
            "idx: 3  price: 8  rate: 0.4  price*rate: 3.2\n",
            "Pricing (optimal price) context  2\n",
            "idx: 4  price: 9  rate: 0.2  price*rate: 1.8\n"
          ]
        }
      ],
      "source": [
        "# pricing\n",
        "n_prices = 5\n",
        "prices = [5,6,7,8,9]\n",
        "p = np.array([[0.15,0.1,0.1,0.35,0.1],\n",
        "              [0.2,0.15,0.05,0.4,0.1],\n",
        "              [0.25,0.15,0.1,0.1,0.2]])             # bernoulli distributions for the reward functions\n",
        "opt_rate = [p[0][np.argmax(p[0]*prices)],\n",
        "            p[1][np.argmax(p[1]*prices)],\n",
        "            p[2][np.argmax(p[2]*prices)]]                 # optimal arm\n",
        "\n",
        "for i in range(0,3):\n",
        "    print(\"Pricing (optimal price) context \", str(i))\n",
        "    print(\"idx: \" + str(np.argmax(p[i]*prices)) + \"  price: \" + str(prices[np.argmax(p[i]*prices)]) + \"  rate: \" + str(opt_rate[i]) + \"  price*rate: \" + str(opt_rate[i]*prices[np.argmax(p[i]*prices)]))"
      ]
    },
    {
      "cell_type": "code",
      "execution_count": 118,
      "metadata": {
        "colab": {
          "base_uri": "https://localhost:8080/",
          "height": 934
        },
        "id": "1mbnyMJJjqQ6",
        "outputId": "725a39c5-e66e-4d3e-aac5-86d700047361"
      },
      "outputs": [
        {
          "output_type": "stream",
          "name": "stdout",
          "text": [
            "Advertising (optimal bid):\n",
            "idx: 65  bid: 0.6565656565656566  clicks-costs: 13.794848078095768\n",
            "Advertising (optimal bid):\n",
            "idx: 60  bid: 0.6060606060606061  clicks-costs: 9.48939393061842\n",
            "Advertising (optimal bid):\n",
            "idx: 55  bid: 0.5555555555555556  clicks-costs: 34.04899438162843\n"
          ]
        },
        {
          "output_type": "display_data",
          "data": {
            "text/plain": [
              "<Figure size 800x1000 with 3 Axes>"
            ],
            "image/png": "[encoded data removed]"
          },
          "metadata": {}
        }
      ],
      "source": [
        "# advertising\n",
        "n_bids = 100\n",
        "min_bid = 0.0\n",
        "max_bid = 1.0\n",
        "bids = np.linspace(min_bid, max_bid, n_bids)\n",
        "sigma_clicks = [3, 2.5, 3]\n",
        "sigma_costs = [3, 2.5, 3]\n",
        "\n",
        "params_clicks = [[100, 4, 3, 3],\n",
        "                 [95,  6, 5, 3],\n",
        "                 [100, 5, 4, 2]]\n",
        "params_costs = [[70, 7],\n",
        "                [80, 6],\n",
        "                [50, 4]]\n",
        "def clicks(x, params=[100, 4, 3, 3]):\n",
        "  return params[0] * (1.0 - np.exp(-params[1]*x+params[2]*x**params[3]))\n",
        "\n",
        "def costs(x, params=[70, 7]):\n",
        "  return params[0] * (1.0 - np.exp(-params[1]*x))\n",
        "\n",
        "\n",
        "opt_bid = np.zeros(3)\n",
        "for i in range(0,3):\n",
        "    opt_bid[i] = bids[np.argmax(opt_rate[i]*prices[np.argmax(p[i]*prices)]*clicks(bids, params_clicks[i])-costs(bids, params_costs[i]))]\n",
        "\n",
        "fig, ax = plt.subplots(3, figsize=(8,10))\n",
        "for i in range(0, 3):\n",
        "    ax[i].plot(bids,clicks(bids, params_clicks[i]),'blue',bids, costs(bids, params_costs[i]),'orange')\n",
        "    ax[i].legend([\"Number of clicks\", \"Cumulative Costs\"])\n",
        "    ax[i].axvline(opt_bid[i],c='red')\n",
        "    print(\"Advertising (optimal bid):\")\n",
        "    print(\"idx: \" + str(np.argmax(opt_rate[i]*prices[np.argmax(p[i]*prices)]*clicks(bids, params_clicks[i])-costs(bids, params_costs[i]))) + \"  bid: \" + str(opt_bid[i]) + \"  clicks-costs: \" + str(clicks(opt_bid[i], params_clicks[i])-costs(opt_bid[i], params_costs[i])))"
      ]
    },
    {
      "cell_type": "code",
      "execution_count": 119,
      "metadata": {
        "id": "HLlITTMr2E4a"
      },
      "outputs": [],
      "source": [
        "# Function wrapper to be able to pass to environment\n",
        "def clicks1(x):\n",
        "    return clicks(x, params_clicks[0])\n",
        "def clicks2(x):\n",
        "    return clicks(x, params_clicks[1])\n",
        "def clicks3(x):\n",
        "    return clicks(x, params_clicks[2])"
      ]
    },
    {
      "cell_type": "code",
      "execution_count": 120,
      "metadata": {
        "id": "ulAEpaG42E4b"
      },
      "outputs": [],
      "source": [
        "# Function wrapper to be able to pass to environment\n",
        "def costs1(x):\n",
        "    return costs(x, params_costs[0])\n",
        "def costs2(x):\n",
        "    return costs(x, params_costs[1])\n",
        "def costs3(x):\n",
        "    return costs(x, params_costs[2])"
      ]
    },
    {
      "cell_type": "code",
      "execution_count": 121,
      "metadata": {
        "id": "GYJqulZUHS97"
      },
      "outputs": [],
      "source": [
        "import warnings\n",
        "warnings.simplefilter('ignore', UserWarning)"
      ]
    },
    {
      "cell_type": "code",
      "execution_count": 241,
      "metadata": {
        "id": "_SRCYBr82E4c"
      },
      "outputs": [],
      "source": [
        "def context_generation(collected_features, prices, features_to_check=[0,1], time=14): # INPUT: [x1, x2, pulled_price, reward_price] per row\n",
        "    delta = 1/time\n",
        "\n",
        "    # Calculate best expected reward for actual context without separation of features (context 0)\n",
        "    er_arms_0 = [np.mean(collected_features[(collected_features[:,2]==arm)], axis=1)[3] * prices[arm] for arm in range(5)]\n",
        "    length_er_arms_0 = [len(collected_features[(collected_features[:,2]==arm)]) for arm in range(5)]\n",
        "    best_er_price_index_0 = np.argmax(er_arms_0)\n",
        "    lb_best_er_arms_0 = max(er_arms_0) - prices[best_er_price_index_0]*np.sqrt(-np.log(delta)/(2*length_er_arms_0[best_er_price_index_0]))\n",
        "\n",
        "    # for every feature\n",
        "    splits = []\n",
        "\n",
        "    #print(features_to_check)\n",
        "    for i in features_to_check:\n",
        "        # Estimate probabilities for the feature\n",
        "\n",
        "        prob_0 = sum(collected_features[:,i]==0) / len(collected_features)\n",
        "        prob_1 = 1 - prob_0\n",
        "\n",
        "        # Calculate best expected rewards for contexts obtained by separating features (context1, context2)\n",
        "\n",
        "        er_arms_1 = [np.mean(collected_features[(collected_features[:,i]==0) * (collected_features[:,2]==arm)], axis=1)[3] * prices[arm] for arm in range(5)]\n",
        "        er_arms_2 = [np.mean(collected_features[(collected_features[:,i]==1) * (collected_features[:,2]==arm)], axis=1)[3] * prices[arm] for arm in range(5)]\n",
        "\n",
        "        length_er_arms_1 = [len(collected_features[(collected_features[:,i]==0) * (collected_features[:,2]==arm)]) for arm in range(5)]\n",
        "        length_er_arms_2 = [len(collected_features[(collected_features[:,i]==1) * (collected_features[:,2]==arm)]) for arm in range(5)]\n",
        "\n",
        "        best_er_price_index_1 = np.argmax(er_arms_1)\n",
        "        best_er_price_index_2 = np.argmax(er_arms_2)\n",
        "\n",
        "        # Calculate lower bound on best expect. rewards and probs\n",
        "\n",
        "        lb_prob_0 = prob_0 - np.sqrt(-np.log(delta)/(2*sum(collected_features[:,i]==0)))\n",
        "        lb_prob_1 = prob_1 - np.sqrt(-np.log(delta)/(2*sum(collected_features[:,i]==1)))\n",
        "\n",
        "        lb_best_er_arms_1 = max(er_arms_1) - prices[best_er_price_index_1]*np.sqrt(-np.log(delta)/(2*length_er_arms_1[best_er_price_index_1]))\n",
        "        lb_best_er_arms_2 = max(er_arms_2) - prices[best_er_price_index_2]*np.sqrt(-np.log(delta)/(2*length_er_arms_2[best_er_price_index_2]))\n",
        "\n",
        "        splits.append(lb_best_er_arms_1*lb_prob_0 + lb_best_er_arms_2*lb_prob_1)\n",
        "\n",
        "    #print(splits, lb_best_er_arms_0)\n",
        "\n",
        "    # Select feature with max. value if larger than non-split case\n",
        "    best_feature = np.argmax(splits)\n",
        "    worse_feature = np.argmin(splits)\n",
        "    if splits[best_feature] >= lb_best_er_arms_0:\n",
        "        if len(features_to_check)-1 == 0: # If no other features to split\n",
        "            return True, [features_to_check[best_feature]]\n",
        "        # Check separation with the other feature within the actual separtion (for values = 0 and = 1)\n",
        "        check_sub0, _ = context_generation(collected_features[collected_features[:,best_feature]==0], prices, features_to_check=[worse_feature])\n",
        "        check_sub1, _ = context_generation(collected_features[collected_features[:,best_feature]==1], prices, features_to_check=[worse_feature])\n",
        "        return True, [features_to_check[best_feature], features_to_check[worse_feature] if check_sub0 else None, features_to_check[worse_feature] if check_sub1 else None]\n",
        "\n",
        "    return False, []\n"
      ]
    },
    {
      "cell_type": "code",
      "execution_count": 245,
      "metadata": {
        "colab": {
          "base_uri": "https://localhost:8080/"
        },
        "id": "MEHXzcqW2E4d",
        "outputId": "5f60755f-56d9-412b-b5ad-88e263425270"
      },
      "outputs": [
        {
          "output_type": "execute_result",
          "data": {
            "text/plain": [
              "(False, [])"
            ]
          },
          "metadata": {},
          "execution_count": 245
        }
      ],
      "source": [
        "# Function testing\n",
        "aux = []\n",
        "\n",
        "for i in range(1000):\n",
        "    x1 = 1 if np.random.binomial(1, 1/3) > 0.5 else 0\n",
        "    x2 = 1 if np.random.binomial(1, 1/4) > 0.5 else 0\n",
        "    #price_buy = max(0, np.random.normal(0,10))\n",
        "    pulled_price = np.random.choice([0,1,2,3,4],p=p[0]/sum(p[0]))\n",
        "    aux.append([x1,x2,pulled_price, np.random.binomial(1, 0)]) if x1 == 0 else aux.append([x1,x2,pulled_price, np.random.binomial(1, 1.)])\n",
        "\n",
        "aux=np.array(aux)\n",
        "\n",
        "\n",
        "context_generation(aux, prices, time=10000)"
      ]
    },
    {
      "cell_type": "code",
      "execution_count": 124,
      "metadata": {
        "id": "zx1dR-Cx2E4d"
      },
      "outputs": [],
      "source": [
        "def create_learners(n_contexts, price, sigma_clicks, sigma_costs):\n",
        "  pricing_learners_gpts = [TS_Pricing_Learner(n_arms = n_prices, prices = price) for c in range(n_contexts)]\n",
        "  pricing_learners_gpucb =[TS_Pricing_Learner(n_arms = n_prices, prices = price) for c in range(n_contexts)]\n",
        "  gpts_learners = [GPTS_Learner(n_arms = n_bids, arms = bids, alpha_clicks = sigma_clicks, alpha_costs = sigma_costs,\n",
        "                              step = 1, normalize_y = False,plot = False, step_delay = 0) for c in range(n_contexts)]\n",
        "  gpucb_learners = [GPUCB_Learner(n_arms = n_bids, arms = bids, alpha_clicks = sigma_clicks, alpha_costs = sigma_costs,\n",
        "                                step = 1, normalize_y = False, step_delay = 0) for c in range(n_contexts)]\n",
        "\n",
        "  gpts_daily_pricing_rewards = [np.array([]) for c in range(n_contexts)]\n",
        "  gpucb_daily_pricing_rewards = [np.array([]) for c in range(n_contexts)]\n",
        "  return pricing_learners_gpts, pricing_learners_gpucb, gpts_learners, gpucb_learners, gpts_daily_pricing_rewards, gpucb_daily_pricing_rewards\n",
        "\n",
        "\n",
        "def click_constant_from_context(x1, x2):\n",
        "  if x1 == 0:\n",
        "    if x2 == 1:\n",
        "      return [0,1,0]\n",
        "    elif x2 == 0:\n",
        "      return [0,0,1]\n",
        "    elif x2 == 2:\n",
        "      return [0,1,1]\n",
        "  elif x1 == 1:\n",
        "    if x2 == 1 or x2 == 0:\n",
        "      return [1/2,0,0]\n",
        "    elif x2 == 2:\n",
        "      return [1,0,0]\n",
        "  elif x1 == 2:\n",
        "    if x2 == 1:\n",
        "      return [1/2,1,0]\n",
        "    elif x2 == 0:\n",
        "      return [1/2,0,1]\n",
        "    elif x2 == 2:\n",
        "      return [1,1,1]\n",
        "\n",
        "def save_results(x, T):\n",
        "  np.savetxt(\"gpts_rewards_per_experiment\"+str(T)+\".csv\", x, delimiter=\",\")\n",
        "\n",
        "def load_results(fname):\n",
        "  return np.loadtxt(fname, delimiter=\",\")"
      ]
    },
    {
      "cell_type": "code",
      "execution_count": 125,
      "metadata": {
        "id": "lOwCK0sJ2E4e"
      },
      "outputs": [],
      "source": [
        "# PSEUDO-CODE\n",
        "# 4.2:\n",
        "  # run basic algorithm for 2 weeks (Aggregate model, 1 context), for every person (n total) observe also x1,x2\n",
        "    # depending on x1 and x2 we use the corresponding environment variables: click and cost fct and sigmas, price probs.\n",
        "    # use same prices for all classes\n",
        "\n",
        "  # after 2 weeks, run context-generator algorithm (n tuples: [x1,x2,buy*price]) <=> classification algorithm that maps (x1,x2)->(a,b,c,... M classes, since we don't know the actual ones)\n",
        "    # For x1 -> check split condition (using lower bound on the expected rewards)\n",
        "    # For x2 -> check split condition (using lower bound on the expected rewards)\n",
        "    # return current best context strategy\n",
        "\n",
        "  # for each day 14:365 run Dissagregate model:\n",
        "    # We create M bidding learners and M pricing learners\n",
        "    # pull M bids -> mapped into 3 bids for the observation purposes\n",
        "    # observe a certain amount of clicks (clicks1 [1,.], clicks2 [0,1], clicks3 [0,0]) -> mapped into clicks1, ..., clicksM by the context classification algorithm\n",
        "      # for every person (n total) observe x1 and x2:\n",
        "        # [1,1]->1  [0,1]->2 [1,0]->1, [0,0]->3 => clicks[1,1] = 1/2*clicks1, clicks[1,0] = 1/2*clicks1\n",
        "        # [1,:]->1 [0,:]->2,3 => clicks[0,:] = clicks2 + clicks3\n",
        "    # observe a certain amount of costs (costs1 [1,.], costs2 [0,1], costs3 [0,0]) -> mapped into costs1, ..., costsM by the context classification algorithm\n",
        "      # same as clicks\n",
        "    # update the M bidding_learners\n",
        "\n",
        "    # for each class/context (1,...,M):\n",
        "      # for each click:\n",
        "        # pull a price\n",
        "        # observe acquisition or not\n",
        "        # update correspondin pricing_learner\n",
        "\n",
        "    # after 2 weeks, update context-generator algorithm\n",
        "\n",
        "  # reward: sum(rate[i]*price[i]*clicks[i] - costs[i])\n"
      ]
    },
    {
      "cell_type": "code",
      "execution_count": 232,
      "metadata": {
        "colab": {
          "base_uri": "https://localhost:8080/",
          "height": 967
        },
        "id": "YvOLQjxQtZ7Q",
        "outputId": "42b6a6f4-d6b7-43b8-85f2-8a2d1fc1f814"
      },
      "outputs": [
        {
          "output_type": "stream",
          "name": "stderr",
          "text": [
            "\r  0%|          | 0/10 [00:00<?, ?it/s]"
          ]
        },
        {
          "output_type": "stream",
          "name": "stdout",
          "text": [
            "[[1. 0. 0. 0.]\n",
            " [0. 0. 0. 1.]\n",
            " [0. 0. 0. 0.]\n",
            " ...\n",
            " [1. 1. 3. 0.]\n",
            " [1. 0. 3. 0.]\n",
            " [0. 1. 3. 1.]]\n",
            "[[1. 0. 0. 0.]\n",
            " [0. 0. 0. 1.]\n",
            " [0. 0. 0. 0.]\n",
            " ...\n",
            " [1. 1. 3. 0.]\n",
            " [1. 0. 3. 1.]\n",
            " [0. 0. 3. 0.]]\n"
          ]
        },
        {
          "output_type": "stream",
          "name": "stderr",
          "text": [
            "\r 10%|█         | 1/10 [00:01<00:16,  1.80s/it]"
          ]
        },
        {
          "output_type": "stream",
          "name": "stdout",
          "text": [
            "[[0. 1. 0. 0.]\n",
            " [0. 0. 0. 0.]\n",
            " [0. 0. 0. 0.]\n",
            " ...\n",
            " [0. 1. 3. 1.]\n",
            " [1. 1. 3. 1.]\n",
            " [1. 0. 3. 1.]]\n",
            "[[0. 0. 0. 0.]\n",
            " [0. 0. 0. 0.]\n",
            " [0. 0. 0. 0.]\n",
            " ...\n",
            " [0. 0. 3. 0.]\n",
            " [1. 0. 3. 1.]\n",
            " [1. 0. 3. 1.]]\n",
            "[[0. 1. 0. 0.]\n",
            " [0. 1. 0. 0.]\n",
            " [0. 1. 0. 1.]\n",
            " ...\n",
            " [0. 1. 3. 1.]\n",
            " [0. 1. 3. 1.]\n",
            " [1. 1. 3. 1.]]\n"
          ]
        },
        {
          "output_type": "stream",
          "name": "stderr",
          "text": [
            "\r 10%|█         | 1/10 [00:04<00:37,  4.19s/it]\n"
          ]
        },
        {
          "output_type": "error",
          "ename": "KeyboardInterrupt",
          "evalue": "ignored",
          "traceback": [
            "\u001b[0;31m---------------------------------------------------------------------------\u001b[0m",
            "\u001b[0;31mKeyboardInterrupt\u001b[0m                         Traceback (most recent call last)",
            "\u001b[0;32m<ipython-input-232-982def153ab1>\u001b[0m in \u001b[0;36m<cell line: 12>\u001b[0;34m()\u001b[0m\n\u001b[1;32m    146\u001b[0m             \u001b[0mpulled_price\u001b[0m \u001b[0;34m=\u001b[0m \u001b[0mpricing_learners_gpts\u001b[0m\u001b[0;34m[\u001b[0m\u001b[0mj\u001b[0m\u001b[0;34m]\u001b[0m\u001b[0;34m.\u001b[0m\u001b[0mpull_arm\u001b[0m\u001b[0;34m(\u001b[0m\u001b[0;34m)\u001b[0m\u001b[0;34m\u001b[0m\u001b[0;34m\u001b[0m\u001b[0m\n\u001b[1;32m    147\u001b[0m \u001b[0;34m\u001b[0m\u001b[0m\n\u001b[0;32m--> 148\u001b[0;31m             \u001b[0mreward_price\u001b[0m \u001b[0;34m=\u001b[0m \u001b[0menv\u001b[0m\u001b[0;34m.\u001b[0m\u001b[0mpricing_round\u001b[0m\u001b[0;34m(\u001b[0m\u001b[0mpulled_price\u001b[0m\u001b[0;34m,\u001b[0m \u001b[0menv_idx\u001b[0m\u001b[0;34m)\u001b[0m\u001b[0;34m\u001b[0m\u001b[0;34m\u001b[0m\u001b[0m\n\u001b[0m\u001b[1;32m    149\u001b[0m             \u001b[0;31m# Set x1 and x2 to the current context's feature space. REVIEW: could be implemented better probably\u001b[0m\u001b[0;34m\u001b[0m\u001b[0;34m\u001b[0m\u001b[0m\n\u001b[1;32m    150\u001b[0m             \u001b[0;32mif\u001b[0m \u001b[0menv_idx\u001b[0m\u001b[0;34m==\u001b[0m\u001b[0;36m0\u001b[0m\u001b[0;34m:\u001b[0m\u001b[0;34m\u001b[0m\u001b[0;34m\u001b[0m\u001b[0m\n",
            "\u001b[0;32m<ipython-input-108-805ae80d3cc0>\u001b[0m in \u001b[0;36mpricing_round\u001b[0;34m(self, pulled_price, i)\u001b[0m\n\u001b[1;32m     30\u001b[0m \u001b[0;34m\u001b[0m\u001b[0m\n\u001b[1;32m     31\u001b[0m   \u001b[0;32mdef\u001b[0m \u001b[0mpricing_round\u001b[0m\u001b[0;34m(\u001b[0m\u001b[0mself\u001b[0m\u001b[0;34m,\u001b[0m \u001b[0mpulled_price\u001b[0m\u001b[0;34m,\u001b[0m \u001b[0mi\u001b[0m\u001b[0;34m)\u001b[0m\u001b[0;34m:\u001b[0m\u001b[0;34m\u001b[0m\u001b[0;34m\u001b[0m\u001b[0m\n\u001b[0;32m---> 32\u001b[0;31m     \u001b[0mreward_price\u001b[0m \u001b[0;34m=\u001b[0m \u001b[0mnp\u001b[0m\u001b[0;34m.\u001b[0m\u001b[0mrandom\u001b[0m\u001b[0;34m.\u001b[0m\u001b[0mbinomial\u001b[0m\u001b[0;34m(\u001b[0m\u001b[0;36m1\u001b[0m\u001b[0;34m,\u001b[0m\u001b[0mself\u001b[0m\u001b[0;34m.\u001b[0m\u001b[0mprobabilities\u001b[0m\u001b[0;34m[\u001b[0m\u001b[0mi\u001b[0m\u001b[0;34m]\u001b[0m\u001b[0;34m[\u001b[0m\u001b[0mpulled_price\u001b[0m\u001b[0;34m]\u001b[0m\u001b[0;34m)\u001b[0m                         \u001b[0;31m# number of people that buy once they clicked\u001b[0m\u001b[0;34m\u001b[0m\u001b[0;34m\u001b[0m\u001b[0m\n\u001b[0m\u001b[1;32m     33\u001b[0m     \u001b[0;32mreturn\u001b[0m \u001b[0mreward_price\u001b[0m\u001b[0;34m\u001b[0m\u001b[0;34m\u001b[0m\u001b[0m\n",
            "\u001b[0;31mKeyboardInterrupt\u001b[0m: "
          ]
        }
      ],
      "source": [
        "# experiments\n",
        "save_results_opt = False\n",
        "\n",
        "temp_n_contexts = [1]\n",
        "\n",
        "n_experiments = 10\n",
        "T=30\n",
        "\n",
        "rewards_for_experiments = []\n",
        "\n",
        "\n",
        "for e in tqdm(range(0,n_experiments)):  # cycle on experiments\n",
        "  env = Environment_Multiple_Contexts(n_arms = n_prices,\n",
        "                                        probabilities = p,\n",
        "                                        bids = bids,\n",
        "                                        average_number_of_clicks = [clicks1, clicks2, clicks3],\n",
        "                                        average_cum_daily_cost = [costs1, costs2, costs3],\n",
        "                                        noise_clicks = sigma_clicks,\n",
        "                                        noise_cost = sigma_costs)\n",
        "\n",
        "  n_contexts = 1\n",
        "  k = click_constant_from_context(x1=2, x2=2) # Generic context, no specific values for any of the two params\n",
        "\n",
        "  collected_features = []\n",
        "  # Create num of learners based on num of contexts\n",
        "  pricing_learners_gpts, _, gpts_learners, __, gpts_daily_pricing_rewards, ___ = create_learners(n_contexts, prices,sigma_clicks[0], sigma_costs[0])\n",
        "\n",
        "  collected_costs = np.array([])\n",
        "\n",
        "  gpts_rewards_per_experiment = np.array([])\n",
        "\n",
        "  for t in range(0, 14):# First two weeks with one context\n",
        "    for j in range(n_contexts):\n",
        "        pulled_bid_ts = gpts_learners[j].pull_arm()  # pull bid for each context\n",
        "        # For each environment calculate num of clicks and cost\n",
        "        reward_click_ts = 0\n",
        "        reward_cost_ts = 0\n",
        "        pulled_reward_price_arr = []\n",
        "        for env_idx in range(3): # Loop over all possible environments and then check if we want to use it in the current context or not\n",
        "          if k[env_idx] == 0:\n",
        "            continue\n",
        "          reward_click_ts_, reward_cost_ts_ = env.bidding_round(pulled_bid_ts, env_idx)\n",
        "          reward_click_ts += k[env_idx]*reward_click_ts_\n",
        "          reward_cost_ts += k[env_idx]*reward_cost_ts_\n",
        "\n",
        "          for click_idx in range(reward_click_ts_):\n",
        "            pulled_price = pricing_learners_gpts[j].pull_arm()\n",
        "\n",
        "            reward_price = env.pricing_round(pulled_price, env_idx)\n",
        "            # Set x1 and x2 to the current context's feature space. REVIEW: could be implemented better probably\n",
        "            if env_idx==0:\n",
        "              if click_idx < reward_click_ts_/2: # FIXME: bernoulli instead of deterministic check\n",
        "                x1 = 1\n",
        "                x2 = 1\n",
        "              else:\n",
        "                x1 = 1\n",
        "                x2 = 0\n",
        "            elif env_idx==1:\n",
        "              x1=0\n",
        "              x2=1\n",
        "            elif env_idx==2:\n",
        "              x1=0\n",
        "              x2=0\n",
        "            # We do not directly update the pricing learner, but instead shuffle all info so no bias is introduced for each env\n",
        "            pulled_reward_price_arr.append((pulled_price, reward_price, x1, x2, reward_click_ts_/reward_click_ts_))\n",
        "\n",
        "        # After we shuffle we train\n",
        "        np.random.shuffle(pulled_reward_price_arr)\n",
        "        aux = 0\n",
        "        for arr in pulled_reward_price_arr:\n",
        "          pulled_price, reward_price, x1, x2, unitary_cost_ts = arr\n",
        "          pricing_learners_gpts[j].update(pulled_price, reward_price)\n",
        "          collected_features.append([x1, x2, pulled_price, reward_price, pulled_bid_ts, unitary_cost_ts, t])\n",
        "          aux += reward_price*prices[pulled_price]\n",
        "        gpts_learners[j].update(pulled_bid_ts, [reward_click_ts,reward_cost_ts]) # REVIEW: update of advert part should be here and not each time for each environment\n",
        "        gpts_daily_pricing_rewards[j] = np.append(gpts_daily_pricing_rewards[j], aux)\n",
        "        collected_costs = np.append(collected_costs, reward_cost_ts)\n",
        "\n",
        "  #gpts_rewards_per_experiment = np.append(gpts_rewards_per_experiment, np.sum([gpts_daily_pricing_rewards[j] for j in range(n_contexts)], axis=0)-np.sum(collected_costs))\n",
        "\n",
        "\n",
        "  # FIXME: do one loop instead of two\n",
        "  for t in range(14, T):\n",
        "    if t%14 == 0: # Each 14 days\n",
        "      if save_results_opt:\n",
        "        save_results(gpts_rewards_per_experiment, T=t)\n",
        "\n",
        "      gpts_rewards_per_experiment = np.append(gpts_rewards_per_experiment, np.sum([gpts_daily_pricing_rewards[j] for j in range(n_contexts)], axis=0)-np.sum(collected_costs))\n",
        "\n",
        "      # Context Generation algorithm\n",
        "      collected_features=np.array(collected_features)\n",
        "      split_condition, feature_tree = context_generation(collected_features[:,:4], prices=prices, time=collected_features.shape[0])\n",
        "\n",
        "      if split_condition:\n",
        "        first_feature = feature_tree[0]\n",
        "        contexts = [[2, 2],[2, 2],[2, 2],[2, 2]]\n",
        "        for i in range(2):\n",
        "          contexts[2*i][first_feature] = i\n",
        "          contexts[2*i+1][first_feature] = i\n",
        "          if feature_tree[i+1] is not None:\n",
        "            second_feature = int(not first_feature)\n",
        "            contexts[2*i][second_feature] = 0\n",
        "            contexts[2*i+1][second_feature] = 1\n",
        "        contexts = list(set(map(tuple, contexts))) # Remove duplicates by creating set\n",
        "        n_contexts = len(contexts)\n",
        "      else: # One context, x1=. x2=.\n",
        "        n_contexts = 1\n",
        "        contexts=[(2,2)]\n",
        "\n",
        "      temp_n_contexts.append(n_contexts)\n",
        "\n",
        "      # Create num of learners based on num of contexts\n",
        "      pricing_learners_gpts, _, gpts_learners, __, gpts_daily_pricing_rewards, ___ = create_learners(n_contexts, prices,sigma_clicks[0], sigma_costs[0])\n",
        "\n",
        "      for j in range(n_contexts):\n",
        "        x1,x2 = contexts[j]\n",
        "        mask = np.ones(len(collected_features), dtype=bool)\n",
        "        if x1 == 2 and x2!=2:\n",
        "          mask = (collected_features[:,1]==x2)\n",
        "        elif x2 == 2 and x1 !=2:\n",
        "          mask = (collected_features[:,0]==x1)\n",
        "        elif x1!=2 and x2 != 2:\n",
        "          mask = (collected_features[:,0]==x1) and (collected_features[:,1]==x2)\n",
        "\n",
        "        pricing_learners_gpts[j].initialize_learner(collected_features[mask,2:])\n",
        "        gpts_learners[j].initialize_learner(collected_features[mask,2:])\n",
        "\n",
        "      collected_costs = np.array([])\n",
        "\n",
        "    for j in range(n_contexts):\n",
        "        k = click_constant_from_context(x1=contexts[j][0], x2=contexts[j][1]) # Generic context, no specific values for any of the two params\n",
        "\n",
        "        pulled_bid_ts = gpts_learners[j].pull_arm()  # pull bid for each context\n",
        "        # For each environment calculate num of clicks and cost\n",
        "        reward_click_ts = 0\n",
        "        reward_cost_ts = 0\n",
        "        pulled_reward_price_arr = []\n",
        "        for env_idx in range(3): # Loop over all possible environments and then check if we want to use it in the current context or not\n",
        "          if k[env_idx] == 0:\n",
        "            continue\n",
        "          reward_click_ts_, reward_cost_ts_ = env.bidding_round(pulled_bid_ts, env_idx)\n",
        "          reward_click_ts += k[env_idx]*reward_click_ts_\n",
        "          reward_cost_ts += k[env_idx]*reward_cost_ts_\n",
        "\n",
        "          for click_idx in range(reward_click_ts_):\n",
        "            pulled_price = pricing_learners_gpts[j].pull_arm()\n",
        "\n",
        "            reward_price = env.pricing_round(pulled_price, env_idx)\n",
        "            # Set x1 and x2 to the current context's feature space. REVIEW: could be implemented better probably\n",
        "            if env_idx==0:\n",
        "              if click_idx < reward_click_ts_/2:\n",
        "                x1 = 1\n",
        "                x2 = 1\n",
        "              else:\n",
        "                x1 = 1\n",
        "                x2 = 0\n",
        "            elif env_idx==1:\n",
        "              x1=0\n",
        "              x2=1\n",
        "            elif env_idx==2:\n",
        "              x1=0\n",
        "              x2=0\n",
        "            # We do not directly update the pricing learner, but instead shuffle all info so no bias is introduced for each env\n",
        "            pulled_reward_price_arr.append((pulled_price, reward_price, x1, x2,reward_click_ts_/reward_click_ts_))\n",
        "\n",
        "        # After we shuffle we train\n",
        "        np.random.shuffle(pulled_reward_price_arr)\n",
        "        aux = 0\n",
        "        for arr in pulled_reward_price_arr:\n",
        "          pulled_price, reward_price, x1, x2, unitary_cost_ts = arr\n",
        "          pricing_learners_gpts[j].update(pulled_price, reward_price)\n",
        "          collected_features = np.append(collected_features, np.array([x1, x2, pulled_price, reward_price, pulled_bid_ts, unitary_cost_ts, t]).reshape((1,collected_features.shape[1])), axis=0)\n",
        "          aux += reward_price*prices[pulled_price]\n",
        "        gpts_learners[j].update(pulled_bid_ts, [reward_click_ts,reward_cost_ts]) # REVIEW: update of advert part should be here and not each time for each environment\n",
        "        gpts_daily_pricing_rewards[j] = np.append(gpts_daily_pricing_rewards[j], aux)\n",
        "        collected_costs = np.append(collected_costs, reward_cost_ts)\n",
        "\n",
        "  gpts_rewards_per_experiment = np.append(gpts_rewards_per_experiment, np.sum([gpts_daily_pricing_rewards[j] for j in range(n_contexts)], axis=0)-np.sum(collected_costs))\n",
        "\n",
        "  rewards_for_experiments.append(gpts_rewards_per_experiment)"
      ]
    },
    {
      "cell_type": "code",
      "execution_count": 229,
      "metadata": {
        "id": "0eeog80MOUbG",
        "colab": {
          "base_uri": "https://localhost:8080/",
          "height": 449
        },
        "outputId": "d949c601-d7ae-4971-b16c-bc2edb4ea6a3"
      },
      "outputs": [
        {
          "output_type": "display_data",
          "data": {
            "text/plain": [
              "<Figure size 640x480 with 1 Axes>"
            ],
            "image/png": "[encoded data removed]"
          },
          "metadata": {}
        }
      ],
      "source": [
        "opt = np.sum([opt_rate[i]*prices[np.argmax(p[i]*prices)]*clicks(opt_bid[i], params_clicks[i]) - costs(opt_bid[i], params_costs[i]) for i in range(3)])\n",
        "\n",
        "\n",
        "plt.figure(0)\n",
        "plt.ylabel(\"Regret\")\n",
        "plt.xlabel(\"t\")\n",
        "plt.plot(np.cumsum(np.mean(opt - rewards_for_experiments, axis = 0)), 'r-')\n",
        "# plt.plot(np.cumsum(np.mean(opt - np.sum(gpucb_rewards_per_experiment, axis=0), axis = 0)), 'b-')\n",
        "#plt.legend([\"GPTS\",\"GPUCB\"])\n",
        "plt.show()"
      ]
    }
  ],
  "metadata": {
    "colab": {
      "provenance": []
    },
    "kernelspec": {
      "display_name": "Python 3",
      "name": "python3"
    },
    "language_info": {
      "name": "python"
    }
  },
  "nbformat": 4,
  "nbformat_minor": 0
}