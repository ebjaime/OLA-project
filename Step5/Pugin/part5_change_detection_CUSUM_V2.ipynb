{
 "cells": [
  {
   "cell_type": "markdown",
   "metadata": {
    "id": "Dj0OURPH3o7v"
   },
   "source": [
    "## Environment"
   ]
  },
  {
   "cell_type": "code",
   "execution_count": 1,
   "metadata": {
    "id": "B-I42SsV3rAd"
   },
   "outputs": [],
   "source": [
    "import numpy as np"
   ]
  },
  {
   "cell_type": "code",
   "execution_count": 2,
   "metadata": {
    "id": "KHKMI86i3skQ"
   },
   "outputs": [],
   "source": [
    "class Environment():\n",
    "\n",
    "  def __init__(self, n_arms, probabilities, bids, average_number_of_clicks, average_cum_daily_cost,noise_clicks,noise_cost):\n",
    "    self.n_arms = n_arms                                            # number of prices\n",
    "    self.probabilities = probabilities                              # conversion rates for every price/arm\n",
    "    self.bids = bids                                                # bids\n",
    "    self.average_number_of_clicks = average_number_of_clicks        # curve of average number of clicks (y = f(bids))\n",
    "    self.average_cum_daily_cost = average_cum_daily_cost            # curve of cumulative daily cost (y = g(bids))\n",
    "    self.noise_clicks = noise_clicks                                # gaussian noise for the average number of clicks sampling\n",
    "    self.noise_cost = noise_cost                                    # gaussian noise for the cumulative daily cost sampling\n",
    "\n",
    "  # daily rewards\n",
    "  def bidding_round(self, pulled_bid):\n",
    "    clicks = int(np.random.normal(self.average_number_of_clicks(self.bids[pulled_bid]),self.noise_clicks))        # number of people that click on the ad\n",
    "    reward_click = clicks if clicks >= 0 else 0\n",
    "    costs = np.random.normal(self.average_cum_daily_cost(self.bids[pulled_bid]),self.noise_cost)                  # cumulative daily cost\n",
    "    reward_cost = costs if costs > 0 else 0\n",
    "\n",
    "    return reward_click, reward_cost\n",
    "\n",
    "  def pricing_round(self, pulled_price):\n",
    "    reward_price = np.random.binomial(1,self.probabilities[pulled_price])                         # number of people that buy once they clicked\n",
    "    return reward_price"
   ]
  },
  {
   "cell_type": "code",
   "execution_count": 3,
   "metadata": {},
   "outputs": [],
   "source": [
    "class CUSUM(): \n",
    "    def __init__(self, M, eps, h):\n",
    "        self.M = M #used to compute reference point\n",
    "        self.eps = eps\n",
    "        self.h = h #treshold\n",
    "        self.t = 0\n",
    "        self.reference = 0\n",
    "        self.g_plus = 0\n",
    "        self.g_minus = 0\n",
    "    \n",
    "    def update (self, sample):   #compute mean before we reach M (not enough samples), after we compute variables\n",
    "        self.t += 1\n",
    "        if self.t <= self.M:\n",
    "            self.reference += sample/self.M \n",
    "            return 0\n",
    "        else:\n",
    "            s_plus = (sample - self .reference) - self.eps\n",
    "            s_minus = - (sample - self.reference) - self.eps\n",
    "            self.g_plus = max(0, self.g_plus + s_plus)\n",
    "            self.g_minus = max(0, self .g_minus + s_minus)\n",
    "            return self.g_plus > self.h or self.g_minus > self.h\n",
    "    def reset (self):    #resets when a change is detected\n",
    "        self.t = 0\n",
    "        self.g_plus = 0\n",
    "        self.g_minus = 0"
   ]
  },
  {
   "cell_type": "markdown",
   "metadata": {
    "id": "Dj0OURPH3o7v"
   },
   "source": [
    "## Non-stationnary environment"
   ]
  },
  {
   "cell_type": "code",
   "execution_count": 4,
   "metadata": {},
   "outputs": [],
   "source": [
    "class NonStationnary(Environment):\n",
    "  def __init__(self, n_arms, probabilities, bids, average_number_of_clicks, average_cum_daily_cost,noise_clicks,noise_cost,\n",
    "              time_abrupt_change_1, time_abrupt_change_2):\n",
    "    super().__init__(n_arms, probabilities, bids, average_number_of_clicks, average_cum_daily_cost,noise_clicks,noise_cost)\n",
    "    self.time_abrupt_change_1 = time_abrupt_change_1\n",
    "    self.time_abrupt_change_2 = time_abrupt_change_2\n",
    "    #n_phases = len(self.probabilities)\n",
    "    #self.phases_size = bids/n_phases\n",
    "  def pricing_round(self, pulled_price):\n",
    "    print(\"Error: Non-stationnary environment needs the time to know the conversion rates!\")\n",
    "    return float(\"NaN\")\n",
    "    \n",
    "  def pricing_round(self, pulled_price, time):\n",
    "    if time < self.time_abrupt_change_1:\n",
    "      reward_price = np.random.binomial(1,self.probabilities[0,pulled_price])\n",
    "    elif time < self.time_abrupt_change_2:\n",
    "      reward_price = np.random.binomial(1,self.probabilities[1,pulled_price])\n",
    "    else:\n",
    "      reward_price = np.random.binomial(1,self.probabilities[2,pulled_price])\n",
    "    return reward_price\n",
    "    "
   ]
  },
  {
   "cell_type": "markdown",
   "metadata": {
    "id": "fW9pW6tchPEF"
   },
   "source": [
    "## Pricing"
   ]
  },
  {
   "cell_type": "code",
   "execution_count": 5,
   "metadata": {
    "id": "hPp6DU0tQOR7"
   },
   "outputs": [],
   "source": [
    "class Learner:\n",
    "  def __init__(self,n_arms):\n",
    "    self.n_arms = n_arms\n",
    "    self.t = 0                                              # current round value\n",
    "    self.rewards_per_arm = x = [[] for i in range(n_arms)]  # value of collected rewards for each round and for each arm\n",
    "    self.collected_rewards = np.array([])                   # values of collected rewards for each round\n",
    "\n",
    "  # function that updates the observation's list once the reward is returned by the environment\n",
    "  def update_observations(self, pulled_arm, reward):\n",
    "    self.rewards_per_arm[pulled_arm].append(reward)\n",
    "    self.collected_rewards = np.append(self.collected_rewards,reward)"
   ]
  },
  {
   "cell_type": "code",
   "execution_count": 6,
   "metadata": {
    "id": "v5nNxh_aQPIN"
   },
   "outputs": [],
   "source": [
    "class TS_Pricing_Learner(Learner): # Thompson-Sampling (reward: number of conversions; actual_reward:  price*conversion_rate)\n",
    "  def __init__(self,n_arms,prices):\n",
    "    super().__init__(n_arms)                    # number of prices\n",
    "    self.beta_parameters = np.ones((n_arms,2))  # parameters of beta distributions\n",
    "    self.prices = prices                        # prices (array)\n",
    "\n",
    "    #self.empirical_means = np.zeros(n_arms)\n",
    "\n",
    "  def pull_arm(self):\n",
    "    if(self.t < self.n_arms):\n",
    "      return self.t\n",
    "    sampled = np.random.beta(self.beta_parameters[:,0],self.beta_parameters[:,1])*self.prices\n",
    "    idx = np.argmax(sampled)\n",
    "    #return idx, sampled[idx]\n",
    "    return idx\n",
    "\n",
    "  # update parameters each time a reward in {0,1} is observed\n",
    "  def update(self,pulled_arm, reward):\n",
    "    self.t += 1\n",
    "    self.update_observations(pulled_arm,reward*self.prices[pulled_arm])\n",
    "    self.beta_parameters[pulled_arm,0] = self.beta_parameters[pulled_arm,0] + reward\n",
    "    self.beta_parameters[pulled_arm,1] = self.beta_parameters[pulled_arm,1] + 1 - reward\n",
    "\n",
    "    #self.empirical_means[pulled_arm] = (self.empirical_means[pulled_arm]*(len(self.rewards_per_arm[pulled_arm]) - 1) + reward*self.prices[pulled_arm] ) / len(self.rewards_per_arm[pulled_arm])"
   ]
  },
  {
   "cell_type": "code",
   "execution_count": 7,
   "metadata": {
    "id": "NGm6gOXn5VQo"
   },
   "outputs": [],
   "source": [
    "class UCB_Pricing_Learner(Learner): # UCB1 (reward: number of conversions; actual_reward:  price*conversion_rate)\n",
    "  def __init__(self,n_arms, prices):\n",
    "    super().__init__(n_arms)                              # number of arms/prices\n",
    "    self.empirical_means = np.zeros(n_arms)               # mean reward for each arm (conversion rate)\n",
    "    self.confidence = np.zeros(n_arms)                    # confidence bound for each arm\n",
    "    self.prices = prices                                  # prices (array)\n",
    "\n",
    "  def pull_arm(self):\n",
    "    if(self.t < self.n_arms):\n",
    "      return self.t\n",
    "    upper_bound = self.empirical_means + self.confidence\n",
    "    pulled_arm = np.random.choice(np.where(upper_bound == upper_bound.max())[0])\n",
    "    #return pulled_arm, upper_bound[pulled_arm]\n",
    "    #return pulled_arm, self.empirical_means[pulled_arm]\n",
    "    return pulled_arm\n",
    "\n",
    "  def update(self, pulled_arm, reward):\n",
    "    self.t += 1\n",
    "    self.update_observations(pulled_arm, reward*self.prices[pulled_arm])\n",
    "    self.empirical_means[pulled_arm] = (self.empirical_means[pulled_arm]*(len(self.rewards_per_arm[pulled_arm]) - 1) + reward*self.prices[pulled_arm] ) / len(self.rewards_per_arm[pulled_arm])\n",
    "    for a in range(self.n_arms):\n",
    "      self.confidence[a] = self.prices[a]*np.sqrt(2*np.log(self.t)/len(self.rewards_per_arm[a])) if len(self.rewards_per_arm[a]) > 0 else 1e3"
   ]
  },
  {
   "cell_type": "code",
   "execution_count": 8,
   "metadata": {},
   "outputs": [],
   "source": [
    "class CUSUM_UCB_Matching(UCB_Pricing_Learner) :\n",
    "    def __init__(self, n_arms, prices, M=100, eps=0.05, h=20, alpha=0.1):\n",
    "        super().__init__(n_arms, prices)\n",
    "        self.change_detection = [CUSUM(M, eps, h) for _ in range (n_arms)]\n",
    "        self.valid_rewards_per_arm = [[] for _ in range (n_arms)]  #keeps all rewards that we have got after last CD\n",
    "        self.detections = [[] for _ in range (n_arms)] #time of detection per arm\n",
    "        self.alpha = alpha  #prob of taking a non optimal arm\n",
    "      \n",
    "    def pull_arm(self):\n",
    "        if np.random.binomial (1, 1-self.alpha):\n",
    "            upper_bound = self.empirical_means + self.confidence\n",
    "            upper_bound [np.isinf (upper_bound)] = 1e9 #avoiding inf case\n",
    "            pulled_arm = np.random.choice(np.where(upper_bound == upper_bound.max())[0])\n",
    "#             print(pulled_arm)\n",
    "            return pulled_arm\n",
    "        else:\n",
    "            pulled_arm = np.random.randint(0, self.n_arms)\n",
    "#             print(pulled_arm)\n",
    "            return pulled_arm\n",
    "        \n",
    "    def update(self, pulled_arm, reward):\n",
    "        self.t += 1\n",
    "        if self.change_detection[pulled_arm].update(reward):\n",
    "            print(\"change_detected at time:\")\n",
    "            print(self.t)\n",
    "            print(\"on arm:\")\n",
    "            print(pulled_arm)\n",
    "            self.detections[pulled_arm].append (self.t)\n",
    "            self.valid_rewards_per_arm[pulled_arm] =[]\n",
    "            self.change_detection[pulled_arm].reset()\n",
    "        self.update_observations(pulled_arm, reward*self.prices[pulled_arm])\n",
    "        self.empirical_means[pulled_arm] = np.mean(self.valid_rewards_per_arm[pulled_arm])\n",
    "        total_valid_samples = sum([len(x) for x in self.valid_rewards_per_arm]) \n",
    "        for a in range (self.n_arms):\n",
    "            n_samples = len(self.valid_rewards_per_arm[a])\n",
    "            self.confidence[a] = (2*np.log(total_valid_samples)/n_samples)**0.5 if n_samples > 0 else np.inf\n",
    "                                                            \n",
    "    def update_observations(self, pulled_arm, reward):\n",
    "        self.rewards_per_arm[pulled_arm].append(reward)\n",
    "        self.valid_rewards_per_arm [pulled_arm].append(reward)\n",
    "        self.collected_rewards = np.append(self.collected_rewards, reward)\n",
    "        \n",
    "    def total_numofchanges(self):\n",
    "        numchanges = 0\n",
    "        for i in range (self.n_arms):\n",
    "            numchanges += len(self.detections[i])\n",
    "        return numchanges"
   ]
  },
  {
   "cell_type": "markdown",
   "metadata": {
    "id": "zWucpWCHhTci"
   },
   "source": [
    "## Simulation"
   ]
  },
  {
   "cell_type": "code",
   "execution_count": 12,
   "metadata": {
    "id": "HHBYQJ68hKQT"
   },
   "outputs": [],
   "source": [
    "import matplotlib.pyplot as plt\n",
    "from tqdm import tqdm"
   ]
  },
  {
   "cell_type": "code",
   "execution_count": 13,
   "metadata": {
    "id": "lgiMX_uahrbZ"
   },
   "outputs": [],
   "source": [
    "# generic\n",
    "T = 365                                # horizon of experiment\n",
    "n_experiments = 100                    # since the reward functions are stochastic, to better visualize the results and remove the noise we do multiple experiments"
   ]
  },
  {
   "cell_type": "code",
   "execution_count": 14,
   "metadata": {
    "colab": {
     "base_uri": "https://localhost:8080/"
    },
    "id": "rp7Fw22Fha3F",
    "outputId": "a3a13d3f-bbf9-4e86-aaf6-75d4878386c8"
   },
   "outputs": [
    {
     "name": "stdout",
     "output_type": "stream",
     "text": [
      "Pricing (optimal price):\n",
      "Before change:\n",
      " idx: 3  price: 8  rate: 0.7  price*rate: 5.6\n",
      "After 1 change:\n",
      " idx: 0  price: 5  rate: 0.7  price*rate: 3.5\n",
      "After 2 changes:\n",
      " idx: 4  price: 9  rate: 0.7  price*rate: 6.3\n"
     ]
    }
   ],
   "source": [
    "# pricing\n",
    "n_prices = 5\n",
    "prices = [5,6,7,8,9]\n",
    "p = np.array([[0.,0.6,0.1,0.7,0.1],\n",
    "              [0.7,0.1,0.1,0.1,0.1],\n",
    "              [0.1,0.1,0.1,0.1,0.7]])             # bernoulli distributions for the reward functions\n",
    "\n",
    "time_abrupt_change_1 = 100\n",
    "time_abrupt_change_2 = 200\n",
    "opt_rate_0 = p[0, np.argmax(p[0,:]*prices)]                 # optimal arm\n",
    "opt_rate_1 = p[1, np.argmax(p[1,:]*prices)] \n",
    "opt_rate_2 = p[2, np.argmax(p[2,:]*prices)] \n",
    "print(\"Pricing (optimal price):\")\n",
    "print(\"Before change:\")\n",
    "print(\" idx: \" + str(np.argmax(p[0,:]*prices)) + \n",
    "      \"  price: \" + str(prices[np.argmax(p[0,:]*prices)]) + \n",
    "      \"  rate: \" + str(opt_rate_0) + \n",
    "      \"  price*rate: \" + str(opt_rate_0*prices[np.argmax(p[0,:]*prices)]))\n",
    "print(\"After 1 change:\")\n",
    "print(\" idx: \" + str(np.argmax(p[1,:]*prices)) + \n",
    "      \"  price: \" + str(prices[np.argmax(p[1,:]*prices)]) + \n",
    "      \"  rate: \" + str(opt_rate_1) + \n",
    "      \"  price*rate: \" + str(opt_rate_1*prices[np.argmax(p[1,:]*prices)]))\n",
    "print(\"After 2 changes:\")\n",
    "print(\" idx: \" + str(np.argmax(p[2,:]*prices)) + \n",
    "      \"  price: \" + str(prices[np.argmax(p[2,:]*prices)]) + \n",
    "      \"  rate: \" + str(opt_rate_2) + \n",
    "      \"  price*rate: \" + str(opt_rate_2*prices[np.argmax(p[2,:]*prices)]))"
   ]
  },
  {
   "cell_type": "code",
   "execution_count": 15,
   "metadata": {
    "colab": {
     "base_uri": "https://localhost:8080/",
     "height": 466
    },
    "id": "1mbnyMJJjqQ6",
    "outputId": "d7b7924b-8056-43a4-d542-051dbd7c4f70",
    "scrolled": true
   },
   "outputs": [
    {
     "data": {
      "text/plain": [
       "<matplotlib.lines.Line2D at 0x21b136ebd30>"
      ]
     },
     "execution_count": 15,
     "metadata": {},
     "output_type": "execute_result"
    },
    {
     "data": {
      "image/png": "[encoded data removed]",
      "text/plain": [
       "<Figure size 640x480 with 1 Axes>"
      ]
     },
     "metadata": {},
     "output_type": "display_data"
    }
   ],
   "source": [
    "# advertising\n",
    "n_bids = 100\n",
    "min_bid = 0.0\n",
    "max_bid = 1.0\n",
    "bids = np.linspace(min_bid, max_bid, n_bids)\n",
    "sigma_clicks = 3\n",
    "sigma_costs = 3\n",
    "def clicks(x):\n",
    "  return 100 * (1.0 - np.exp(-4*x+3*x**3))\n",
    "def costs(x):\n",
    "  return 70 * (1.0 - np.exp(-7*x))\n",
    "opt_bid_0 = bids[np.argmax(opt_rate_0*prices[np.argmax(p[0,:]*prices)]*clicks(bids)-costs(bids))]\n",
    "opt_bid_1 = bids[np.argmax(opt_rate_1*prices[np.argmax(p[1,:]*prices)]*clicks(bids)-costs(bids))]\n",
    "opt_bid_2 = bids[np.argmax(opt_rate_2*prices[np.argmax(p[2,:]*prices)]*clicks(bids)-costs(bids))]\n",
    "fig, ax = plt.subplots()\n",
    "ax.plot(bids,clicks(bids),'blue',bids,costs(bids),'orange')\n",
    "ax.legend([\"Number of clicks\", \"Cumulative Costs\"])\n",
    "ax.axvline(opt_bid_0,c='red')\n",
    "ax.axvline(opt_bid_1,c='green')\n",
    "ax.axvline(opt_bid_2,c='purple')\n",
    "# print(\"Advertising (optimal bid):\")\n",
    "# print(\"idx: \" + str(np.argmax(opt_rate*prices[np.argmax(p*prices)]*clicks(bids)-costs(bids))) + \"  bid: \" + str(opt_bid) + \"  clicks-costs: \" + str(clicks(opt_bid)-costs(opt_bid)))"
   ]
  },
  {
   "cell_type": "markdown",
   "metadata": {
    "id": "PXzvIoAO_7WR"
   },
   "source": [
    "## Known advertising"
   ]
  },
  {
   "cell_type": "code",
   "execution_count": 16,
   "metadata": {
    "colab": {
     "base_uri": "https://localhost:8080/"
    },
    "id": "YvOLQjxQtZ7Q",
    "outputId": "94f6e3cd-c321-494e-ae13-29f0248cbb70"
   },
   "outputs": [
    {
     "name": "stderr",
     "output_type": "stream",
     "text": [
      "\r",
      "  0%|          | 0/2 [00:00<?, ?it/s]"
     ]
    },
    {
     "name": "stdout",
     "output_type": "stream",
     "text": [
      "\n",
      "  0%|          | 0/50 [00:00<?, ?trial/s, best loss=?]\u001b[A\n",
      " 46%|████▌     | 23/50 [00:00<00:00, 214.66trial/s, best loss: -0.0]\u001b[A\n",
      "100%|██████████| 50/50 [00:00<00:00, 111.73trial/s, best loss: -0.0]\u001b[A\n",
      "change_detected at time:\n",
      "8314\n",
      "on arm:\n",
      "3\n",
      "change_detected at time:\n",
      "16521\n",
      "on arm:\n",
      "0\n"
     ]
    },
    {
     "name": "stderr",
     "output_type": "stream",
     "text": [
      "\r",
      " 50%|█████     | 1/2 [00:20<00:20, 20.88s/it]"
     ]
    },
    {
     "name": "stdout",
     "output_type": "stream",
     "text": [
      "\n",
      "  0%|          | 0/50 [00:00<?, ?trial/s, best loss=?]\u001b[A\n",
      " 50%|█████     | 25/50 [00:00<00:00, 248.46trial/s, best loss: -134024.67391094024]\u001b[A\n",
      "100%|██████████| 50/50 [00:00<00:00, 145.93trial/s, best loss: -134024.67391094024]\u001b[A\n",
      "change_detected at time:\n",
      "8306\n",
      "on arm:\n",
      "3\n",
      "change_detected at time:\n",
      "16519\n",
      "on arm:\n",
      "0\n"
     ]
    },
    {
     "name": "stderr",
     "output_type": "stream",
     "text": [
      "100%|██████████| 2/2 [00:41<00:00, 20.58s/it]\n"
     ]
    }
   ],
   "source": [
    "#variables for CUSUM algorithm\n",
    "from hyperopt import fmin, tpe, hp\n",
    "\n",
    "def objective(params):\n",
    "    M = int(params['M'])\n",
    "    eps = params['eps']\n",
    "    h = np.log(T*1000000)*params['h']\n",
    "    alpha = params['alpha']\n",
    "    \n",
    "    return -np.sum(cusum_rewards_per_experiment) \n",
    "    \n",
    "n_experiments = 2\n",
    "ts_rewards_per_experiment = []\n",
    "ucb_rewards_per_experiment = []\n",
    "cusum_rewards_per_experiment =[]\n",
    "\n",
    "cusum_numofchanges_per_experiment =[]\n",
    "\n",
    "#look at number of changes per arm; sum them up; print average \n",
    "\n",
    "for e in tqdm(range(0,n_experiments)):  # cycle on experiments\n",
    "  env = NonStationnary(n_arms = n_prices,\n",
    "                       probabilities = p,\n",
    "                       bids = bids,\n",
    "                       average_number_of_clicks = clicks,\n",
    "                       average_cum_daily_cost = costs,\n",
    "                       noise_clicks = sigma_clicks,\n",
    "                       noise_cost = sigma_costs,\n",
    "                       time_abrupt_change_1 = time_abrupt_change_1,\n",
    "                       time_abrupt_change_2 = time_abrupt_change_2)\n",
    "  ts_learner = TS_Pricing_Learner(n_arms = n_prices,\n",
    "                                       prices = prices)\n",
    "  ucb_learner = UCB_Pricing_Learner(n_arms = n_prices,\n",
    "                                    prices = prices)\n",
    "  \n",
    "  ts_collected_costs = np.array([])\n",
    "  ucb_collected_costs = np.array([])\n",
    "  cusum_collected_costs = np.array([])\n",
    "  ts_daily_pricing_reward = np.array([])\n",
    "  ucb_daily_pricing_reward = np.array([])\n",
    "  cusum_daily_pricing_reward = np.array([])\n",
    "    \n",
    "  # Define the search space for hyperparameters\n",
    "  space ={\n",
    "    'M': hp.quniform('M', 100, 2000, 1),       # Range: 100 to 2000 (integer values)\n",
    "    'eps': hp.uniform('eps', 0.01, 0.5),       # Range: 0.01 to 0.5\n",
    "    'h': hp.uniform('h', 0.5, 2.0),            # Range: 0.5 to 2.0\n",
    "    'alpha': hp.loguniform('alpha', -7, -2)     # Range: 0.001 to 0.01 (log scale)\n",
    "  }    \n",
    "  # Run the hyperparameter optimization to retrieve optimal variables for CUSUM algorithm\n",
    "  best = fmin(objective, space, algo=tpe.suggest, max_evals=50)\n",
    "  # Retrieve the best hyperparameters\n",
    "  best_M = int(best['M'])\n",
    "  best_eps = best['eps']\n",
    "  best_h = np.log(T*1000000)*best['h']\n",
    "  best_alpha = best['alpha']\n",
    " \n",
    "  M = best_M\n",
    "  eps = best_eps\n",
    "  h = best_h\n",
    "  alpha = best_alpha\n",
    "    \n",
    "  cusum_learner = CUSUM_UCB_Matching (n_arms = n_prices, prices = prices, M = best_M, eps=best_eps, h=best_h, alpha=best_alpha) \n",
    "    \n",
    "  for t in range(0,T):  # cycle on time horizon\n",
    "    # TS\n",
    "    pulled_bid = np.argmax(clicks(bids)-costs(bids))\n",
    "    reward_click, reward_cost = env.bidding_round(pulled_bid)\n",
    "    ts_collected_costs = np.append(ts_collected_costs, reward_cost)\n",
    "    for k in range(reward_click):\n",
    "      pulled_price = ts_learner.pull_arm()\n",
    "      reward_price = env.pricing_round(pulled_price, t)\n",
    "      ts_learner.update(pulled_price, reward_price)\n",
    "    ts_daily_pricing_reward = np.append(ts_daily_pricing_reward,(reward_click>0)*np.sum(ts_learner.collected_rewards[-reward_click:]))\n",
    "\n",
    "\n",
    "    # UCB\n",
    "    pulled_bid = np.argmax(clicks(bids)-costs(bids))\n",
    "    reward_click, reward_cost = env.bidding_round(pulled_bid)\n",
    "    ucb_collected_costs = np.append(ucb_collected_costs, reward_cost)\n",
    "    for k in range(reward_click):\n",
    "      pulled_price = ucb_learner.pull_arm()\n",
    "      reward_price = env.pricing_round(pulled_price, t)\n",
    "      ucb_learner.update(pulled_price, reward_price)\n",
    "    ucb_daily_pricing_reward = np.append(ucb_daily_pricing_reward,(reward_click>0)*np.sum(ucb_learner.collected_rewards[-reward_click:]))\n",
    "\n",
    "    # CUSUM\n",
    "    pulled_bid = np.argmax(clicks(bids)-costs(bids))\n",
    "    reward_click, reward_cost = env.bidding_round(pulled_bid)\n",
    "    cusum_collected_costs = np.append(cusum_collected_costs, reward_cost)\n",
    "    for k in range(reward_click):\n",
    "      pulled_price = cusum_learner.pull_arm()\n",
    "      reward_price = env.pricing_round(pulled_price, t)\n",
    "      cusum_learner.update(pulled_price, reward_price)\n",
    "    cusum_daily_pricing_reward = np.append(cusum_daily_pricing_reward,(reward_click>0)*np.sum(cusum_learner.collected_rewards[-reward_click:]))\n",
    "#     print(cusum_learner.collected_rewards[-reward_click:])\n",
    "    \n",
    "    \n",
    "  ts_rewards_per_experiment.append(ts_daily_pricing_reward - ts_collected_costs)\n",
    "  ucb_rewards_per_experiment.append(ucb_daily_pricing_reward - ucb_collected_costs)\n",
    "  cusum_rewards_per_experiment.append(cusum_daily_pricing_reward - cusum_collected_costs)\n",
    "#   print(cusum_daily_pricing_reward - cusum_collected_costs)\n",
    "\n",
    "  cusum_numofchanges_per_experiment.append(cusum_learner.total_numofchanges())"
   ]
  },
  {
   "cell_type": "code",
   "execution_count": 17,
   "metadata": {},
   "outputs": [
    {
     "data": {
      "text/plain": [
       "[2, 2]"
      ]
     },
     "execution_count": 17,
     "metadata": {},
     "output_type": "execute_result"
    }
   ],
   "source": [
    "cusum_numofchanges_per_experiment"
   ]
  },
  {
   "cell_type": "code",
   "execution_count": 18,
   "metadata": {},
   "outputs": [
    {
     "data": {
      "text/plain": [
       "(592, 0.37952509778026, 9.901582760472932, 0.004568418764725525)"
      ]
     },
     "execution_count": 18,
     "metadata": {},
     "output_type": "execute_result"
    }
   ],
   "source": [
    "#optimal parameters for CUSUM algorithm\n",
    "best_M, best_eps, best_h, best_alpha"
   ]
  },
  {
   "cell_type": "code",
   "execution_count": 17,
   "metadata": {},
   "outputs": [],
   "source": [
    "opt_0 = [opt_rate_0*prices[np.argmax(p[0,:]*prices)]*clicks(opt_bid_0) - costs(opt_bid_0) \n",
    "         for i in range(time_abrupt_change_1)]\n",
    "opt_1 = [opt_rate_1*prices[np.argmax(p[1,:]*prices)]*clicks(opt_bid_1) - costs(opt_bid_1) \n",
    "         for i in range(time_abrupt_change_2-time_abrupt_change_1)]\n",
    "opt_2 = [opt_rate_2*prices[np.argmax(p[2,:]*prices)]*clicks(opt_bid_2) - costs(opt_bid_2) \n",
    "         for i in range(T-time_abrupt_change_2)]\n",
    "opt = np.array(opt_0 + opt_1 + opt_2)"
   ]
  },
  {
   "cell_type": "code",
   "execution_count": 18,
   "metadata": {
    "colab": {
     "base_uri": "https://localhost:8080/",
     "height": 467
    },
    "id": "wH7emrj624DO",
    "outputId": "c721ff44-3a12-4990-9a07-9733ea0aba49"
   },
   "outputs": [
    {
     "data": {
      "text/plain": [
       "<matplotlib.legend.Legend at 0x7faf53400ca0>"
      ]
     },
     "execution_count": 18,
     "metadata": {},
     "output_type": "execute_result"
    },
    {
     "data": {
      "image/png": "[encoded data removed]",
      "text/plain": [
       "<Figure size 640x480 with 1 Axes>"
      ]
     },
     "metadata": {},
     "output_type": "display_data"
    }
   ],
   "source": [
    "plt.figure(0)\n",
    "plt.ylabel(\"Regret\")\n",
    "plt.xlabel(\"t\")\n",
    "plt.plot(np.cumsum(np.mean(opt - ts_rewards_per_experiment, axis = 0)), 'r')\n",
    "plt.plot(np.cumsum(np.mean(opt - ucb_rewards_per_experiment, axis = 0)), 'b')\n",
    "plt.plot(np.cumsum(np.mean(opt - cusum_rewards_per_experiment, axis = 0)), 'g')\n",
    "plt.legend([\"TS\", \"UCB\", \"CUSUM\"])"
   ]
  },
  {
   "cell_type": "code",
   "execution_count": null,
   "metadata": {},
   "outputs": [],
   "source": []
  }
 ],
 "metadata": {
  "colab": {
   "provenance": []
  },
  "kernelspec": {
   "display_name": "Python 3 (ipykernel)",
   "language": "python",
   "name": "python3"
  },
  "language_info": {
   "codemirror_mode": {
    "name": "ipython",
    "version": 3
   },
   "file_extension": ".py",
   "mimetype": "text/x-python",
   "name": "python",
   "nbconvert_exporter": "python",
   "pygments_lexer": "ipython3",
   "version": "3.9.17"
  }
 },
 "nbformat": 4,
 "nbformat_minor": 1
}
