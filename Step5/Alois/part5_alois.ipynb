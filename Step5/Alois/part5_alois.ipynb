{
 "cells": [
  {
   "cell_type": "code",
   "execution_count": 74,
   "metadata": {},
   "outputs": [],
   "source": [
    "import numpy as np\n",
    "import bisect"
   ]
  },
  {
   "cell_type": "markdown",
   "metadata": {},
   "source": [
    "## Non stationary Environment"
   ]
  },
  {
   "cell_type": "code",
   "execution_count": 75,
   "metadata": {},
   "outputs": [],
   "source": [
    "class Environment():\n",
    "\n",
    "  def __init__(self, n_arms, probabilities, bids, average_number_of_clicks, average_cum_daily_cost,noise_clicks,noise_cost):\n",
    "    self.n_arms = n_arms                                            # number of prices\n",
    "    self.probabilities = probabilities                              # conversion rates for every price/arm\n",
    "    self.bids = bids                                                # bids\n",
    "    self.average_number_of_clicks = average_number_of_clicks        # curve of average number of clicks (y = f(bids))\n",
    "    self.average_cum_daily_cost = average_cum_daily_cost            # curve of cumulative daily cost (y = g(bids))\n",
    "    self.noise_clicks = noise_clicks                                # gaussian noise for the average number of clicks sampling\n",
    "    self.noise_cost = noise_cost                                    # gaussian noise for the cumulative daily cost sampling\n",
    "\n",
    "  # daily rewards\n",
    "  def bidding_round(self, pulled_bid):\n",
    "    clicks = int(np.random.normal(self.average_number_of_clicks(self.bids[pulled_bid]),self.noise_clicks))        # number of people that click on the ad\n",
    "    reward_click = clicks if clicks >= 0 else 0\n",
    "    costs = np.random.normal(self.average_cum_daily_cost(self.bids[pulled_bid]),self.noise_cost)                  # cumulative daily cost\n",
    "    reward_cost = costs if costs > 0 else 0\n",
    "\n",
    "    return reward_click, reward_cost\n",
    "\n",
    "  def pricing_round(self, pulled_price):\n",
    "    reward_price = np.random.binomial(1,self.probabilities[pulled_price])                         # number of people that buy once they clicked\n",
    "    return reward_price"
   ]
  },
  {
   "cell_type": "code",
   "execution_count": 76,
   "metadata": {},
   "outputs": [],
   "source": [
    "class NonStationnary(Environment):\n",
    "  def __init__(self, n_arms, probabilities, bids, average_number_of_clicks, average_cum_daily_cost,noise_clicks,noise_cost,\n",
    "              time_abrupt_change_1, time_abrupt_change_2):\n",
    "    super().__init__(n_arms, probabilities, bids, average_number_of_clicks, average_cum_daily_cost,noise_clicks,noise_cost)\n",
    "    self.time_abrupt_change_1 = time_abrupt_change_1\n",
    "    self.time_abrupt_change_2 = time_abrupt_change_2\n",
    "    \n",
    "  def pricing_round(self, pulled_price):\n",
    "    print(\"Error: Non-stationnary environment needs the time to know the conversion rates!\")\n",
    "    return float(\"NaN\")\n",
    "    \n",
    "  def pricing_round(self, pulled_price, time):\n",
    "    if time < self.time_abrupt_change_1:\n",
    "      reward_price = np.random.binomial(1,self.probabilities[0,pulled_price])\n",
    "    elif time < self.time_abrupt_change_2:\n",
    "      reward_price = np.random.binomial(1,self.probabilities[1,pulled_price])\n",
    "    else:\n",
    "      reward_price = np.random.binomial(1,self.probabilities[2,pulled_price])\n",
    "    return reward_price\n",
    "    "
   ]
  },
  {
   "cell_type": "markdown",
   "metadata": {},
   "source": [
    "## Pricing "
   ]
  },
  {
   "cell_type": "code",
   "execution_count": 77,
   "metadata": {},
   "outputs": [],
   "source": [
    "class Learner:\n",
    "  def __init__(self,n_arms):\n",
    "    self.n_arms = n_arms\n",
    "    self.t = 0                                              # current round value\n",
    "    self.rewards_per_arm = x = [[] for i in range(n_arms)]  # value of collected rewards for each round and for each arm\n",
    "    self.collected_rewards = np.array([])                   # values of collected rewards for each round\n",
    "\n",
    "  # function that updates the observation's list once the reward is returned by the environment\n",
    "  def update_observations(self, pulled_arm, reward):\n",
    "    self.rewards_per_arm[pulled_arm].append(reward)\n",
    "    self.collected_rewards = np.append(self.collected_rewards,reward)"
   ]
  },
  {
   "cell_type": "code",
   "execution_count": 78,
   "metadata": {},
   "outputs": [],
   "source": [
    "class TS_Pricing_Learner(Learner): # Thompson-Sampling (reward: number of conversions; actual_reward:  price*conversion_rate)\n",
    "  def __init__(self,n_arms,prices):\n",
    "    super().__init__(n_arms)                    # number of prices\n",
    "    self.beta_parameters = np.ones((n_arms,2))  # parameters of beta distributions\n",
    "    self.prices = prices                        # prices (array)\n",
    "\n",
    "    #self.empirical_means = np.zeros(n_arms)\n",
    "\n",
    "  def pull_arm(self):\n",
    "    if(self.t < self.n_arms):\n",
    "      return self.t\n",
    "    sampled = np.random.beta(self.beta_parameters[:,0],self.beta_parameters[:,1])*self.prices\n",
    "    idx = np.argmax(sampled)\n",
    "    #return idx, sampled[idx]\n",
    "    return idx\n",
    "\n",
    "  # update parameters each time a reward in {0,1} is observed\n",
    "  def update(self,pulled_arm, reward):\n",
    "    self.t += 1\n",
    "    self.update_observations(pulled_arm,reward*self.prices[pulled_arm])\n",
    "    self.beta_parameters[pulled_arm,0] = self.beta_parameters[pulled_arm,0] + reward\n",
    "    self.beta_parameters[pulled_arm,1] = self.beta_parameters[pulled_arm,1] + 1 - reward\n",
    "\n",
    "    #self.empirical_means[pulled_arm] = (self.empirical_means[pulled_arm]*(len(self.rewards_per_arm[pulled_arm]) - 1) + reward*self.prices[pulled_arm] ) / len(self.rewards_per_arm[pulled_arm])"
   ]
  },
  {
   "cell_type": "code",
   "execution_count": 79,
   "metadata": {},
   "outputs": [],
   "source": [
    "class UCB_Pricing_Learner(Learner): # UCB1 (reward: number of conversions; actual_reward:  price*conversion_rate)\n",
    "  def __init__(self,n_arms,prices):\n",
    "    super().__init__(n_arms)                              # number of arms/prices\n",
    "    self.empirical_means = np.zeros(n_arms)               # mean reward for each arm (conversion rate)\n",
    "    self.confidence = np.zeros(n_arms)                    # confidence bound for each arm\n",
    "    self.prices = prices                                  # prices (array)\n",
    "\n",
    "  def pull_arm(self):\n",
    "    if(self.t < self.n_arms):\n",
    "      return self.t\n",
    "    upper_bound = self.empirical_means + self.confidence\n",
    "    pulled_arm = np.random.choice(np.where(upper_bound == upper_bound.max())[0])\n",
    "    return pulled_arm\n",
    "\n",
    "  def update(self, pulled_arm, reward):\n",
    "    self.t += 1\n",
    "    self.update_observations(pulled_arm, reward*self.prices[pulled_arm])\n",
    "    L = len(self.rewards_per_arm[pulled_arm])\n",
    "    self.empirical_means[pulled_arm] = (self.empirical_means[pulled_arm]*(L - 1) + reward*self.prices[pulled_arm] ) / L\n",
    "    for a in range(self.n_arms):\n",
    "      L = len(self.rewards_per_arm[a])\n",
    "      self.confidence[a] = self.prices[a]*np.sqrt(2*np.log(self.t)/L) if L > 0 else 1e3"
   ]
  },
  {
   "cell_type": "code",
   "execution_count": 80,
   "metadata": {},
   "outputs": [],
   "source": [
    "class SW_UCB_Pricing_Learner(Learner): # UCB1 (reward: number of conversions; actual_reward:  price*conversion_rate)\n",
    "  def __init__(self,n_arms,prices, tau=np.sqrt(1000*365)):\n",
    "    super().__init__(n_arms)                              # number of arms/prices\n",
    "    self.empirical_means = np.zeros(n_arms)               # mean reward for each arm (conversion rate)\n",
    "    self.confidence = np.zeros(n_arms)                    # confidence bound for each arm\n",
    "    self.prices = prices                                  # prices (array)\n",
    "    self.tau = tau                                        # parameter for the confidence bound\n",
    "    self.arm_window = []                                  # window of the last arms played\n",
    "    self.nb_w_samples_per_arm = [0 for _ in range(n_arms)] # number of samples in each arm window \n",
    "    self.last_reward_arm_out = -1                         # last arm that went out of the arm window\n",
    "  \n",
    "  def empirical_means_in_range(self, pulled_arm):\n",
    "    count = self.nb_w_samples_per_arm[pulled_arm]\n",
    "    if count == 0:\n",
    "      return 0\n",
    "    \n",
    "    return sum(self.rewards_per_arm[pulled_arm])/count\n",
    "\n",
    "  def pull_arm(self):\n",
    "    if(self.t < self.n_arms):\n",
    "      return self.t\n",
    "    \n",
    "    for a in range(self.n_arms):\n",
    "      if self.nb_w_samples_per_arm[a] == 0:\n",
    "        return a\n",
    "\n",
    "    upper_bound = self.empirical_means + self.confidence\n",
    "    pulled_arm = np.random.choice(np.where(upper_bound == upper_bound.max())[0])\n",
    "    return pulled_arm\n",
    "\n",
    "  def update_observations(self, pulled_arm, reward):\n",
    "    self.arm_window.append(pulled_arm)\n",
    "    self.rewards_per_arm[pulled_arm].append(reward)\n",
    "    self.nb_w_samples_per_arm[pulled_arm] += 1\n",
    "    if self.t > self.tau:\n",
    "      self.last_reward_arm_out = self.arm_window.pop(0)\n",
    "      self.rewards_per_arm[self.last_reward_arm_out].pop(0)\n",
    "      self.nb_w_samples_per_arm[self.last_reward_arm_out] -= 1\n",
    "    \n",
    "    self.collected_rewards = np.append(self.collected_rewards,reward)\n",
    "\n",
    "  def update(self, pulled_arm, reward):\n",
    "    self.t += 1\n",
    "    self.update_observations(pulled_arm, reward*self.prices[pulled_arm])\n",
    "    self.empirical_means[pulled_arm] = self.empirical_means_in_range(pulled_arm)\n",
    "    for a in range(self.n_arms):\n",
    "      nb_samples_t_1_tau = self.nb_w_samples_per_arm[a]\n",
    "      if (a == pulled_arm):\n",
    "        nb_samples_t_1_tau -= 1 \n",
    "      if (a == self.last_reward_arm_out):\n",
    "        nb_samples_t_1_tau += 1\n",
    "      self.confidence[a] = self.prices[a]*np.sqrt(2*np.log(self.t)/nb_samples_t_1_tau) if nb_samples_t_1_tau > 0 else 1e3"
   ]
  },
  {
   "cell_type": "markdown",
   "metadata": {},
   "source": [
    "## Simulation"
   ]
  },
  {
   "cell_type": "code",
   "execution_count": 81,
   "metadata": {},
   "outputs": [],
   "source": [
    "import matplotlib.pyplot as plt\n",
    "from tqdm import tqdm"
   ]
  },
  {
   "cell_type": "code",
   "execution_count": 82,
   "metadata": {},
   "outputs": [],
   "source": [
    "# generic\n",
    "T = 365                                # horizon of experiment\n",
    "n_experiments = 100                    # since the reward functions are stochastic, to better visualize the results and remove the noise we do multiple experiments"
   ]
  },
  {
   "cell_type": "code",
   "execution_count": 83,
   "metadata": {},
   "outputs": [
    {
     "name": "stdout",
     "output_type": "stream",
     "text": [
      "Pricing (optimal price):\n",
      "Before change:\n",
      " idx: 3  price: 8  rate: 0.35  price*rate: 2.8\n",
      "After 1 change:\n",
      " idx: 0  price: 5  rate: 0.5  price*rate: 2.5\n",
      "After 2 changes:\n",
      " idx: 4  price: 9  rate: 0.5  price*rate: 4.5\n"
     ]
    }
   ],
   "source": [
    "# pricing\n",
    "n_prices = 5\n",
    "prices = [5,6,7,8,9]\n",
    "p = np.array([[0.15,0.1,0.1,0.35,0.1],\n",
    "              [0.5,0.2,0.1,0.1,0.1],\n",
    "              [0.1,0.1,0.1,0.2,0.5]])             # bernoulli distributions for the reward functions\n",
    "\n",
    "time_abrupt_change_1 = 100\n",
    "time_abrupt_change_2 = 200\n",
    "opt_rate_0 = p[0, np.argmax(p[0,:]*prices)]                 # optimal arm\n",
    "opt_rate_1 = p[1, np.argmax(p[1,:]*prices)] \n",
    "opt_rate_2 = p[2, np.argmax(p[2,:]*prices)] \n",
    "print(\"Pricing (optimal price):\")\n",
    "print(\"Before change:\")\n",
    "print(\" idx: \" + str(np.argmax(p[0,:]*prices)) + \n",
    "      \"  price: \" + str(prices[np.argmax(p[0,:]*prices)]) + \n",
    "      \"  rate: \" + str(opt_rate_0) + \n",
    "      \"  price*rate: \" + str(opt_rate_0*prices[np.argmax(p[0,:]*prices)]))\n",
    "print(\"After 1 change:\")\n",
    "print(\" idx: \" + str(np.argmax(p[1,:]*prices)) + \n",
    "      \"  price: \" + str(prices[np.argmax(p[1,:]*prices)]) + \n",
    "      \"  rate: \" + str(opt_rate_1) + \n",
    "      \"  price*rate: \" + str(opt_rate_1*prices[np.argmax(p[1,:]*prices)]))\n",
    "print(\"After 2 changes:\")\n",
    "print(\" idx: \" + str(np.argmax(p[2,:]*prices)) + \n",
    "      \"  price: \" + str(prices[np.argmax(p[2,:]*prices)]) + \n",
    "      \"  rate: \" + str(opt_rate_2) + \n",
    "      \"  price*rate: \" + str(opt_rate_2*prices[np.argmax(p[2,:]*prices)]))"
   ]
  },
  {
   "cell_type": "code",
   "execution_count": 84,
   "metadata": {},
   "outputs": [
    {
     "data": {
      "text/plain": [
       "<matplotlib.lines.Line2D at 0x18fb0297dc0>"
      ]
     },
     "execution_count": 84,
     "metadata": {},
     "output_type": "execute_result"
    },
    {
     "data": {
      "image/png": "[encoded data removed]",
      "text/plain": [
       "<Figure size 640x480 with 1 Axes>"
      ]
     },
     "metadata": {},
     "output_type": "display_data"
    }
   ],
   "source": [
    "# advertising\n",
    "n_bids = 100\n",
    "min_bid = 0.0\n",
    "max_bid = 1.0\n",
    "bids = np.linspace(min_bid, max_bid, n_bids)\n",
    "sigma_clicks = 3\n",
    "sigma_costs = 3\n",
    "def clicks(x):\n",
    "  return 100 * (1.0 - np.exp(-4*x+3*x**3))\n",
    "def costs(x):\n",
    "  return 70 * (1.0 - np.exp(-7*x))\n",
    "opt_bid_0 = bids[np.argmax(opt_rate_0*prices[np.argmax(p[0,:]*prices)]*clicks(bids)-costs(bids))]\n",
    "opt_bid_1 = bids[np.argmax(opt_rate_1*prices[np.argmax(p[1,:]*prices)]*clicks(bids)-costs(bids))]\n",
    "opt_bid_2 = bids[np.argmax(opt_rate_2*prices[np.argmax(p[2,:]*prices)]*clicks(bids)-costs(bids))]\n",
    "fig, ax = plt.subplots()\n",
    "ax.plot(bids,clicks(bids),'blue',bids,costs(bids),'orange')\n",
    "ax.legend([\"Number of clicks\", \"Cumulative Costs\"])\n",
    "ax.axvline(opt_bid_0,c='red')\n",
    "ax.axvline(opt_bid_1,c='green')\n",
    "ax.axvline(opt_bid_2,c='purple')\n",
    "# print(\"Advertising (optimal bid):\")\n",
    "# print(\"idx: \" + str(np.argmax(opt_rate*prices[np.argmax(p*prices)]*clicks(bids)-costs(bids))) + \"  bid: \" + str(opt_bid) + \"  clicks-costs: \" + str(clicks(opt_bid)-costs(opt_bid)))"
   ]
  },
  {
   "cell_type": "markdown",
   "metadata": {},
   "source": [
    "## Known advertising"
   ]
  },
  {
   "cell_type": "markdown",
   "metadata": {},
   "source": [
    "We are looking for the best $\\tau$"
   ]
  },
  {
   "cell_type": "code",
   "execution_count": 85,
   "metadata": {},
   "outputs": [],
   "source": [
    "def generate_logarithmic_array(start, end, size):\n",
    "    x = np.linspace(0, 1, size)  # Generate a sequence of 20 points between 0 and 1\n",
    "    values = np.exp(x * np.log(end / start))  # Apply the logarithmic transformation\n",
    "    values = start + (end - start) * (values - np.min(values)) / (np.max(values) - np.min(values))  # Rescale the values between start and end\n",
    "    return values.astype(int)  # Convert the values to integers"
   ]
  },
  {
   "cell_type": "code",
   "execution_count": 86,
   "metadata": {},
   "outputs": [
    {
     "name": "stderr",
     "output_type": "stream",
     "text": [
      "100%|██████████| 10/10 [00:31<00:00,  3.19s/it]\n",
      " 20%|██        | 1/5 [00:31<02:07, 31.90s/it]"
     ]
    }
   ],
   "source": [
    "n_experiments = 10  #CHECK FOR DIFFERENT VALUES OF n_experiments\n",
    "taus = generate_logarithmic_array(500,200000,5) # FIND THE BEST TAU\n",
    "\n",
    "# sw_ucb_rewards_per_experiment_per_tau = np.empty((len(taus), n_experiments))\n",
    "sw_ucb_rewards_per_experiment_per_tau = []\n",
    "# print(sw_ucb_rewards_per_experiment_per_tau.shape)\n",
    "# print(sw_ucb_rewards_per_experiment_per_tau)\n",
    "\n",
    "#taus = [100000, 200000,300000]\n",
    "for tau in tqdm(taus):\n",
    "    sw_ucb_rewards_per_experiment = []\n",
    "    for e in tqdm(range(n_experiments)):\n",
    "        env = NonStationnary(n_arms = n_prices,\n",
    "                       probabilities = p,\n",
    "                       bids = bids,\n",
    "                       average_number_of_clicks = clicks,\n",
    "                       average_cum_daily_cost = costs,\n",
    "                       noise_clicks = sigma_clicks,\n",
    "                       noise_cost = sigma_costs,\n",
    "                       time_abrupt_change_1 = time_abrupt_change_1,\n",
    "                       time_abrupt_change_2 = time_abrupt_change_2)\n",
    "        ucb_learner = SW_UCB_Pricing_Learner(n_prices, prices, tau)\n",
    "\n",
    "        sw_ucb_collected_costs = np.array([])\n",
    "        sw_ucb_daily_pricing_reward = np.array([])\n",
    "        \n",
    "        for t in range(T):\n",
    "            pulled_bid = np.argmax(clicks(bids)-costs(bids))\n",
    "            reward_click, reward_cost = env.bidding_round(pulled_bid)\n",
    "            sw_ucb_collected_costs = np.append(sw_ucb_collected_costs, reward_cost)\n",
    "\n",
    "            for k in range(reward_click):\n",
    "                pulled_price = ucb_learner.pull_arm()\n",
    "                reward_price = env.pricing_round(pulled_price, t)\n",
    "                ucb_learner.update(pulled_price, reward_price)\n",
    "            sw_ucb_daily_pricing_reward = np.append(sw_ucb_daily_pricing_reward,(reward_click>0)*np.sum(ucb_learner.collected_rewards[-reward_click:]))\n",
    "\n",
    "        # print(\"Shape pricing:\")\n",
    "        # print(sw_ucb_daily_pricing_reward.shape)\n",
    "        # print(\"Shape costs:\")\n",
    "        # print(sw_ucb_collected_costs.shape)\n",
    "        sw_ucb_rewards_per_experiment.append(sw_ucb_daily_pricing_reward-sw_ucb_collected_costs)\n",
    "        # print(\"Shape rewards per experiment:\")\n",
    "        # print(sw_ucb_rewards_per_experiment.shape)\n",
    "    sw_ucb_rewards_per_experiment_per_tau.append(sw_ucb_rewards_per_experiment)"
   ]
  },
  {
   "cell_type": "code",
   "execution_count": null,
   "metadata": {},
   "outputs": [],
   "source": [
    "opt_0 = [opt_rate_0*prices[np.argmax(p[0,:]*prices)]*clicks(opt_bid_0) - costs(opt_bid_0) \n",
    "         for i in range(time_abrupt_change_1)]\n",
    "opt_1 = [opt_rate_1*prices[np.argmax(p[1,:]*prices)]*clicks(opt_bid_1) - costs(opt_bid_1) \n",
    "         for i in range(time_abrupt_change_2-time_abrupt_change_1)]\n",
    "opt_2 = [opt_rate_2*prices[np.argmax(p[2,:]*prices)]*clicks(opt_bid_2) - costs(opt_bid_2) \n",
    "         for i in range(T-time_abrupt_change_2)]\n",
    "opt = np.array(opt_0 + opt_1 + opt_2)"
   ]
  },
  {
   "cell_type": "code",
   "execution_count": null,
   "metadata": {},
   "outputs": [],
   "source": [
    "#sw_ucb_rewards_per_experiment_per_tau.shape"
   ]
  },
  {
   "cell_type": "code",
   "execution_count": null,
   "metadata": {},
   "outputs": [],
   "source": [
    "#sw_rewards_per_tau = [[sw_ucb_rewards_per_experiment_per_tau[j] for j in range(365*i,365+i*365)]for i in range(0,20)]\n",
    "#len(sw_rewards_per_tau)"
   ]
  },
  {
   "cell_type": "code",
   "execution_count": null,
   "metadata": {},
   "outputs": [],
   "source": [
    "#len(sw_rewards_per_tau[19])"
   ]
  },
  {
   "cell_type": "code",
   "execution_count": null,
   "metadata": {},
   "outputs": [
    {
     "data": {
      "text/plain": [
       "365"
      ]
     },
     "execution_count": 69,
     "metadata": {},
     "output_type": "execute_result"
    }
   ],
   "source": [
    "len(opt)"
   ]
  },
  {
   "cell_type": "code",
   "execution_count": null,
   "metadata": {},
   "outputs": [
    {
     "data": {
      "text/plain": [
       "<matplotlib.legend.Legend at 0x18fb043bf70>"
      ]
     },
     "execution_count": 70,
     "metadata": {},
     "output_type": "execute_result"
    },
    {
     "data": {
      "image/png": "[encoded data removed]",
      "text/plain": [
       "<Figure size 640x480 with 1 Axes>"
      ]
     },
     "metadata": {},
     "output_type": "display_data"
    }
   ],
   "source": [
    "plt.figure(0)\n",
    "plt.ylabel(\"Regret\")\n",
    "plt.xlabel(\"t\")\n",
    "min = -1\n",
    "min_ind = -1\n",
    "for i in range(0, len(taus)):\n",
    "    cumsum = np.cumsum(np.mean(opt - sw_ucb_rewards_per_experiment_per_tau[i], axis=0))\n",
    "    if min > cumsum[-1] or min==-1:\n",
    "        min = cumsum[-1]\n",
    "        min_ind = i\n",
    "    plt.plot(cumsum)\n",
    "plt.legend([\"SW UCB tau = \" + str(taus[i]) for i in range(0, len(taus))], bbox_to_anchor=(1.05, 1), loc='upper left')"
   ]
  },
  {
   "cell_type": "code",
   "execution_count": null,
   "metadata": {},
   "outputs": [
    {
     "name": "stdout",
     "output_type": "stream",
     "text": [
      "SW UCB tau = 200000\n"
     ]
    }
   ],
   "source": [
    "print(\"SW UCB tau = \" + str(taus[min_ind]))"
   ]
  },
  {
   "cell_type": "code",
   "execution_count": null,
   "metadata": {},
   "outputs": [
    {
     "name": "stderr",
     "output_type": "stream",
     "text": [
      "  0%|          | 0/10 [00:00<?, ?it/s]"
     ]
    },
    {
     "name": "stdout",
     "output_type": "stream",
     "text": [
      "303272\n"
     ]
    },
    {
     "name": "stderr",
     "output_type": "stream",
     "text": [
      " 10%|█         | 1/10 [00:10<01:35, 10.63s/it]"
     ]
    },
    {
     "name": "stdout",
     "output_type": "stream",
     "text": [
      "303272\n"
     ]
    },
    {
     "name": "stderr",
     "output_type": "stream",
     "text": [
      " 20%|██        | 2/10 [00:21<01:25, 10.66s/it]"
     ]
    },
    {
     "name": "stdout",
     "output_type": "stream",
     "text": [
      "303272\n"
     ]
    },
    {
     "name": "stderr",
     "output_type": "stream",
     "text": [
      " 30%|███       | 3/10 [00:32<01:15, 10.73s/it]"
     ]
    },
    {
     "name": "stdout",
     "output_type": "stream",
     "text": [
      "303272\n"
     ]
    },
    {
     "name": "stderr",
     "output_type": "stream",
     "text": [
      " 40%|████      | 4/10 [00:42<01:04, 10.71s/it]"
     ]
    },
    {
     "name": "stdout",
     "output_type": "stream",
     "text": [
      "303272\n"
     ]
    },
    {
     "name": "stderr",
     "output_type": "stream",
     "text": [
      " 50%|█████     | 5/10 [00:53<00:53, 10.75s/it]"
     ]
    },
    {
     "name": "stdout",
     "output_type": "stream",
     "text": [
      "303272\n"
     ]
    },
    {
     "name": "stderr",
     "output_type": "stream",
     "text": [
      " 60%|██████    | 6/10 [01:04<00:43, 10.87s/it]"
     ]
    },
    {
     "name": "stdout",
     "output_type": "stream",
     "text": [
      "303272\n"
     ]
    },
    {
     "name": "stderr",
     "output_type": "stream",
     "text": [
      " 70%|███████   | 7/10 [01:15<00:32, 10.83s/it]"
     ]
    },
    {
     "name": "stdout",
     "output_type": "stream",
     "text": [
      "303272\n"
     ]
    },
    {
     "name": "stderr",
     "output_type": "stream",
     "text": [
      " 80%|████████  | 8/10 [01:26<00:21, 10.77s/it]"
     ]
    },
    {
     "name": "stdout",
     "output_type": "stream",
     "text": [
      "303272\n"
     ]
    },
    {
     "name": "stderr",
     "output_type": "stream",
     "text": [
      " 90%|█████████ | 9/10 [01:36<00:10, 10.78s/it]"
     ]
    },
    {
     "name": "stdout",
     "output_type": "stream",
     "text": [
      "303272\n"
     ]
    },
    {
     "name": "stderr",
     "output_type": "stream",
     "text": [
      "100%|██████████| 10/10 [01:47<00:00, 10.76s/it]"
     ]
    },
    {
     "name": "stdout",
     "output_type": "stream",
     "text": [
      "305103\n"
     ]
    },
    {
     "name": "stderr",
     "output_type": "stream",
     "text": [
      "\n"
     ]
    }
   ],
   "source": [
    "# experiments\n",
    "n_experiments = 10\n",
    "ts_rewards_per_experiment = []\n",
    "ucb_rewards_per_experiment = []\n",
    "sw_ucb_rewards_per_experiment = []\n",
    "count_time_horizon = 0\n",
    "\n",
    "for e in tqdm(range(0,n_experiments)):  # cycle on experiments\n",
    "  env = NonStationnary(n_arms = n_prices,\n",
    "                       probabilities = p,\n",
    "                       bids = bids,\n",
    "                       average_number_of_clicks = clicks,\n",
    "                       average_cum_daily_cost = costs,\n",
    "                       noise_clicks = sigma_clicks,\n",
    "                       noise_cost = sigma_costs,\n",
    "                       time_abrupt_change_1 = time_abrupt_change_1,\n",
    "                       time_abrupt_change_2 = time_abrupt_change_2)\n",
    "  ts_learner = TS_Pricing_Learner(n_arms = n_prices,\n",
    "                                       prices = prices)\n",
    "  ucb_learner = UCB_Pricing_Learner(n_arms = n_prices,\n",
    "                                    prices = prices)\n",
    "  # We play the best tau\n",
    "  #tau = taus[min_ind]\n",
    "  tau =  int((clicks(opt_bid_0) * T * n_experiments))\n",
    "  print(tau) \n",
    "\n",
    "  sw_learner = SW_UCB_Pricing_Learner(n_arms = n_prices, prices=prices, tau=tau)\n",
    "\n",
    "\n",
    "  ts_collected_costs = np.array([])\n",
    "  ucb_collected_costs = np.array([])\n",
    "  ts_daily_pricing_reward = np.array([])\n",
    "  ucb_daily_pricing_reward = np.array([])\n",
    "  sw_ucb_collected_costs = np.array([])\n",
    "  sw_ucb_daily_pricing_reward = np.array([])\n",
    "\n",
    "  for t in range(0,T):  # cycle on time horizon\n",
    "\n",
    "    # TS\n",
    "    pulled_bid = np.argmax(clicks(bids)-costs(bids))\n",
    "    reward_click, reward_cost = env.bidding_round(pulled_bid)\n",
    "    ts_collected_costs = np.append(ts_collected_costs, reward_cost)\n",
    "    for k in range(reward_click):\n",
    "      pulled_price = ts_learner.pull_arm()\n",
    "      reward_price = env.pricing_round(pulled_price, t)\n",
    "      ts_learner.update(pulled_price, reward_price)\n",
    "    ts_daily_pricing_reward = np.append(ts_daily_pricing_reward,(reward_click>0)*np.sum(ts_learner.collected_rewards[-reward_click:]))\n",
    "\n",
    "\n",
    "    # UCB\n",
    "    pulled_bid = np.argmax(clicks(bids)-costs(bids))\n",
    "    reward_click, reward_cost = env.bidding_round(pulled_bid)\n",
    "    ucb_collected_costs = np.append(ucb_collected_costs, reward_cost)\n",
    "    for k in range(reward_click):\n",
    "      pulled_price = ucb_learner.pull_arm()\n",
    "      reward_price = env.pricing_round(pulled_price, t)\n",
    "      ucb_learner.update(pulled_price, reward_price)\n",
    "    ucb_daily_pricing_reward = np.append(ucb_daily_pricing_reward,(reward_click>0)*np.sum(ucb_learner.collected_rewards[-reward_click:]))\n",
    "\n",
    "    # SW UCB\n",
    "    pulled_bid = np.argmax(clicks(bids)-costs(bids))\n",
    "    reward_click, reward_cost = env.bidding_round(pulled_bid)\n",
    "    sw_ucb_collected_costs = np.append(sw_ucb_collected_costs, reward_cost)\n",
    "    for k in range(reward_click):\n",
    "      count_time_horizon += 1\n",
    "      pulled_price = sw_learner.pull_arm()\n",
    "      reward_price = env.pricing_round(pulled_price, t)\n",
    "      sw_learner.update(pulled_price, reward_price)\n",
    "    sw_ucb_daily_pricing_reward = np.append(sw_ucb_daily_pricing_reward,(reward_click>0)*np.sum(sw_learner.collected_rewards[-reward_click:]))\n",
    "    count_time_horizon += 1\n",
    "  count_time_horizon += 1\n",
    "  ts_rewards_per_experiment.append(ts_daily_pricing_reward - ts_collected_costs)\n",
    "  ucb_rewards_per_experiment.append(ucb_daily_pricing_reward - ucb_collected_costs)\n",
    "  sw_ucb_rewards_per_experiment.append(sw_ucb_daily_pricing_reward - sw_ucb_collected_costs)\n",
    "print(count_time_horizon)"
   ]
  },
  {
   "cell_type": "code",
   "execution_count": null,
   "metadata": {},
   "outputs": [
    {
     "data": {
      "text/plain": [
       "<matplotlib.legend.Legend at 0x18fb0475f40>"
      ]
     },
     "execution_count": 73,
     "metadata": {},
     "output_type": "execute_result"
    },
    {
     "data": {
      "image/png": "[encoded data removed]",
      "text/plain": [
       "<Figure size 640x480 with 1 Axes>"
      ]
     },
     "metadata": {},
     "output_type": "display_data"
    }
   ],
   "source": [
    "plt.figure(0)\n",
    "plt.ylabel(\"Regret\")\n",
    "plt.xlabel(\"t\")\n",
    "plt.plot(np.cumsum(np.mean(opt - ts_rewards_per_experiment, axis = 0)), 'r')\n",
    "plt.plot(np.cumsum(np.mean(opt - ucb_rewards_per_experiment, axis = 0)), 'b')\n",
    "plt.plot(np.cumsum(np.mean(opt - sw_ucb_rewards_per_experiment, axis = 0)), 'g')\n",
    "plt.legend([\"TS\", \"UCB\", \"SW\"])"
   ]
  }
 ],
 "metadata": {
  "kernelspec": {
   "display_name": "Python 3 (ipykernel)",
   "language": "python",
   "name": "python3"
  },
  "language_info": {
   "codemirror_mode": {
    "name": "ipython",
    "version": 3
   },
   "file_extension": ".py",
   "mimetype": "text/x-python",
   "name": "python",
   "nbconvert_exporter": "python",
   "pygments_lexer": "ipython3",
   "version": "3.9.5"
  }
 },
 "nbformat": 4,
 "nbformat_minor": 2
}
