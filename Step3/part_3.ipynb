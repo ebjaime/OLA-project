{
 "cells": [
  {
   "cell_type": "markdown",
   "metadata": {
    "id": "Dj0OURPH3o7v"
   },
   "source": [
    "## Environment"
   ]
  },
  {
   "cell_type": "code",
   "execution_count": 69,
   "metadata": {
    "id": "B-I42SsV3rAd"
   },
   "outputs": [],
   "source": [
    "import numpy as np"
   ]
  },
  {
   "cell_type": "code",
   "execution_count": 70,
   "metadata": {
    "id": "KHKMI86i3skQ"
   },
   "outputs": [],
   "source": [
    "class Environment():\n",
    "\n",
    "  def __init__(self, n_arms, probabilities, bids, average_number_of_clicks, average_cum_daily_cost,noise_clicks,noise_cost):\n",
    "    self.n_arms = n_arms                                            # number of prices\n",
    "    self.probabilities = probabilities                              # conversion rates for every price/arm\n",
    "    self.bids = bids                                                # bids\n",
    "    self.average_number_of_clicks = average_number_of_clicks        # curve of average number of clicks (y = f(bids))\n",
    "    self.average_cum_daily_cost = average_cum_daily_cost            # curve of cumulative daily cost (y = g(bids))\n",
    "    self.noise_clicks = noise_clicks                                # gaussian noise for the average number of clicks sampling\n",
    "    self.noise_cost = noise_cost                                    # gaussian noise for the cumulative daily cost sampling\n",
    "\n",
    "  # daily rewards\n",
    "  def round(self, pulled_price, pulled_bid):\n",
    "    clicks = int(np.random.normal(self.average_number_of_clicks(self.bids[pulled_bid]),self.noise_clicks))        # number of people that click on the ad\n",
    "    reward_click = clicks if clicks >= 0 else 0\n",
    "    reward_price = np.random.binomial(reward_click,self.probabilities[pulled_price])                         # number of people that buy once they clicked\n",
    "    costs = np.random.normal(self.average_cum_daily_cost(self.bids[pulled_bid]),self.noise_cost)                  # cumulative daily cost\n",
    "    reward_cost = costs if costs > 0 else 0\n",
    "\n",
    "    return reward_price, reward_click, reward_cost"
   ]
  },
  {
   "cell_type": "markdown",
   "metadata": {
    "id": "fW9pW6tchPEF"
   },
   "source": [
    "## Pricing"
   ]
  },
  {
   "cell_type": "code",
   "execution_count": 71,
   "metadata": {
    "id": "hPp6DU0tQOR7"
   },
   "outputs": [],
   "source": [
    "class Learner:\n",
    "  def __init__(self,n_arms):\n",
    "    self.n_arms = n_arms\n",
    "    self.t = 0                                              # current round value\n",
    "    self.rewards_per_arm = x = [[] for i in range(n_arms)]  # value of collected rewards for each round and for each arm\n",
    "    self.collected_rewards = np.array([])                   # values of collected rewards for each round\n",
    "\n",
    "  # function that updates the observation's list once the reward is returned by the environment\n",
    "  def update_observations(self, pulled_arm, reward):\n",
    "    self.rewards_per_arm[pulled_arm].append(reward)\n",
    "    self.collected_rewards = np.append(self.collected_rewards,reward)"
   ]
  },
  {
   "cell_type": "code",
   "execution_count": 72,
   "metadata": {
    "id": "Mb-1Z4p3gDnS"
   },
   "outputs": [],
   "source": [
    "class TS_Pricing_Learner(Learner): # Thompson-Sampling (reward: number of conversions; actual_reward:  price*conversion_rate)\n",
    "  def __init__(self,n_arms,prices):\n",
    "    super().__init__(n_arms)                    # number of prices\n",
    "    self.beta_parameters = np.ones((n_arms,2))  # parameters of beta distributions\n",
    "    self.prices = prices                        # prices (array)\n",
    "    self.actual_reward = np.array([])           # storage of price*conversion_rate \n",
    "\n",
    "  def pull_arm(self):\n",
    "    if(self.t < self.n_arms):\n",
    "      return self.t, 1\n",
    "    sampled = np.random.beta(self.beta_parameters[:,0],self.beta_parameters[:,1])*self.prices\n",
    "    idx = np.argmax(sampled)\n",
    "    return idx, sampled[idx]\n",
    "\n",
    "  # update parameters each time a reward (# of people that buy) is observed\n",
    "  def update(self,pulled_arm, reward, n_clicks):\n",
    "    self.t += 1\n",
    "    self.update_observations(pulled_arm,reward)\n",
    "    self.actual_reward = np.append(self.actual_reward, reward/n_clicks * self.prices[pulled_arm]) if n_clicks > 0 else np.append(self.actual_reward, 0.)\n",
    "    self.beta_parameters[pulled_arm,0] = self.beta_parameters[pulled_arm,0] + reward\n",
    "    self.beta_parameters[pulled_arm,1] = self.beta_parameters[pulled_arm,1] + n_clicks - reward"
   ]
  },
  {
   "cell_type": "code",
   "execution_count": 73,
   "metadata": {},
   "outputs": [],
   "source": [
    "class UCB_Pricing_Learner(Learner): # UCB1 (reward: number of conversions; actual_reward:  price*conversion_rate)\n",
    "  def __init__(self,n_arms,prices):\n",
    "    super().__init__(n_arms)                              # number of arms/prices\n",
    "    self.empirical_means = np.zeros(n_arms)               # mean reward for each arm (conversion rate)\n",
    "    self.confidence = np.zeros(n_arms)                    # confidence bound for each arm\n",
    "    self.prices = prices                                  # prices (array)\n",
    "    self.n_clicks_per_arm = [[0] for i in range(n_arms)]  # number of total clicks for arm\n",
    "    self.tot_n_clicks = 0                                 # cumulative number of clicks/rounds\n",
    "    self.actual_reward = np.array([])                     # storage of price*conversion rate \n",
    "\n",
    "  def pull_arm(self):\n",
    "    if(self.t < self.n_arms):\n",
    "      return self.t, 1\n",
    "    upper_bound = self.empirical_means + self.confidence\n",
    "    pulled_arm = np.random.choice(np.where(upper_bound == upper_bound.max())[0])\n",
    "    return pulled_arm, upper_bound[pulled_arm]\n",
    "\n",
    "  def update(self, pulled_arm, reward, n_clicks):\n",
    "    self.t += 1\n",
    "    self.tot_n_clicks += n_clicks\n",
    "    self.collected_rewards = np.append(self.collected_rewards, reward)\n",
    "    self.empirical_means[pulled_arm] = (self.empirical_means[pulled_arm]* np.sum(self.n_clicks_per_arm[pulled_arm]) + reward*self.prices[pulled_arm] ) / (np.sum(self.n_clicks_per_arm[pulled_arm]) + n_clicks) if (np.sum(self.n_clicks_per_arm[pulled_arm]) + n_clicks) > 0 else 0\n",
    "    self.confidence[pulled_arm] = self.prices[pulled_arm]*np.sqrt(2*np.log(self.tot_n_clicks)/(np.sum(self.n_clicks_per_arm[pulled_arm]) + n_clicks)) if (np.sum(self.n_clicks_per_arm[pulled_arm]) + n_clicks) > 0 else 0\n",
    "    self.n_clicks_per_arm[pulled_arm].append(n_clicks)\n",
    "    self.actual_reward = np.append(self.actual_reward, reward/n_clicks * self.prices[pulled_arm]) if n_clicks > 0 else np.append(self.actual_reward, 0.)\n",
    "    self.update_observations(pulled_arm, reward)"
   ]
  },
  {
   "cell_type": "markdown",
   "metadata": {
    "id": "SFRb1XPhhRS7"
   },
   "source": [
    "## Advertising"
   ]
  },
  {
   "cell_type": "code",
   "execution_count": 74,
   "metadata": {
    "id": "gQgsfPw5K8S7"
   },
   "outputs": [],
   "source": [
    "from sklearn.gaussian_process import GaussianProcessRegressor\n",
    "from sklearn.gaussian_process.kernels import RBF, ConstantKernel as C"
   ]
  },
  {
   "cell_type": "code",
   "execution_count": 75,
   "metadata": {
    "id": "fhgjXE0RGDo0"
   },
   "outputs": [],
   "source": [
    "class GPTS_Learner(Learner):\n",
    "  # constructor takes as input the number arms (bids), intializes to 0 their means and to an aye their standard deviation; we also need to store the arm that we pull at each round to fot the GPs\n",
    "  def __init__(self, n_arms, arms):\n",
    "    super().__init__(n_arms)\n",
    "    self.arms = arms\n",
    "    self.means_clicks = np.zeros(self.n_arms)\n",
    "    self.means_costs = np.zeros(self.n_arms)\n",
    "    self.sigmas_clicks = np.ones(self.n_arms) * 10\n",
    "    self.sigmas_costs = np.ones(self.n_arms) * 10\n",
    "    self.pulled_arms = []\n",
    "    self.collected_clicks = np.array([])\n",
    "    self.collected_costs = np.array([])\n",
    "    # we initialize the parameters of the kernel and the two GPs\n",
    "    alpha_clicks = 10  # standard deviation of the noise\n",
    "    alpha_costs = 10   # standard deviation of the noise\n",
    "    kernel_clicks = C(1.0, constant_value_bounds = 'fixed') * RBF(1.0, length_scale_bounds = 'fixed') # kernel (squared exponential) with the range of the parameters\n",
    "    kernel_costs = C(1.0, constant_value_bounds = 'fixed') * RBF(1.0, length_scale_bounds = 'fixed')  # kernel (squared exponential) with the range of the parameters\n",
    "    self.gp_clicks = GaussianProcessRegressor(kernel = kernel_clicks, alpha = alpha_clicks**2)  # (normalize_y = True)\n",
    "    self.gp_costs = GaussianProcessRegressor(kernel = kernel_costs, alpha = alpha_costs**2)     # (normalize_y = True)\n",
    "\n",
    "  # we also need to update the value of the least pulled arm (reward[0]: n_clicks, reward[1]: costs)\n",
    "  def update_observations(self, arm_idx, reward):\n",
    "    super().update_observations(arm_idx, reward)\n",
    "    self.pulled_arms.append(self.arms[arm_idx])\n",
    "\n",
    "  # update the GP estimations and consequently the means and sigmas of each arm\n",
    "  def update_model(self):\n",
    "    # trining inputs and targets\n",
    "    #if not(self.t % 10):\n",
    "    x = np.atleast_2d(self.pulled_arms).T\n",
    "    ind_clicks = [(2*i) for i in range(int(len(self.collected_rewards)/2)) ]\n",
    "    ind_costs = [(2*i+1) for i in range(int(len(self.collected_rewards)/2)) ]\n",
    "    y_clicks = self.collected_rewards[ind_clicks]\n",
    "    y_costs = self.collected_rewards[ind_costs]\n",
    "    # fit the GP\n",
    "    if len(y_clicks) > 1: \n",
    "      self.gp_clicks.fit(x,y_clicks)\n",
    "      self.gp_costs.fit(x,y_costs)\n",
    "      # update values of means and sigmas with the new predictions\n",
    "      self.means_clicks, self.sigmas_clicks = self.gp_clicks.predict(np.atleast_2d(self.arms).T, return_std = True)\n",
    "      self.means_costs, self.sigmas_costs = self.gp_costs.predict(np.atleast_2d(self.arms).T, return_std = True)\n",
    "      self.sigmas_clicks = np.maximum(self.sigmas_clicks, 1e-2)  # force sigmas > 0\n",
    "      self.sigmas_costs = np.maximum(self.sigmas_costs, 1e-2)  # force sigmas > 0\n",
    "\n",
    "  # functions that calls the functions implemented above (reward[0]: n_clicks, reward[1]: costs)\n",
    "  def update(self, pulled_arm, reward):\n",
    "    self.t += 1\n",
    "    self.update_observations(pulled_arm, reward)\n",
    "    self.collected_clicks = np.append(self.collected_clicks,reward[0])\n",
    "    self.collected_costs = np.append(self.collected_costs,reward[1])\n",
    "    self.update_model()\n",
    "\n",
    "  # function in which the learner chooses the arm to pull at each round\n",
    "  def pull_arm(self, opt_ratexprice):\n",
    "    # returns index of the maximum value drawn from the arm normal distribution\n",
    "    sampled_clicks = np.random.normal(self.means_clicks, self.sigmas_clicks)\n",
    "    sampled_costs = np.random.normal(self.means_costs, self.sigmas_costs)\n",
    "    return np.argmax(opt_ratexprice*sampled_clicks - sampled_costs)"
   ]
  },
  {
   "cell_type": "code",
   "execution_count": 76,
   "metadata": {
    "id": "bVKv83N_bqna"
   },
   "outputs": [],
   "source": [
    "class GPUCB_Learner(Learner):\n",
    "  # constructor takes as input the number arms (bids), intializes to 0 their means and to an aye their standard deviation; we also need to store the arm that we pull at each round to fot the GPs\n",
    "  def __init__(self, n_arms, arms):\n",
    "    super().__init__(n_arms)\n",
    "    self.arms = arms\n",
    "    self.means_clicks = np.zeros(self.n_arms)\n",
    "    self.means_costs = np.zeros(self.n_arms)\n",
    "    self.sigmas_clicks = np.ones(self.n_arms) * 10\n",
    "    self.sigmas_costs = np.ones(self.n_arms) * 10\n",
    "    self.pulled_arms = []\n",
    "    self.collected_clicks = np.array([])\n",
    "    self.collected_costs = np.array([])\n",
    "    # we initialize the parameters of the kernel and the two GPs\n",
    "    alpha_clicks = 10  # standard deviation of the noise\n",
    "    alpha_costs = 10   # standard deviation of the noise\n",
    "    kernel_clicks = C(1.0, constant_value_bounds = 'fixed') * RBF(1.0, length_scale_bounds = 'fixed') # kernel (squared exponential) with the range of the parameters\n",
    "    kernel_costs = C(1.0, constant_value_bounds = 'fixed') * RBF(1.0, length_scale_bounds = 'fixed')  # kernel (squared exponential) with the range of the parameters\n",
    "    self.gp_clicks = GaussianProcessRegressor(kernel = kernel_clicks, alpha = alpha_clicks**2)  # (normalize_y = True)\n",
    "    self.gp_costs = GaussianProcessRegressor(kernel = kernel_costs, alpha = alpha_costs**2)     # (normalize_y = True)\n",
    "\n",
    "  # we also need to update the value of the least pulled arm (reward[0]: n_clicks, reward[1]: costs)\n",
    "  def update_observations(self, arm_idx, reward):\n",
    "    super().update_observations(arm_idx, reward)\n",
    "    self.pulled_arms.append(self.arms[arm_idx])\n",
    "\n",
    "  # update the GP estimations and consequently the means and sigmas of each arm\n",
    "  def update_model(self):\n",
    "    # trining inputs and targets\n",
    "    #if not(self.t % 10):\n",
    "    x = np.atleast_2d(self.pulled_arms).T\n",
    "    ind_clicks = [(2*i) for i in range(int(len(self.collected_rewards)/2)) ]\n",
    "    ind_costs = [(2*i+1) for i in range(int(len(self.collected_rewards)/2)) ]\n",
    "    y_clicks = self.collected_rewards[ind_clicks]\n",
    "    y_costs = self.collected_rewards[ind_costs]\n",
    "    # fit the GP\n",
    "    if len(y_clicks) > 1: \n",
    "      self.gp_clicks.fit(x,y_clicks)\n",
    "      self.gp_costs.fit(x,y_costs)\n",
    "      # update values of means and sigmas with the new predictions\n",
    "      self.means_clicks, self.sigmas_clicks = self.gp_clicks.predict(np.atleast_2d(self.arms).T, return_std = True)\n",
    "      self.means_costs, self.sigmas_costs = self.gp_costs.predict(np.atleast_2d(self.arms).T, return_std = True)\n",
    "      self.sigmas_clicks = np.maximum(self.sigmas_clicks, 1e-2)  # force sigmas > 0\n",
    "      self.sigmas_costs = np.maximum(self.sigmas_costs, 1e-2)  # force sigmas > 0\n",
    "\n",
    "  # functions that calls the functions implemented above (reward[0]: n_clicks, reward[1]: costs)\n",
    "  def update(self, pulled_arm, reward):\n",
    "    self.t += 1\n",
    "    self.update_observations(pulled_arm, reward)\n",
    "    self.collected_clicks = np.append(self.collected_clicks,reward[0])\n",
    "    self.collected_costs = np.append(self.collected_costs,reward[1])\n",
    "    self.update_model()\n",
    "\n",
    "  # function in which the learner chooses the arm to pull at each round\n",
    "  def pull_arm(self, opt_ratexprice):\n",
    "    # returns index of the maximum value drawn from the arm normal distribution\n",
    "    sampled_clicks = self.means_clicks + self.sigmas_clicks\n",
    "    sampled_costs = self.means_costs - self.sigmas_costs\n",
    "    return np.argmax(opt_ratexprice*sampled_clicks - sampled_costs)"
   ]
  },
  {
   "cell_type": "markdown",
   "metadata": {
    "id": "zWucpWCHhTci"
   },
   "source": [
    "## Simulation"
   ]
  },
  {
   "cell_type": "code",
   "execution_count": 77,
   "metadata": {
    "id": "HHBYQJ68hKQT"
   },
   "outputs": [],
   "source": [
    "import matplotlib.pyplot as plt\n",
    "from tqdm import tqdm"
   ]
  },
  {
   "cell_type": "code",
   "execution_count": 78,
   "metadata": {
    "id": "lgiMX_uahrbZ"
   },
   "outputs": [],
   "source": [
    "# generic\n",
    "T = 365                                # horizon of experiment\n",
    "n_experiments = 10                    # since the reward functions are stochastic, to better visualize the results and remove the noise we do multiple experiments"
   ]
  },
  {
   "cell_type": "code",
   "execution_count": 79,
   "metadata": {
    "colab": {
     "base_uri": "https://localhost:8080/"
    },
    "id": "rp7Fw22Fha3F",
    "outputId": "5256df1c-15c3-47a3-aa31-0d348b4cbee6"
   },
   "outputs": [
    {
     "name": "stdout",
     "output_type": "stream",
     "text": [
      "Pricing (optimal price):\n",
      "idx: 3  price: 8  rate: 0.35  price*rate: 2.8\n"
     ]
    }
   ],
   "source": [
    "# pricing\n",
    "n_prices = 5\n",
    "prices = [5,6,7,8,9]\n",
    "p = np.array([0.15,0.1,0.1,0.35,0.1])             # bernoulli distributions for the reward functions\n",
    "opt_rate = p[np.argmax(p*prices)]                 # optimal arm\n",
    "print(\"Pricing (optimal price):\")\n",
    "print(\"idx: \" + str(np.argmax(p*prices)) + \"  price: \" + str(prices[np.argmax(p*prices)]) + \"  rate: \" + str(opt_rate) + \"  price*rate: \" + str(opt_rate*prices[np.argmax(p*prices)]))"
   ]
  },
  {
   "cell_type": "code",
   "execution_count": 80,
   "metadata": {
    "colab": {
     "base_uri": "https://localhost:8080/",
     "height": 466
    },
    "id": "1mbnyMJJjqQ6",
    "outputId": "1b756ba9-f6d5-4dc0-8b0d-e76f1492deff"
   },
   "outputs": [
    {
     "name": "stdout",
     "output_type": "stream",
     "text": [
      "Advertising (optimal bid):\n",
      "idx: 65  bid: 0.6565656565656566  clicks-costs: 13.794848078095768\n"
     ]
    },
    {
     "data": {
      "image/png": "[encoded data removed]",
      "text/plain": [
       "<Figure size 432x288 with 1 Axes>"
      ]
     },
     "metadata": {
      "needs_background": "light"
     },
     "output_type": "display_data"
    }
   ],
   "source": [
    "# advertising\n",
    "n_bids = 100\n",
    "min_bid = 0.0\n",
    "max_bid = 1.0\n",
    "bids = np.linspace(min_bid, max_bid, n_bids)\n",
    "sigma_clicks = 10\n",
    "sigma_costs = 10\n",
    "def clicks(x):\n",
    "  return 100 * (1.0 - np.exp(-4*x+3*x**3))\n",
    "def costs(x):\n",
    "  return 70 * (1.0 - np.exp(-7*x))\n",
    "opt_bid = bids[np.argmax(opt_rate*prices[np.argmax(p*prices)]*clicks(bids)-costs(bids))]\n",
    "fig, ax = plt.subplots()\n",
    "ax.plot(bids,clicks(bids),'blue',bids,costs(bids),'orange')\n",
    "ax.legend([\"Number of clicks\", \"Cumulative Costs\"])\n",
    "ax.axvline(opt_bid,c='red')\n",
    "print(\"Advertising (optimal bid):\")\n",
    "print(\"idx: \" + str(np.argmax(opt_rate*prices[np.argmax(p*prices)]*clicks(bids)-costs(bids))) + \"  bid: \" + str(opt_bid) + \"  clicks-costs: \" + str(clicks(opt_bid)-costs(opt_bid)))"
   ]
  },
  {
   "cell_type": "markdown",
   "metadata": {
    "id": "PXzvIoAO_7WR"
   },
   "source": [
    "## Known pricing"
   ]
  },
  {
   "cell_type": "code",
   "execution_count": 81,
   "metadata": {
    "colab": {
     "base_uri": "https://localhost:8080/"
    },
    "id": "YvOLQjxQtZ7Q",
    "outputId": "e614d632-2bc3-4b92-abec-fafde8845789"
   },
   "outputs": [
    {
     "name": "stderr",
     "output_type": "stream",
     "text": [
      "100%|██████████████████████████████████████████████████████████████████████████████████████████████████████████████████████████████████████████████████████████████████████████████| 10/10 [01:54<00:00, 11.48s/it]\n"
     ]
    }
   ],
   "source": [
    "# experiments\n",
    "gpts_rewards_per_experiment = []\n",
    "gpucb_rewards_per_experiment = []\n",
    "\n",
    "for e in tqdm(range(0,n_experiments)):  # cycle on experiments\n",
    "  env = Environment(n_arms = n_prices,\n",
    "                    probabilities = p,\n",
    "                    bids = bids,\n",
    "                    average_number_of_clicks = clicks,\n",
    "                    average_cum_daily_cost = costs,\n",
    "                    noise_clicks = sigma_clicks,\n",
    "                    noise_cost = sigma_costs)\n",
    "  pricing_learner_gpts = TS_Pricing_Learner(n_arms = n_prices,\n",
    "                                            prices = prices)\n",
    "  pricing_learner_gpucb = TS_Pricing_Learner(n_arms = n_prices,\n",
    "                                            prices = prices)\n",
    "  gpts_learner = GPTS_Learner(n_arms = n_bids,\n",
    "                              arms = bids)\n",
    "  gpucb_learner = GPUCB_Learner(n_arms = n_bids,\n",
    "                                arms = bids)\n",
    "\n",
    "\n",
    "\n",
    "  for t in range(0,T):  # cycle on time horizon\n",
    "    \n",
    "    # GPTS\n",
    "    pulled_price_ts, opt_pricexrate_ts = pricing_learner_gpts.pull_arm()\n",
    "    pulled_bid_ts = gpts_learner.pull_arm(opt_pricexrate_ts)\n",
    "    reward_price_ts, reward_click_ts, reward_cost_ts = env.round(pulled_price_ts, pulled_bid_ts)\n",
    "    gpts_learner.update(pulled_bid_ts, [reward_click_ts,reward_cost_ts])\n",
    "    pricing_learner_gpts.update(pulled_price_ts, reward_price_ts, reward_click_ts)\n",
    "\n",
    "    # GPUCB\n",
    "    pulled_price_ucb, opt_pricexrate_ucb = pricing_learner_gpucb.pull_arm()\n",
    "    pulled_bid_ucb = gpucb_learner.pull_arm(opt_pricexrate_ucb)\n",
    "    reward_price_ucb, reward_click_ucb, reward_cost_ucb = env.round(pulled_price_ucb, pulled_bid_ucb)\n",
    "    gpucb_learner.update(pulled_bid_ucb, [reward_click_ucb,reward_cost_ucb])\n",
    "    pricing_learner_gpucb.update(pulled_price_ucb, reward_price_ucb, reward_click_ucb)\n",
    "\n",
    "  gpts_rewards_per_experiment.append(pricing_learner_gpts.actual_reward*gpts_learner.collected_clicks - gpts_learner.collected_costs)\n",
    "  gpucb_rewards_per_experiment.append(pricing_learner_gpucb.actual_reward*gpucb_learner.collected_clicks - gpucb_learner.collected_costs)\n",
    "\n"
   ]
  },
  {
   "cell_type": "code",
   "execution_count": 82,
   "metadata": {
    "id": "wH7emrj624DO"
   },
   "outputs": [
    {
     "data": {
      "text/plain": [
       "<function matplotlib.pyplot.show(close=None, block=None)>"
      ]
     },
     "execution_count": 82,
     "metadata": {},
     "output_type": "execute_result"
    },
    {
     "data": {
      "image/png": "[encoded data removed]",
      "text/plain": [
       "<Figure size 432x288 with 1 Axes>"
      ]
     },
     "metadata": {
      "needs_background": "light"
     },
     "output_type": "display_data"
    }
   ],
   "source": [
    "opt = opt_rate*prices[np.argmax(p*prices)]*clicks(opt_bid) - costs(opt_bid)\n",
    "plt.figure(0)\n",
    "plt.ylabel(\"Regret\")\n",
    "plt.xlabel(\"t\")\n",
    "plt.plot(np.cumsum(np.mean(opt - gpts_rewards_per_experiment, axis = 0)), 'r')\n",
    "plt.plot(np.cumsum(np.mean(opt - gpucb_rewards_per_experiment, axis = 0)), 'b')\n",
    "plt.legend([\"GPTS\",\"GPUCB\"])\n",
    "plt.show"
   ]
  }
 ],
 "metadata": {
  "colab": {
   "provenance": []
  },
  "kernelspec": {
   "display_name": "Python 3 (ipykernel)",
   "language": "python",
   "name": "python3"
  },
  "language_info": {
   "codemirror_mode": {
    "name": "ipython",
    "version": 3
   },
   "file_extension": ".py",
   "mimetype": "text/x-python",
   "name": "python",
   "nbconvert_exporter": "python",
   "pygments_lexer": "ipython3",
   "version": "3.10.6"
  }
 },
 "nbformat": 4,
 "nbformat_minor": 1
}
